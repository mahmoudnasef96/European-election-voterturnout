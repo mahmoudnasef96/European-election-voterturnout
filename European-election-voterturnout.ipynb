{
 "cells": [
  {
   "cell_type": "markdown",
   "metadata": {},
   "source": [
    "## Voter turnout among total voting age population for European elections"
   ]
  },
  {
   "cell_type": "markdown",
   "metadata": {},
   "source": [
    "Voter turnout: European Parliament\n",
    "\n",
    "URL:\n",
    "https://election-results.eu/tools/download-datasheets/"
   ]
  },
  {
   "cell_type": "code",
   "execution_count": 46,
   "metadata": {},
   "outputs": [
    {
     "data": {
      "text/html": [
       "        <script type=\"text/javascript\">\n",
       "        window.PlotlyConfig = {MathJaxConfig: 'local'};\n",
       "        if (window.MathJax) {MathJax.Hub.Config({SVG: {font: \"STIX-Web\"}});}\n",
       "        if (typeof require !== 'undefined') {\n",
       "        require.undef(\"plotly\");\n",
       "        requirejs.config({\n",
       "            paths: {\n",
       "                'plotly': ['https://cdn.plot.ly/plotly-latest.min']\n",
       "            }\n",
       "        });\n",
       "        require(['plotly'], function(Plotly) {\n",
       "            window._Plotly = Plotly;\n",
       "        });\n",
       "        }\n",
       "        </script>\n",
       "        "
      ]
     },
     "metadata": {},
     "output_type": "display_data"
    },
    {
     "data": {
      "text/html": [
       "        <script type=\"text/javascript\">\n",
       "        window.PlotlyConfig = {MathJaxConfig: 'local'};\n",
       "        if (window.MathJax) {MathJax.Hub.Config({SVG: {font: \"STIX-Web\"}});}\n",
       "        if (typeof require !== 'undefined') {\n",
       "        require.undef(\"plotly\");\n",
       "        requirejs.config({\n",
       "            paths: {\n",
       "                'plotly': ['https://cdn.plot.ly/plotly-latest.min']\n",
       "            }\n",
       "        });\n",
       "        require(['plotly'], function(Plotly) {\n",
       "            window._Plotly = Plotly;\n",
       "        });\n",
       "        }\n",
       "        </script>\n",
       "        "
      ]
     },
     "metadata": {},
     "output_type": "display_data"
    }
   ],
   "source": [
    "import pandas as pd\n",
    "import matplotlib.pyplot as plt\n",
    "from matplotlib import style\n",
    "style.use('ggplot')\n",
    "%matplotlib inline\n",
    "\n",
    "import plotly\n",
    "import plotly.express as px\n",
    "import plotly.graph_objects as go\n",
    "plt.rcParams['figure.figsize']=17,8\n",
    "import cufflinks as cf\n",
    "import plotly.offline as pyo\n",
    "from plotly.offline import init_notebook_mode,plot,iplot\n",
    "\n",
    "import folium\n",
    "pyo.init_notebook_mode(connected=True)\n",
    "cf.go_offline()\n",
    "\n"
   ]
  },
  {
   "cell_type": "code",
   "execution_count": 18,
   "metadata": {
    "scrolled": false
   },
   "outputs": [
    {
     "data": {
      "text/html": [
       "<div>\n",
       "<style scoped>\n",
       "    .dataframe tbody tr th:only-of-type {\n",
       "        vertical-align: middle;\n",
       "    }\n",
       "\n",
       "    .dataframe tbody tr th {\n",
       "        vertical-align: top;\n",
       "    }\n",
       "\n",
       "    .dataframe thead th {\n",
       "        text-align: right;\n",
       "    }\n",
       "</style>\n",
       "<table border=\"1\" class=\"dataframe\">\n",
       "  <thead>\n",
       "    <tr style=\"text-align: right;\">\n",
       "      <th></th>\n",
       "      <th>YEAR</th>\n",
       "      <th>COUNTRY_ID</th>\n",
       "      <th>RATE</th>\n",
       "      <th>UPDATE_STATUS</th>\n",
       "      <th>UPDATE_TIME</th>\n",
       "    </tr>\n",
       "  </thead>\n",
       "  <tbody>\n",
       "    <tr>\n",
       "      <th>0</th>\n",
       "      <td>1979</td>\n",
       "      <td>BE</td>\n",
       "      <td>91.36</td>\n",
       "      <td>FINAL</td>\n",
       "      <td>NaN</td>\n",
       "    </tr>\n",
       "    <tr>\n",
       "      <th>1</th>\n",
       "      <td>1979</td>\n",
       "      <td>DK</td>\n",
       "      <td>47.82</td>\n",
       "      <td>FINAL</td>\n",
       "      <td>NaN</td>\n",
       "    </tr>\n",
       "    <tr>\n",
       "      <th>2</th>\n",
       "      <td>1979</td>\n",
       "      <td>DE</td>\n",
       "      <td>65.73</td>\n",
       "      <td>FINAL</td>\n",
       "      <td>NaN</td>\n",
       "    </tr>\n",
       "    <tr>\n",
       "      <th>3</th>\n",
       "      <td>1979</td>\n",
       "      <td>IE</td>\n",
       "      <td>63.61</td>\n",
       "      <td>FINAL</td>\n",
       "      <td>NaN</td>\n",
       "    </tr>\n",
       "    <tr>\n",
       "      <th>4</th>\n",
       "      <td>1979</td>\n",
       "      <td>FR</td>\n",
       "      <td>60.71</td>\n",
       "      <td>FINAL</td>\n",
       "      <td>NaN</td>\n",
       "    </tr>\n",
       "    <tr>\n",
       "      <th>...</th>\n",
       "      <td>...</td>\n",
       "      <td>...</td>\n",
       "      <td>...</td>\n",
       "      <td>...</td>\n",
       "      <td>...</td>\n",
       "    </tr>\n",
       "    <tr>\n",
       "      <th>170</th>\n",
       "      <td>2019</td>\n",
       "      <td>SK</td>\n",
       "      <td>22.74</td>\n",
       "      <td>FINAL</td>\n",
       "      <td>2019-05-27 01:28</td>\n",
       "    </tr>\n",
       "    <tr>\n",
       "      <th>171</th>\n",
       "      <td>2019</td>\n",
       "      <td>FI</td>\n",
       "      <td>40.70</td>\n",
       "      <td>FINAL</td>\n",
       "      <td>2019-05-26 22:51</td>\n",
       "    </tr>\n",
       "    <tr>\n",
       "      <th>172</th>\n",
       "      <td>2019</td>\n",
       "      <td>SE</td>\n",
       "      <td>53.30</td>\n",
       "      <td>PROVISIONAL</td>\n",
       "      <td>2019-05-27 01:28</td>\n",
       "    </tr>\n",
       "    <tr>\n",
       "      <th>173</th>\n",
       "      <td>2019</td>\n",
       "      <td>UK</td>\n",
       "      <td>37.00</td>\n",
       "      <td>PROVISIONAL</td>\n",
       "      <td>2019-05-26 23:51</td>\n",
       "    </tr>\n",
       "    <tr>\n",
       "      <th>174</th>\n",
       "      <td>2019</td>\n",
       "      <td>HR</td>\n",
       "      <td>29.65</td>\n",
       "      <td>PROVISIONAL</td>\n",
       "      <td>2019-05-27 00:18</td>\n",
       "    </tr>\n",
       "  </tbody>\n",
       "</table>\n",
       "<p>175 rows × 5 columns</p>\n",
       "</div>"
      ],
      "text/plain": [
       "     YEAR COUNTRY_ID   RATE UPDATE_STATUS       UPDATE_TIME\n",
       "0    1979         BE  91.36         FINAL               NaN\n",
       "1    1979         DK  47.82         FINAL               NaN\n",
       "2    1979         DE  65.73         FINAL               NaN\n",
       "3    1979         IE  63.61         FINAL               NaN\n",
       "4    1979         FR  60.71         FINAL               NaN\n",
       "..    ...        ...    ...           ...               ...\n",
       "170  2019         SK  22.74         FINAL  2019-05-27 01:28\n",
       "171  2019         FI  40.70         FINAL  2019-05-26 22:51\n",
       "172  2019         SE  53.30   PROVISIONAL  2019-05-27 01:28\n",
       "173  2019         UK  37.00   PROVISIONAL  2019-05-26 23:51\n",
       "174  2019         HR  29.65   PROVISIONAL  2019-05-27 00:18\n",
       "\n",
       "[175 rows x 5 columns]"
      ]
     },
     "execution_count": 18,
     "metadata": {},
     "output_type": "execute_result"
    }
   ],
   "source": [
    "turnout = pd.read_csv('data/turnout-country.csv', delimiter=\";\")\n",
    "turnout"
   ]
  },
  {
   "cell_type": "code",
   "execution_count": 100,
   "metadata": {},
   "outputs": [
    {
     "data": {
      "application/vnd.plotly.v1+json": {
       "config": {
        "plotlyServerURL": "https://plot.ly"
       },
       "data": [
        {
         "hovertemplate": "COUNTRY_ID=BE<br>YEAR=%{x}<br>RATE=%{y}<extra></extra>",
         "legendgroup": "",
         "marker": {
          "color": "#636efa",
          "symbol": "circle"
         },
         "mode": "lines+markers",
         "name": "",
         "orientation": "v",
         "showlegend": false,
         "type": "scatter",
         "x": [
          1979,
          1984,
          1989,
          1994,
          1999,
          2004,
          2009,
          2014,
          2019
         ],
         "xaxis": "x25",
         "y": [
          91.36,
          92.09,
          90.73,
          90.66,
          91.05,
          90.81,
          90.39,
          89.64,
          89
         ],
         "yaxis": "y25"
        },
        {
         "hovertemplate": "COUNTRY_ID=DK<br>YEAR=%{x}<br>RATE=%{y}<extra></extra>",
         "legendgroup": "",
         "marker": {
          "color": "#636efa",
          "symbol": "circle"
         },
         "mode": "lines+markers",
         "name": "",
         "orientation": "v",
         "showlegend": false,
         "type": "scatter",
         "x": [
          1979,
          1984,
          1989,
          1994,
          1999,
          2004,
          2009,
          2014,
          2019
         ],
         "xaxis": "x26",
         "y": [
          47.82,
          52.38,
          46.17,
          52.92,
          50.46,
          47.89,
          59.54,
          56.32,
          66
         ],
         "yaxis": "y26"
        },
        {
         "hovertemplate": "COUNTRY_ID=DE<br>YEAR=%{x}<br>RATE=%{y}<extra></extra>",
         "legendgroup": "",
         "marker": {
          "color": "#636efa",
          "symbol": "circle"
         },
         "mode": "lines+markers",
         "name": "",
         "orientation": "v",
         "showlegend": false,
         "type": "scatter",
         "x": [
          1979,
          1984,
          1989,
          1994,
          1999,
          2004,
          2009,
          2014,
          2019
         ],
         "xaxis": "x27",
         "y": [
          65.73,
          56.76,
          62.28,
          60.02,
          45.19,
          43,
          43.27,
          48.1,
          61.5
         ],
         "yaxis": "y27"
        },
        {
         "hovertemplate": "COUNTRY_ID=IE<br>YEAR=%{x}<br>RATE=%{y}<extra></extra>",
         "legendgroup": "",
         "marker": {
          "color": "#636efa",
          "symbol": "circle"
         },
         "mode": "lines+markers",
         "name": "",
         "orientation": "v",
         "showlegend": false,
         "type": "scatter",
         "x": [
          1979,
          1984,
          1989,
          1994,
          1999,
          2004,
          2009,
          2014,
          2019
         ],
         "xaxis": "x28",
         "y": [
          63.61,
          47.56,
          68.28,
          43.98,
          50.21,
          58.58,
          58.64,
          52.44,
          49.3
         ],
         "yaxis": "y28"
        },
        {
         "hovertemplate": "COUNTRY_ID=FR<br>YEAR=%{x}<br>RATE=%{y}<extra></extra>",
         "legendgroup": "",
         "marker": {
          "color": "#636efa",
          "symbol": "circle"
         },
         "mode": "lines+markers",
         "name": "",
         "orientation": "v",
         "showlegend": false,
         "type": "scatter",
         "x": [
          1979,
          1984,
          1989,
          1994,
          1999,
          2004,
          2009,
          2014,
          2019
         ],
         "xaxis": "x21",
         "y": [
          60.71,
          56.72,
          48.8,
          52.71,
          46.76,
          42.76,
          40.63,
          42.43,
          50.97
         ],
         "yaxis": "y21"
        },
        {
         "hovertemplate": "COUNTRY_ID=IT<br>YEAR=%{x}<br>RATE=%{y}<extra></extra>",
         "legendgroup": "",
         "marker": {
          "color": "#636efa",
          "symbol": "circle"
         },
         "mode": "lines+markers",
         "name": "",
         "orientation": "v",
         "showlegend": false,
         "type": "scatter",
         "x": [
          1979,
          1984,
          1989,
          1994,
          1999,
          2004,
          2009,
          2014,
          2019
         ],
         "xaxis": "x22",
         "y": [
          85.65,
          82.47,
          81.07,
          73.6,
          69.76,
          71.72,
          66.47,
          57.22,
          56.09
         ],
         "yaxis": "y22"
        },
        {
         "hovertemplate": "COUNTRY_ID=LU<br>YEAR=%{x}<br>RATE=%{y}<extra></extra>",
         "legendgroup": "",
         "marker": {
          "color": "#636efa",
          "symbol": "circle"
         },
         "mode": "lines+markers",
         "name": "",
         "orientation": "v",
         "showlegend": false,
         "type": "scatter",
         "x": [
          1979,
          1984,
          1989,
          1994,
          1999,
          2004,
          2009,
          2014,
          2019
         ],
         "xaxis": "x23",
         "y": [
          88.91,
          88.79,
          87.39,
          88.55,
          87.27,
          91.35,
          90.76,
          85.55,
          84.1
         ],
         "yaxis": "y23"
        },
        {
         "hovertemplate": "COUNTRY_ID=NL<br>YEAR=%{x}<br>RATE=%{y}<extra></extra>",
         "legendgroup": "",
         "marker": {
          "color": "#636efa",
          "symbol": "circle"
         },
         "mode": "lines+markers",
         "name": "",
         "orientation": "v",
         "showlegend": false,
         "type": "scatter",
         "x": [
          1979,
          1984,
          1989,
          1994,
          1999,
          2004,
          2009,
          2014,
          2019
         ],
         "xaxis": "x24",
         "y": [
          58.12,
          50.88,
          47.48,
          35.69,
          30.02,
          39.26,
          36.75,
          37.32,
          41.8
         ],
         "yaxis": "y24"
        },
        {
         "hovertemplate": "COUNTRY_ID=UK<br>YEAR=%{x}<br>RATE=%{y}<extra></extra>",
         "legendgroup": "",
         "marker": {
          "color": "#636efa",
          "symbol": "circle"
         },
         "mode": "lines+markers",
         "name": "",
         "orientation": "v",
         "showlegend": false,
         "type": "scatter",
         "x": [
          1979,
          1984,
          1989,
          1994,
          1999,
          2004,
          2009,
          2014,
          2019
         ],
         "xaxis": "x17",
         "y": [
          32.35,
          32.57,
          36.37,
          36.43,
          24,
          38.52,
          34.7,
          35.6,
          37
         ],
         "yaxis": "y17"
        },
        {
         "hovertemplate": "COUNTRY_ID=EL<br>YEAR=%{x}<br>RATE=%{y}<extra></extra>",
         "legendgroup": "",
         "marker": {
          "color": "#636efa",
          "symbol": "circle"
         },
         "mode": "lines+markers",
         "name": "",
         "orientation": "v",
         "showlegend": false,
         "type": "scatter",
         "x": [
          1981,
          1984,
          1989,
          1994,
          1999,
          2004,
          2009,
          2014,
          2019
         ],
         "xaxis": "x18",
         "y": [
          81.48,
          80.59,
          80.03,
          73.18,
          70.25,
          63.22,
          52.54,
          59.97,
          57.86
         ],
         "yaxis": "y18"
        },
        {
         "hovertemplate": "COUNTRY_ID=ES<br>YEAR=%{x}<br>RATE=%{y}<extra></extra>",
         "legendgroup": "",
         "marker": {
          "color": "#636efa",
          "symbol": "circle"
         },
         "mode": "lines+markers",
         "name": "",
         "orientation": "v",
         "showlegend": false,
         "type": "scatter",
         "x": [
          1987,
          1989,
          1994,
          1999,
          2004,
          2009,
          2014,
          2019
         ],
         "xaxis": "x19",
         "y": [
          68.52,
          54.71,
          59.14,
          63.05,
          45.14,
          44.87,
          43.81,
          64.32
         ],
         "yaxis": "y19"
        },
        {
         "hovertemplate": "COUNTRY_ID=PT<br>YEAR=%{x}<br>RATE=%{y}<extra></extra>",
         "legendgroup": "",
         "marker": {
          "color": "#636efa",
          "symbol": "circle"
         },
         "mode": "lines+markers",
         "name": "",
         "orientation": "v",
         "showlegend": false,
         "type": "scatter",
         "x": [
          1987,
          1989,
          1994,
          1999,
          2004,
          2009,
          2014,
          2019
         ],
         "xaxis": "x20",
         "y": [
          72.42,
          51.1,
          35.54,
          39.93,
          38.6,
          36.77,
          33.67,
          31.01
         ],
         "yaxis": "y20"
        },
        {
         "hovertemplate": "COUNTRY_ID=SE<br>YEAR=%{x}<br>RATE=%{y}<extra></extra>",
         "legendgroup": "",
         "marker": {
          "color": "#636efa",
          "symbol": "circle"
         },
         "mode": "lines+markers",
         "name": "",
         "orientation": "v",
         "showlegend": false,
         "type": "scatter",
         "x": [
          1995,
          1999,
          2004,
          2009,
          2014,
          2019
         ],
         "xaxis": "x13",
         "y": [
          41.63,
          38.84,
          37.85,
          45.53,
          51.07,
          53.3
         ],
         "yaxis": "y13"
        },
        {
         "hovertemplate": "COUNTRY_ID=AT<br>YEAR=%{x}<br>RATE=%{y}<extra></extra>",
         "legendgroup": "",
         "marker": {
          "color": "#636efa",
          "symbol": "circle"
         },
         "mode": "lines+markers",
         "name": "",
         "orientation": "v",
         "showlegend": false,
         "type": "scatter",
         "x": [
          1996,
          1999,
          2004,
          2009,
          2014,
          2019
         ],
         "xaxis": "x14",
         "y": [
          67.73,
          49.4,
          42.43,
          45.97,
          45.39,
          59.3
         ],
         "yaxis": "y14"
        },
        {
         "hovertemplate": "COUNTRY_ID=FI<br>YEAR=%{x}<br>RATE=%{y}<extra></extra>",
         "legendgroup": "",
         "marker": {
          "color": "#636efa",
          "symbol": "circle"
         },
         "mode": "lines+markers",
         "name": "",
         "orientation": "v",
         "showlegend": false,
         "type": "scatter",
         "x": [
          1996,
          1999,
          2004,
          2009,
          2014,
          2019
         ],
         "xaxis": "x15",
         "y": [
          57.6,
          30.14,
          39.43,
          38.6,
          39.1,
          40.7
         ],
         "yaxis": "y15"
        },
        {
         "hovertemplate": "COUNTRY_ID=CZ<br>YEAR=%{x}<br>RATE=%{y}<extra></extra>",
         "legendgroup": "",
         "marker": {
          "color": "#636efa",
          "symbol": "circle"
         },
         "mode": "lines+markers",
         "name": "",
         "orientation": "v",
         "showlegend": false,
         "type": "scatter",
         "x": [
          2004,
          2009,
          2014,
          2019
         ],
         "xaxis": "x16",
         "y": [
          28.3,
          28.22,
          18.2,
          28.72
         ],
         "yaxis": "y16"
        },
        {
         "hovertemplate": "COUNTRY_ID=EE<br>YEAR=%{x}<br>RATE=%{y}<extra></extra>",
         "legendgroup": "",
         "marker": {
          "color": "#636efa",
          "symbol": "circle"
         },
         "mode": "lines+markers",
         "name": "",
         "orientation": "v",
         "showlegend": false,
         "type": "scatter",
         "x": [
          2004,
          2009,
          2014,
          2019
         ],
         "xaxis": "x9",
         "y": [
          26.83,
          43.9,
          36.52,
          37.6
         ],
         "yaxis": "y9"
        },
        {
         "hovertemplate": "COUNTRY_ID=CY<br>YEAR=%{x}<br>RATE=%{y}<extra></extra>",
         "legendgroup": "",
         "marker": {
          "color": "#636efa",
          "symbol": "circle"
         },
         "mode": "lines+markers",
         "name": "",
         "orientation": "v",
         "showlegend": false,
         "type": "scatter",
         "x": [
          2004,
          2009,
          2014,
          2019
         ],
         "xaxis": "x10",
         "y": [
          72.5,
          59.4,
          43.97,
          44.99
         ],
         "yaxis": "y10"
        },
        {
         "hovertemplate": "COUNTRY_ID=LT<br>YEAR=%{x}<br>RATE=%{y}<extra></extra>",
         "legendgroup": "",
         "marker": {
          "color": "#636efa",
          "symbol": "circle"
         },
         "mode": "lines+markers",
         "name": "",
         "orientation": "v",
         "showlegend": false,
         "type": "scatter",
         "x": [
          2004,
          2009,
          2014,
          2019
         ],
         "xaxis": "x11",
         "y": [
          48.38,
          20.98,
          47.35,
          52.88
         ],
         "yaxis": "y11"
        },
        {
         "hovertemplate": "COUNTRY_ID=LV<br>YEAR=%{x}<br>RATE=%{y}<extra></extra>",
         "legendgroup": "",
         "marker": {
          "color": "#636efa",
          "symbol": "circle"
         },
         "mode": "lines+markers",
         "name": "",
         "orientation": "v",
         "showlegend": false,
         "type": "scatter",
         "x": [
          2004,
          2009,
          2014,
          2019
         ],
         "xaxis": "x12",
         "y": [
          41.34,
          53.7,
          30.24,
          33.6
         ],
         "yaxis": "y12"
        },
        {
         "hovertemplate": "COUNTRY_ID=HU<br>YEAR=%{x}<br>RATE=%{y}<extra></extra>",
         "legendgroup": "",
         "marker": {
          "color": "#636efa",
          "symbol": "circle"
         },
         "mode": "lines+markers",
         "name": "",
         "orientation": "v",
         "showlegend": false,
         "type": "scatter",
         "x": [
          2004,
          2009,
          2014,
          2019
         ],
         "xaxis": "x5",
         "y": [
          38.5,
          36.31,
          28.97,
          43.36
         ],
         "yaxis": "y5"
        },
        {
         "hovertemplate": "COUNTRY_ID=MT<br>YEAR=%{x}<br>RATE=%{y}<extra></extra>",
         "legendgroup": "",
         "marker": {
          "color": "#636efa",
          "symbol": "circle"
         },
         "mode": "lines+markers",
         "name": "",
         "orientation": "v",
         "showlegend": false,
         "type": "scatter",
         "x": [
          2004,
          2009,
          2014,
          2019
         ],
         "xaxis": "x6",
         "y": [
          82.39,
          78.79,
          74.8,
          72.6
         ],
         "yaxis": "y6"
        },
        {
         "hovertemplate": "COUNTRY_ID=PL<br>YEAR=%{x}<br>RATE=%{y}<extra></extra>",
         "legendgroup": "",
         "marker": {
          "color": "#636efa",
          "symbol": "circle"
         },
         "mode": "lines+markers",
         "name": "",
         "orientation": "v",
         "showlegend": false,
         "type": "scatter",
         "x": [
          2004,
          2009,
          2014,
          2019
         ],
         "xaxis": "x7",
         "y": [
          20.87,
          24.53,
          23.83,
          43
         ],
         "yaxis": "y7"
        },
        {
         "hovertemplate": "COUNTRY_ID=SI<br>YEAR=%{x}<br>RATE=%{y}<extra></extra>",
         "legendgroup": "",
         "marker": {
          "color": "#636efa",
          "symbol": "circle"
         },
         "mode": "lines+markers",
         "name": "",
         "orientation": "v",
         "showlegend": false,
         "type": "scatter",
         "x": [
          2004,
          2009,
          2014,
          2019
         ],
         "xaxis": "x8",
         "y": [
          28.35,
          28.37,
          24.55,
          28.29
         ],
         "yaxis": "y8"
        },
        {
         "hovertemplate": "COUNTRY_ID=SK<br>YEAR=%{x}<br>RATE=%{y}<extra></extra>",
         "legendgroup": "",
         "marker": {
          "color": "#636efa",
          "symbol": "circle"
         },
         "mode": "lines+markers",
         "name": "",
         "orientation": "v",
         "showlegend": false,
         "type": "scatter",
         "x": [
          2004,
          2009,
          2014,
          2019
         ],
         "xaxis": "x",
         "y": [
          16.97,
          19.64,
          13.05,
          22.74
         ],
         "yaxis": "y"
        },
        {
         "hovertemplate": "COUNTRY_ID=BG<br>YEAR=%{x}<br>RATE=%{y}<extra></extra>",
         "legendgroup": "",
         "marker": {
          "color": "#636efa",
          "symbol": "circle"
         },
         "mode": "lines+markers",
         "name": "",
         "orientation": "v",
         "showlegend": false,
         "type": "scatter",
         "x": [
          2007,
          2009,
          2014,
          2019
         ],
         "xaxis": "x2",
         "y": [
          29.22,
          38.99,
          35.84,
          30.83
         ],
         "yaxis": "y2"
        },
        {
         "hovertemplate": "COUNTRY_ID=RO<br>YEAR=%{x}<br>RATE=%{y}<extra></extra>",
         "legendgroup": "",
         "marker": {
          "color": "#636efa",
          "symbol": "circle"
         },
         "mode": "lines+markers",
         "name": "",
         "orientation": "v",
         "showlegend": false,
         "type": "scatter",
         "x": [
          2007,
          2009,
          2014,
          2019
         ],
         "xaxis": "x3",
         "y": [
          29.47,
          27.67,
          32.44,
          49.02
         ],
         "yaxis": "y3"
        },
        {
         "hovertemplate": "COUNTRY_ID=HR<br>YEAR=%{x}<br>RATE=%{y}<extra></extra>",
         "legendgroup": "",
         "marker": {
          "color": "#636efa",
          "symbol": "circle"
         },
         "mode": "lines+markers",
         "name": "",
         "orientation": "v",
         "showlegend": false,
         "type": "scatter",
         "x": [
          2013,
          2014,
          2019
         ],
         "xaxis": "x4",
         "y": [
          20.84,
          25.24,
          29.65
         ],
         "yaxis": "y4"
        }
       ],
       "layout": {
        "annotations": [
         {
          "font": {},
          "showarrow": false,
          "text": "SK",
          "x": 0.11,
          "xanchor": "center",
          "xref": "paper",
          "y": 0.10857142857142857,
          "yanchor": "bottom",
          "yref": "paper"
         },
         {
          "font": {},
          "showarrow": false,
          "text": "BG",
          "x": 0.37,
          "xanchor": "center",
          "xref": "paper",
          "y": 0.10857142857142857,
          "yanchor": "bottom",
          "yref": "paper"
         },
         {
          "font": {},
          "showarrow": false,
          "text": "RO",
          "x": 0.63,
          "xanchor": "center",
          "xref": "paper",
          "y": 0.10857142857142857,
          "yanchor": "bottom",
          "yref": "paper"
         },
         {
          "font": {},
          "showarrow": false,
          "text": "HR",
          "x": 0.89,
          "xanchor": "center",
          "xref": "paper",
          "y": 0.10857142857142857,
          "yanchor": "bottom",
          "yref": "paper"
         },
         {
          "font": {},
          "showarrow": false,
          "text": "HU",
          "x": 0.11,
          "xanchor": "center",
          "xref": "paper",
          "y": 0.2571428571428571,
          "yanchor": "bottom",
          "yref": "paper"
         },
         {
          "font": {},
          "showarrow": false,
          "text": "MT",
          "x": 0.37,
          "xanchor": "center",
          "xref": "paper",
          "y": 0.2571428571428571,
          "yanchor": "bottom",
          "yref": "paper"
         },
         {
          "font": {},
          "showarrow": false,
          "text": "PL",
          "x": 0.63,
          "xanchor": "center",
          "xref": "paper",
          "y": 0.2571428571428571,
          "yanchor": "bottom",
          "yref": "paper"
         },
         {
          "font": {},
          "showarrow": false,
          "text": "SI",
          "x": 0.89,
          "xanchor": "center",
          "xref": "paper",
          "y": 0.2571428571428571,
          "yanchor": "bottom",
          "yref": "paper"
         },
         {
          "font": {},
          "showarrow": false,
          "text": "EE",
          "x": 0.11,
          "xanchor": "center",
          "xref": "paper",
          "y": 0.4057142857142857,
          "yanchor": "bottom",
          "yref": "paper"
         },
         {
          "font": {},
          "showarrow": false,
          "text": "CY",
          "x": 0.37,
          "xanchor": "center",
          "xref": "paper",
          "y": 0.4057142857142857,
          "yanchor": "bottom",
          "yref": "paper"
         },
         {
          "font": {},
          "showarrow": false,
          "text": "LT",
          "x": 0.63,
          "xanchor": "center",
          "xref": "paper",
          "y": 0.4057142857142857,
          "yanchor": "bottom",
          "yref": "paper"
         },
         {
          "font": {},
          "showarrow": false,
          "text": "LV",
          "x": 0.89,
          "xanchor": "center",
          "xref": "paper",
          "y": 0.4057142857142857,
          "yanchor": "bottom",
          "yref": "paper"
         },
         {
          "font": {},
          "showarrow": false,
          "text": "SE",
          "x": 0.11,
          "xanchor": "center",
          "xref": "paper",
          "y": 0.5542857142857143,
          "yanchor": "bottom",
          "yref": "paper"
         },
         {
          "font": {},
          "showarrow": false,
          "text": "AT",
          "x": 0.37,
          "xanchor": "center",
          "xref": "paper",
          "y": 0.5542857142857143,
          "yanchor": "bottom",
          "yref": "paper"
         },
         {
          "font": {},
          "showarrow": false,
          "text": "FI",
          "x": 0.63,
          "xanchor": "center",
          "xref": "paper",
          "y": 0.5542857142857143,
          "yanchor": "bottom",
          "yref": "paper"
         },
         {
          "font": {},
          "showarrow": false,
          "text": "CZ",
          "x": 0.89,
          "xanchor": "center",
          "xref": "paper",
          "y": 0.5542857142857143,
          "yanchor": "bottom",
          "yref": "paper"
         },
         {
          "font": {},
          "showarrow": false,
          "text": "UK",
          "x": 0.11,
          "xanchor": "center",
          "xref": "paper",
          "y": 0.7028571428571428,
          "yanchor": "bottom",
          "yref": "paper"
         },
         {
          "font": {},
          "showarrow": false,
          "text": "EL",
          "x": 0.37,
          "xanchor": "center",
          "xref": "paper",
          "y": 0.7028571428571428,
          "yanchor": "bottom",
          "yref": "paper"
         },
         {
          "font": {},
          "showarrow": false,
          "text": "ES",
          "x": 0.63,
          "xanchor": "center",
          "xref": "paper",
          "y": 0.7028571428571428,
          "yanchor": "bottom",
          "yref": "paper"
         },
         {
          "font": {},
          "showarrow": false,
          "text": "PT",
          "x": 0.89,
          "xanchor": "center",
          "xref": "paper",
          "y": 0.7028571428571428,
          "yanchor": "bottom",
          "yref": "paper"
         },
         {
          "font": {},
          "showarrow": false,
          "text": "FR",
          "x": 0.11,
          "xanchor": "center",
          "xref": "paper",
          "y": 0.8514285714285714,
          "yanchor": "bottom",
          "yref": "paper"
         },
         {
          "font": {},
          "showarrow": false,
          "text": "IT",
          "x": 0.37,
          "xanchor": "center",
          "xref": "paper",
          "y": 0.8514285714285714,
          "yanchor": "bottom",
          "yref": "paper"
         },
         {
          "font": {},
          "showarrow": false,
          "text": "LU",
          "x": 0.63,
          "xanchor": "center",
          "xref": "paper",
          "y": 0.8514285714285714,
          "yanchor": "bottom",
          "yref": "paper"
         },
         {
          "font": {},
          "showarrow": false,
          "text": "NL",
          "x": 0.89,
          "xanchor": "center",
          "xref": "paper",
          "y": 0.8514285714285714,
          "yanchor": "bottom",
          "yref": "paper"
         },
         {
          "font": {},
          "showarrow": false,
          "text": "BE",
          "x": 0.11,
          "xanchor": "center",
          "xref": "paper",
          "y": 0.9999999999999999,
          "yanchor": "bottom",
          "yref": "paper"
         },
         {
          "font": {},
          "showarrow": false,
          "text": "DK",
          "x": 0.37,
          "xanchor": "center",
          "xref": "paper",
          "y": 0.9999999999999999,
          "yanchor": "bottom",
          "yref": "paper"
         },
         {
          "font": {},
          "showarrow": false,
          "text": "DE",
          "x": 0.63,
          "xanchor": "center",
          "xref": "paper",
          "y": 0.9999999999999999,
          "yanchor": "bottom",
          "yref": "paper"
         },
         {
          "font": {},
          "showarrow": false,
          "text": "IE",
          "x": 0.89,
          "xanchor": "center",
          "xref": "paper",
          "y": 0.9999999999999999,
          "yanchor": "bottom",
          "yref": "paper"
         }
        ],
        "height": 1000,
        "legend": {
         "tracegroupgap": 0
        },
        "template": {
         "data": {
          "bar": [
           {
            "error_x": {
             "color": "#2a3f5f"
            },
            "error_y": {
             "color": "#2a3f5f"
            },
            "marker": {
             "line": {
              "color": "#E5ECF6",
              "width": 0.5
             }
            },
            "type": "bar"
           }
          ],
          "barpolar": [
           {
            "marker": {
             "line": {
              "color": "#E5ECF6",
              "width": 0.5
             }
            },
            "type": "barpolar"
           }
          ],
          "carpet": [
           {
            "aaxis": {
             "endlinecolor": "#2a3f5f",
             "gridcolor": "white",
             "linecolor": "white",
             "minorgridcolor": "white",
             "startlinecolor": "#2a3f5f"
            },
            "baxis": {
             "endlinecolor": "#2a3f5f",
             "gridcolor": "white",
             "linecolor": "white",
             "minorgridcolor": "white",
             "startlinecolor": "#2a3f5f"
            },
            "type": "carpet"
           }
          ],
          "choropleth": [
           {
            "colorbar": {
             "outlinewidth": 0,
             "ticks": ""
            },
            "type": "choropleth"
           }
          ],
          "contour": [
           {
            "colorbar": {
             "outlinewidth": 0,
             "ticks": ""
            },
            "colorscale": [
             [
              0,
              "#0d0887"
             ],
             [
              0.1111111111111111,
              "#46039f"
             ],
             [
              0.2222222222222222,
              "#7201a8"
             ],
             [
              0.3333333333333333,
              "#9c179e"
             ],
             [
              0.4444444444444444,
              "#bd3786"
             ],
             [
              0.5555555555555556,
              "#d8576b"
             ],
             [
              0.6666666666666666,
              "#ed7953"
             ],
             [
              0.7777777777777778,
              "#fb9f3a"
             ],
             [
              0.8888888888888888,
              "#fdca26"
             ],
             [
              1,
              "#f0f921"
             ]
            ],
            "type": "contour"
           }
          ],
          "contourcarpet": [
           {
            "colorbar": {
             "outlinewidth": 0,
             "ticks": ""
            },
            "type": "contourcarpet"
           }
          ],
          "heatmap": [
           {
            "colorbar": {
             "outlinewidth": 0,
             "ticks": ""
            },
            "colorscale": [
             [
              0,
              "#0d0887"
             ],
             [
              0.1111111111111111,
              "#46039f"
             ],
             [
              0.2222222222222222,
              "#7201a8"
             ],
             [
              0.3333333333333333,
              "#9c179e"
             ],
             [
              0.4444444444444444,
              "#bd3786"
             ],
             [
              0.5555555555555556,
              "#d8576b"
             ],
             [
              0.6666666666666666,
              "#ed7953"
             ],
             [
              0.7777777777777778,
              "#fb9f3a"
             ],
             [
              0.8888888888888888,
              "#fdca26"
             ],
             [
              1,
              "#f0f921"
             ]
            ],
            "type": "heatmap"
           }
          ],
          "heatmapgl": [
           {
            "colorbar": {
             "outlinewidth": 0,
             "ticks": ""
            },
            "colorscale": [
             [
              0,
              "#0d0887"
             ],
             [
              0.1111111111111111,
              "#46039f"
             ],
             [
              0.2222222222222222,
              "#7201a8"
             ],
             [
              0.3333333333333333,
              "#9c179e"
             ],
             [
              0.4444444444444444,
              "#bd3786"
             ],
             [
              0.5555555555555556,
              "#d8576b"
             ],
             [
              0.6666666666666666,
              "#ed7953"
             ],
             [
              0.7777777777777778,
              "#fb9f3a"
             ],
             [
              0.8888888888888888,
              "#fdca26"
             ],
             [
              1,
              "#f0f921"
             ]
            ],
            "type": "heatmapgl"
           }
          ],
          "histogram": [
           {
            "marker": {
             "colorbar": {
              "outlinewidth": 0,
              "ticks": ""
             }
            },
            "type": "histogram"
           }
          ],
          "histogram2d": [
           {
            "colorbar": {
             "outlinewidth": 0,
             "ticks": ""
            },
            "colorscale": [
             [
              0,
              "#0d0887"
             ],
             [
              0.1111111111111111,
              "#46039f"
             ],
             [
              0.2222222222222222,
              "#7201a8"
             ],
             [
              0.3333333333333333,
              "#9c179e"
             ],
             [
              0.4444444444444444,
              "#bd3786"
             ],
             [
              0.5555555555555556,
              "#d8576b"
             ],
             [
              0.6666666666666666,
              "#ed7953"
             ],
             [
              0.7777777777777778,
              "#fb9f3a"
             ],
             [
              0.8888888888888888,
              "#fdca26"
             ],
             [
              1,
              "#f0f921"
             ]
            ],
            "type": "histogram2d"
           }
          ],
          "histogram2dcontour": [
           {
            "colorbar": {
             "outlinewidth": 0,
             "ticks": ""
            },
            "colorscale": [
             [
              0,
              "#0d0887"
             ],
             [
              0.1111111111111111,
              "#46039f"
             ],
             [
              0.2222222222222222,
              "#7201a8"
             ],
             [
              0.3333333333333333,
              "#9c179e"
             ],
             [
              0.4444444444444444,
              "#bd3786"
             ],
             [
              0.5555555555555556,
              "#d8576b"
             ],
             [
              0.6666666666666666,
              "#ed7953"
             ],
             [
              0.7777777777777778,
              "#fb9f3a"
             ],
             [
              0.8888888888888888,
              "#fdca26"
             ],
             [
              1,
              "#f0f921"
             ]
            ],
            "type": "histogram2dcontour"
           }
          ],
          "mesh3d": [
           {
            "colorbar": {
             "outlinewidth": 0,
             "ticks": ""
            },
            "type": "mesh3d"
           }
          ],
          "parcoords": [
           {
            "line": {
             "colorbar": {
              "outlinewidth": 0,
              "ticks": ""
             }
            },
            "type": "parcoords"
           }
          ],
          "pie": [
           {
            "automargin": true,
            "type": "pie"
           }
          ],
          "scatter": [
           {
            "marker": {
             "colorbar": {
              "outlinewidth": 0,
              "ticks": ""
             }
            },
            "type": "scatter"
           }
          ],
          "scatter3d": [
           {
            "line": {
             "colorbar": {
              "outlinewidth": 0,
              "ticks": ""
             }
            },
            "marker": {
             "colorbar": {
              "outlinewidth": 0,
              "ticks": ""
             }
            },
            "type": "scatter3d"
           }
          ],
          "scattercarpet": [
           {
            "marker": {
             "colorbar": {
              "outlinewidth": 0,
              "ticks": ""
             }
            },
            "type": "scattercarpet"
           }
          ],
          "scattergeo": [
           {
            "marker": {
             "colorbar": {
              "outlinewidth": 0,
              "ticks": ""
             }
            },
            "type": "scattergeo"
           }
          ],
          "scattergl": [
           {
            "marker": {
             "colorbar": {
              "outlinewidth": 0,
              "ticks": ""
             }
            },
            "type": "scattergl"
           }
          ],
          "scattermapbox": [
           {
            "marker": {
             "colorbar": {
              "outlinewidth": 0,
              "ticks": ""
             }
            },
            "type": "scattermapbox"
           }
          ],
          "scatterpolar": [
           {
            "marker": {
             "colorbar": {
              "outlinewidth": 0,
              "ticks": ""
             }
            },
            "type": "scatterpolar"
           }
          ],
          "scatterpolargl": [
           {
            "marker": {
             "colorbar": {
              "outlinewidth": 0,
              "ticks": ""
             }
            },
            "type": "scatterpolargl"
           }
          ],
          "scatterternary": [
           {
            "marker": {
             "colorbar": {
              "outlinewidth": 0,
              "ticks": ""
             }
            },
            "type": "scatterternary"
           }
          ],
          "surface": [
           {
            "colorbar": {
             "outlinewidth": 0,
             "ticks": ""
            },
            "colorscale": [
             [
              0,
              "#0d0887"
             ],
             [
              0.1111111111111111,
              "#46039f"
             ],
             [
              0.2222222222222222,
              "#7201a8"
             ],
             [
              0.3333333333333333,
              "#9c179e"
             ],
             [
              0.4444444444444444,
              "#bd3786"
             ],
             [
              0.5555555555555556,
              "#d8576b"
             ],
             [
              0.6666666666666666,
              "#ed7953"
             ],
             [
              0.7777777777777778,
              "#fb9f3a"
             ],
             [
              0.8888888888888888,
              "#fdca26"
             ],
             [
              1,
              "#f0f921"
             ]
            ],
            "type": "surface"
           }
          ],
          "table": [
           {
            "cells": {
             "fill": {
              "color": "#EBF0F8"
             },
             "line": {
              "color": "white"
             }
            },
            "header": {
             "fill": {
              "color": "#C8D4E3"
             },
             "line": {
              "color": "white"
             }
            },
            "type": "table"
           }
          ]
         },
         "layout": {
          "annotationdefaults": {
           "arrowcolor": "#2a3f5f",
           "arrowhead": 0,
           "arrowwidth": 1
          },
          "autotypenumbers": "strict",
          "coloraxis": {
           "colorbar": {
            "outlinewidth": 0,
            "ticks": ""
           }
          },
          "colorscale": {
           "diverging": [
            [
             0,
             "#8e0152"
            ],
            [
             0.1,
             "#c51b7d"
            ],
            [
             0.2,
             "#de77ae"
            ],
            [
             0.3,
             "#f1b6da"
            ],
            [
             0.4,
             "#fde0ef"
            ],
            [
             0.5,
             "#f7f7f7"
            ],
            [
             0.6,
             "#e6f5d0"
            ],
            [
             0.7,
             "#b8e186"
            ],
            [
             0.8,
             "#7fbc41"
            ],
            [
             0.9,
             "#4d9221"
            ],
            [
             1,
             "#276419"
            ]
           ],
           "sequential": [
            [
             0,
             "#0d0887"
            ],
            [
             0.1111111111111111,
             "#46039f"
            ],
            [
             0.2222222222222222,
             "#7201a8"
            ],
            [
             0.3333333333333333,
             "#9c179e"
            ],
            [
             0.4444444444444444,
             "#bd3786"
            ],
            [
             0.5555555555555556,
             "#d8576b"
            ],
            [
             0.6666666666666666,
             "#ed7953"
            ],
            [
             0.7777777777777778,
             "#fb9f3a"
            ],
            [
             0.8888888888888888,
             "#fdca26"
            ],
            [
             1,
             "#f0f921"
            ]
           ],
           "sequentialminus": [
            [
             0,
             "#0d0887"
            ],
            [
             0.1111111111111111,
             "#46039f"
            ],
            [
             0.2222222222222222,
             "#7201a8"
            ],
            [
             0.3333333333333333,
             "#9c179e"
            ],
            [
             0.4444444444444444,
             "#bd3786"
            ],
            [
             0.5555555555555556,
             "#d8576b"
            ],
            [
             0.6666666666666666,
             "#ed7953"
            ],
            [
             0.7777777777777778,
             "#fb9f3a"
            ],
            [
             0.8888888888888888,
             "#fdca26"
            ],
            [
             1,
             "#f0f921"
            ]
           ]
          },
          "colorway": [
           "#636efa",
           "#EF553B",
           "#00cc96",
           "#ab63fa",
           "#FFA15A",
           "#19d3f3",
           "#FF6692",
           "#B6E880",
           "#FF97FF",
           "#FECB52"
          ],
          "font": {
           "color": "#2a3f5f"
          },
          "geo": {
           "bgcolor": "white",
           "lakecolor": "white",
           "landcolor": "#E5ECF6",
           "showlakes": true,
           "showland": true,
           "subunitcolor": "white"
          },
          "hoverlabel": {
           "align": "left"
          },
          "hovermode": "closest",
          "mapbox": {
           "style": "light"
          },
          "paper_bgcolor": "white",
          "plot_bgcolor": "#E5ECF6",
          "polar": {
           "angularaxis": {
            "gridcolor": "white",
            "linecolor": "white",
            "ticks": ""
           },
           "bgcolor": "#E5ECF6",
           "radialaxis": {
            "gridcolor": "white",
            "linecolor": "white",
            "ticks": ""
           }
          },
          "scene": {
           "xaxis": {
            "backgroundcolor": "#E5ECF6",
            "gridcolor": "white",
            "gridwidth": 2,
            "linecolor": "white",
            "showbackground": true,
            "ticks": "",
            "zerolinecolor": "white"
           },
           "yaxis": {
            "backgroundcolor": "#E5ECF6",
            "gridcolor": "white",
            "gridwidth": 2,
            "linecolor": "white",
            "showbackground": true,
            "ticks": "",
            "zerolinecolor": "white"
           },
           "zaxis": {
            "backgroundcolor": "#E5ECF6",
            "gridcolor": "white",
            "gridwidth": 2,
            "linecolor": "white",
            "showbackground": true,
            "ticks": "",
            "zerolinecolor": "white"
           }
          },
          "shapedefaults": {
           "line": {
            "color": "#2a3f5f"
           }
          },
          "ternary": {
           "aaxis": {
            "gridcolor": "white",
            "linecolor": "white",
            "ticks": ""
           },
           "baxis": {
            "gridcolor": "white",
            "linecolor": "white",
            "ticks": ""
           },
           "bgcolor": "#E5ECF6",
           "caxis": {
            "gridcolor": "white",
            "linecolor": "white",
            "ticks": ""
           }
          },
          "title": {
           "x": 0.05
          },
          "xaxis": {
           "automargin": true,
           "gridcolor": "white",
           "linecolor": "white",
           "ticks": "",
           "title": {
            "standoff": 15
           },
           "zerolinecolor": "white",
           "zerolinewidth": 2
          },
          "yaxis": {
           "automargin": true,
           "gridcolor": "white",
           "linecolor": "white",
           "ticks": "",
           "title": {
            "standoff": 15
           },
           "zerolinecolor": "white",
           "zerolinewidth": 2
          }
         }
        },
        "title": {
         "text": "European elections: voter turnout"
        },
        "width": 1000,
        "xaxis": {
         "anchor": "y",
         "domain": [
          0,
          0.22
         ],
         "title": {
          "text": "YEAR"
         }
        },
        "xaxis10": {
         "anchor": "y10",
         "domain": [
          0.26,
          0.48
         ],
         "matches": "x",
         "showticklabels": false
        },
        "xaxis11": {
         "anchor": "y11",
         "domain": [
          0.52,
          0.74
         ],
         "matches": "x",
         "showticklabels": false
        },
        "xaxis12": {
         "anchor": "y12",
         "domain": [
          0.78,
          1
         ],
         "matches": "x",
         "showticklabels": false
        },
        "xaxis13": {
         "anchor": "y13",
         "domain": [
          0,
          0.22
         ],
         "matches": "x",
         "showticklabels": false
        },
        "xaxis14": {
         "anchor": "y14",
         "domain": [
          0.26,
          0.48
         ],
         "matches": "x",
         "showticklabels": false
        },
        "xaxis15": {
         "anchor": "y15",
         "domain": [
          0.52,
          0.74
         ],
         "matches": "x",
         "showticklabels": false
        },
        "xaxis16": {
         "anchor": "y16",
         "domain": [
          0.78,
          1
         ],
         "matches": "x",
         "showticklabels": false
        },
        "xaxis17": {
         "anchor": "y17",
         "domain": [
          0,
          0.22
         ],
         "matches": "x",
         "showticklabels": false
        },
        "xaxis18": {
         "anchor": "y18",
         "domain": [
          0.26,
          0.48
         ],
         "matches": "x",
         "showticklabels": false
        },
        "xaxis19": {
         "anchor": "y19",
         "domain": [
          0.52,
          0.74
         ],
         "matches": "x",
         "showticklabels": false
        },
        "xaxis2": {
         "anchor": "y2",
         "domain": [
          0.26,
          0.48
         ],
         "matches": "x",
         "title": {
          "text": "YEAR"
         }
        },
        "xaxis20": {
         "anchor": "y20",
         "domain": [
          0.78,
          1
         ],
         "matches": "x",
         "showticklabels": false
        },
        "xaxis21": {
         "anchor": "y21",
         "domain": [
          0,
          0.22
         ],
         "matches": "x",
         "showticklabels": false
        },
        "xaxis22": {
         "anchor": "y22",
         "domain": [
          0.26,
          0.48
         ],
         "matches": "x",
         "showticklabels": false
        },
        "xaxis23": {
         "anchor": "y23",
         "domain": [
          0.52,
          0.74
         ],
         "matches": "x",
         "showticklabels": false
        },
        "xaxis24": {
         "anchor": "y24",
         "domain": [
          0.78,
          1
         ],
         "matches": "x",
         "showticklabels": false
        },
        "xaxis25": {
         "anchor": "y25",
         "domain": [
          0,
          0.22
         ],
         "matches": "x",
         "showticklabels": false
        },
        "xaxis26": {
         "anchor": "y26",
         "domain": [
          0.26,
          0.48
         ],
         "matches": "x",
         "showticklabels": false
        },
        "xaxis27": {
         "anchor": "y27",
         "domain": [
          0.52,
          0.74
         ],
         "matches": "x",
         "showticklabels": false
        },
        "xaxis28": {
         "anchor": "y28",
         "domain": [
          0.78,
          1
         ],
         "matches": "x",
         "showticklabels": false
        },
        "xaxis3": {
         "anchor": "y3",
         "domain": [
          0.52,
          0.74
         ],
         "matches": "x",
         "title": {
          "text": "YEAR"
         }
        },
        "xaxis4": {
         "anchor": "y4",
         "domain": [
          0.78,
          1
         ],
         "matches": "x",
         "title": {
          "text": "YEAR"
         }
        },
        "xaxis5": {
         "anchor": "y5",
         "domain": [
          0,
          0.22
         ],
         "matches": "x",
         "showticklabels": false
        },
        "xaxis6": {
         "anchor": "y6",
         "domain": [
          0.26,
          0.48
         ],
         "matches": "x",
         "showticklabels": false
        },
        "xaxis7": {
         "anchor": "y7",
         "domain": [
          0.52,
          0.74
         ],
         "matches": "x",
         "showticklabels": false
        },
        "xaxis8": {
         "anchor": "y8",
         "domain": [
          0.78,
          1
         ],
         "matches": "x",
         "showticklabels": false
        },
        "xaxis9": {
         "anchor": "y9",
         "domain": [
          0,
          0.22
         ],
         "matches": "x",
         "showticklabels": false
        },
        "yaxis": {
         "anchor": "x",
         "domain": [
          0,
          0.10857142857142857
         ],
         "title": {
          "text": "RATE"
         }
        },
        "yaxis10": {
         "anchor": "x10",
         "domain": [
          0.29714285714285715,
          0.4057142857142857
         ],
         "matches": "y",
         "showticklabels": false
        },
        "yaxis11": {
         "anchor": "x11",
         "domain": [
          0.29714285714285715,
          0.4057142857142857
         ],
         "matches": "y",
         "showticklabels": false
        },
        "yaxis12": {
         "anchor": "x12",
         "domain": [
          0.29714285714285715,
          0.4057142857142857
         ],
         "matches": "y",
         "showticklabels": false
        },
        "yaxis13": {
         "anchor": "x13",
         "domain": [
          0.44571428571428573,
          0.5542857142857143
         ],
         "matches": "y",
         "title": {
          "text": "RATE"
         }
        },
        "yaxis14": {
         "anchor": "x14",
         "domain": [
          0.44571428571428573,
          0.5542857142857143
         ],
         "matches": "y",
         "showticklabels": false
        },
        "yaxis15": {
         "anchor": "x15",
         "domain": [
          0.44571428571428573,
          0.5542857142857143
         ],
         "matches": "y",
         "showticklabels": false
        },
        "yaxis16": {
         "anchor": "x16",
         "domain": [
          0.44571428571428573,
          0.5542857142857143
         ],
         "matches": "y",
         "showticklabels": false
        },
        "yaxis17": {
         "anchor": "x17",
         "domain": [
          0.5942857142857143,
          0.7028571428571428
         ],
         "matches": "y",
         "title": {
          "text": "RATE"
         }
        },
        "yaxis18": {
         "anchor": "x18",
         "domain": [
          0.5942857142857143,
          0.7028571428571428
         ],
         "matches": "y",
         "showticklabels": false
        },
        "yaxis19": {
         "anchor": "x19",
         "domain": [
          0.5942857142857143,
          0.7028571428571428
         ],
         "matches": "y",
         "showticklabels": false
        },
        "yaxis2": {
         "anchor": "x2",
         "domain": [
          0,
          0.10857142857142857
         ],
         "matches": "y",
         "showticklabels": false
        },
        "yaxis20": {
         "anchor": "x20",
         "domain": [
          0.5942857142857143,
          0.7028571428571428
         ],
         "matches": "y",
         "showticklabels": false
        },
        "yaxis21": {
         "anchor": "x21",
         "domain": [
          0.7428571428571429,
          0.8514285714285714
         ],
         "matches": "y",
         "title": {
          "text": "RATE"
         }
        },
        "yaxis22": {
         "anchor": "x22",
         "domain": [
          0.7428571428571429,
          0.8514285714285714
         ],
         "matches": "y",
         "showticklabels": false
        },
        "yaxis23": {
         "anchor": "x23",
         "domain": [
          0.7428571428571429,
          0.8514285714285714
         ],
         "matches": "y",
         "showticklabels": false
        },
        "yaxis24": {
         "anchor": "x24",
         "domain": [
          0.7428571428571429,
          0.8514285714285714
         ],
         "matches": "y",
         "showticklabels": false
        },
        "yaxis25": {
         "anchor": "x25",
         "domain": [
          0.8914285714285713,
          0.9999999999999999
         ],
         "matches": "y",
         "title": {
          "text": "RATE"
         }
        },
        "yaxis26": {
         "anchor": "x26",
         "domain": [
          0.8914285714285713,
          0.9999999999999999
         ],
         "matches": "y",
         "showticklabels": false
        },
        "yaxis27": {
         "anchor": "x27",
         "domain": [
          0.8914285714285713,
          0.9999999999999999
         ],
         "matches": "y",
         "showticklabels": false
        },
        "yaxis28": {
         "anchor": "x28",
         "domain": [
          0.8914285714285713,
          0.9999999999999999
         ],
         "matches": "y",
         "showticklabels": false
        },
        "yaxis3": {
         "anchor": "x3",
         "domain": [
          0,
          0.10857142857142857
         ],
         "matches": "y",
         "showticklabels": false
        },
        "yaxis4": {
         "anchor": "x4",
         "domain": [
          0,
          0.10857142857142857
         ],
         "matches": "y",
         "showticklabels": false
        },
        "yaxis5": {
         "anchor": "x5",
         "domain": [
          0.14857142857142858,
          0.2571428571428571
         ],
         "matches": "y",
         "title": {
          "text": "RATE"
         }
        },
        "yaxis6": {
         "anchor": "x6",
         "domain": [
          0.14857142857142858,
          0.2571428571428571
         ],
         "matches": "y",
         "showticklabels": false
        },
        "yaxis7": {
         "anchor": "x7",
         "domain": [
          0.14857142857142858,
          0.2571428571428571
         ],
         "matches": "y",
         "showticklabels": false
        },
        "yaxis8": {
         "anchor": "x8",
         "domain": [
          0.14857142857142858,
          0.2571428571428571
         ],
         "matches": "y",
         "showticklabels": false
        },
        "yaxis9": {
         "anchor": "x9",
         "domain": [
          0.29714285714285715,
          0.4057142857142857
         ],
         "matches": "y",
         "title": {
          "text": "RATE"
         }
        }
       }
      },
      "text/html": [
       "<div>                            <div id=\"63a9fb6a-840a-4269-8b1e-239cfee32efb\" class=\"plotly-graph-div\" style=\"height:1000px; width:1000px;\"></div>            <script type=\"text/javascript\">                require([\"plotly\"], function(Plotly) {                    window.PLOTLYENV=window.PLOTLYENV || {};                                    if (document.getElementById(\"63a9fb6a-840a-4269-8b1e-239cfee32efb\")) {                    Plotly.newPlot(                        \"63a9fb6a-840a-4269-8b1e-239cfee32efb\",                        [{\"hovertemplate\": \"COUNTRY_ID=BE<br>YEAR=%{x}<br>RATE=%{y}<extra></extra>\", \"legendgroup\": \"\", \"marker\": {\"color\": \"#636efa\", \"symbol\": \"circle\"}, \"mode\": \"lines+markers\", \"name\": \"\", \"orientation\": \"v\", \"showlegend\": false, \"type\": \"scatter\", \"x\": [1979, 1984, 1989, 1994, 1999, 2004, 2009, 2014, 2019], \"xaxis\": \"x25\", \"y\": [91.36, 92.09, 90.73, 90.66, 91.05, 90.81, 90.39, 89.64, 89.0], \"yaxis\": \"y25\"}, {\"hovertemplate\": \"COUNTRY_ID=DK<br>YEAR=%{x}<br>RATE=%{y}<extra></extra>\", \"legendgroup\": \"\", \"marker\": {\"color\": \"#636efa\", \"symbol\": \"circle\"}, \"mode\": \"lines+markers\", \"name\": \"\", \"orientation\": \"v\", \"showlegend\": false, \"type\": \"scatter\", \"x\": [1979, 1984, 1989, 1994, 1999, 2004, 2009, 2014, 2019], \"xaxis\": \"x26\", \"y\": [47.82, 52.38, 46.17, 52.92, 50.46, 47.89, 59.54, 56.32, 66.0], \"yaxis\": \"y26\"}, {\"hovertemplate\": \"COUNTRY_ID=DE<br>YEAR=%{x}<br>RATE=%{y}<extra></extra>\", \"legendgroup\": \"\", \"marker\": {\"color\": \"#636efa\", \"symbol\": \"circle\"}, \"mode\": \"lines+markers\", \"name\": \"\", \"orientation\": \"v\", \"showlegend\": false, \"type\": \"scatter\", \"x\": [1979, 1984, 1989, 1994, 1999, 2004, 2009, 2014, 2019], \"xaxis\": \"x27\", \"y\": [65.73, 56.76, 62.28, 60.02, 45.19, 43.0, 43.27, 48.1, 61.5], \"yaxis\": \"y27\"}, {\"hovertemplate\": \"COUNTRY_ID=IE<br>YEAR=%{x}<br>RATE=%{y}<extra></extra>\", \"legendgroup\": \"\", \"marker\": {\"color\": \"#636efa\", \"symbol\": \"circle\"}, \"mode\": \"lines+markers\", \"name\": \"\", \"orientation\": \"v\", \"showlegend\": false, \"type\": \"scatter\", \"x\": [1979, 1984, 1989, 1994, 1999, 2004, 2009, 2014, 2019], \"xaxis\": \"x28\", \"y\": [63.61, 47.56, 68.28, 43.98, 50.21, 58.58, 58.64, 52.44, 49.3], \"yaxis\": \"y28\"}, {\"hovertemplate\": \"COUNTRY_ID=FR<br>YEAR=%{x}<br>RATE=%{y}<extra></extra>\", \"legendgroup\": \"\", \"marker\": {\"color\": \"#636efa\", \"symbol\": \"circle\"}, \"mode\": \"lines+markers\", \"name\": \"\", \"orientation\": \"v\", \"showlegend\": false, \"type\": \"scatter\", \"x\": [1979, 1984, 1989, 1994, 1999, 2004, 2009, 2014, 2019], \"xaxis\": \"x21\", \"y\": [60.71, 56.72, 48.8, 52.71, 46.76, 42.76, 40.63, 42.43, 50.97], \"yaxis\": \"y21\"}, {\"hovertemplate\": \"COUNTRY_ID=IT<br>YEAR=%{x}<br>RATE=%{y}<extra></extra>\", \"legendgroup\": \"\", \"marker\": {\"color\": \"#636efa\", \"symbol\": \"circle\"}, \"mode\": \"lines+markers\", \"name\": \"\", \"orientation\": \"v\", \"showlegend\": false, \"type\": \"scatter\", \"x\": [1979, 1984, 1989, 1994, 1999, 2004, 2009, 2014, 2019], \"xaxis\": \"x22\", \"y\": [85.65, 82.47, 81.07, 73.6, 69.76, 71.72, 66.47, 57.22, 56.09], \"yaxis\": \"y22\"}, {\"hovertemplate\": \"COUNTRY_ID=LU<br>YEAR=%{x}<br>RATE=%{y}<extra></extra>\", \"legendgroup\": \"\", \"marker\": {\"color\": \"#636efa\", \"symbol\": \"circle\"}, \"mode\": \"lines+markers\", \"name\": \"\", \"orientation\": \"v\", \"showlegend\": false, \"type\": \"scatter\", \"x\": [1979, 1984, 1989, 1994, 1999, 2004, 2009, 2014, 2019], \"xaxis\": \"x23\", \"y\": [88.91, 88.79, 87.39, 88.55, 87.27, 91.35, 90.76, 85.55, 84.1], \"yaxis\": \"y23\"}, {\"hovertemplate\": \"COUNTRY_ID=NL<br>YEAR=%{x}<br>RATE=%{y}<extra></extra>\", \"legendgroup\": \"\", \"marker\": {\"color\": \"#636efa\", \"symbol\": \"circle\"}, \"mode\": \"lines+markers\", \"name\": \"\", \"orientation\": \"v\", \"showlegend\": false, \"type\": \"scatter\", \"x\": [1979, 1984, 1989, 1994, 1999, 2004, 2009, 2014, 2019], \"xaxis\": \"x24\", \"y\": [58.12, 50.88, 47.48, 35.69, 30.02, 39.26, 36.75, 37.32, 41.8], \"yaxis\": \"y24\"}, {\"hovertemplate\": \"COUNTRY_ID=UK<br>YEAR=%{x}<br>RATE=%{y}<extra></extra>\", \"legendgroup\": \"\", \"marker\": {\"color\": \"#636efa\", \"symbol\": \"circle\"}, \"mode\": \"lines+markers\", \"name\": \"\", \"orientation\": \"v\", \"showlegend\": false, \"type\": \"scatter\", \"x\": [1979, 1984, 1989, 1994, 1999, 2004, 2009, 2014, 2019], \"xaxis\": \"x17\", \"y\": [32.35, 32.57, 36.37, 36.43, 24.0, 38.52, 34.7, 35.6, 37.0], \"yaxis\": \"y17\"}, {\"hovertemplate\": \"COUNTRY_ID=EL<br>YEAR=%{x}<br>RATE=%{y}<extra></extra>\", \"legendgroup\": \"\", \"marker\": {\"color\": \"#636efa\", \"symbol\": \"circle\"}, \"mode\": \"lines+markers\", \"name\": \"\", \"orientation\": \"v\", \"showlegend\": false, \"type\": \"scatter\", \"x\": [1981, 1984, 1989, 1994, 1999, 2004, 2009, 2014, 2019], \"xaxis\": \"x18\", \"y\": [81.48, 80.59, 80.03, 73.18, 70.25, 63.22, 52.54, 59.97, 57.86], \"yaxis\": \"y18\"}, {\"hovertemplate\": \"COUNTRY_ID=ES<br>YEAR=%{x}<br>RATE=%{y}<extra></extra>\", \"legendgroup\": \"\", \"marker\": {\"color\": \"#636efa\", \"symbol\": \"circle\"}, \"mode\": \"lines+markers\", \"name\": \"\", \"orientation\": \"v\", \"showlegend\": false, \"type\": \"scatter\", \"x\": [1987, 1989, 1994, 1999, 2004, 2009, 2014, 2019], \"xaxis\": \"x19\", \"y\": [68.52, 54.71, 59.14, 63.05, 45.14, 44.87, 43.81, 64.32], \"yaxis\": \"y19\"}, {\"hovertemplate\": \"COUNTRY_ID=PT<br>YEAR=%{x}<br>RATE=%{y}<extra></extra>\", \"legendgroup\": \"\", \"marker\": {\"color\": \"#636efa\", \"symbol\": \"circle\"}, \"mode\": \"lines+markers\", \"name\": \"\", \"orientation\": \"v\", \"showlegend\": false, \"type\": \"scatter\", \"x\": [1987, 1989, 1994, 1999, 2004, 2009, 2014, 2019], \"xaxis\": \"x20\", \"y\": [72.42, 51.1, 35.54, 39.93, 38.6, 36.77, 33.67, 31.01], \"yaxis\": \"y20\"}, {\"hovertemplate\": \"COUNTRY_ID=SE<br>YEAR=%{x}<br>RATE=%{y}<extra></extra>\", \"legendgroup\": \"\", \"marker\": {\"color\": \"#636efa\", \"symbol\": \"circle\"}, \"mode\": \"lines+markers\", \"name\": \"\", \"orientation\": \"v\", \"showlegend\": false, \"type\": \"scatter\", \"x\": [1995, 1999, 2004, 2009, 2014, 2019], \"xaxis\": \"x13\", \"y\": [41.63, 38.84, 37.85, 45.53, 51.07, 53.3], \"yaxis\": \"y13\"}, {\"hovertemplate\": \"COUNTRY_ID=AT<br>YEAR=%{x}<br>RATE=%{y}<extra></extra>\", \"legendgroup\": \"\", \"marker\": {\"color\": \"#636efa\", \"symbol\": \"circle\"}, \"mode\": \"lines+markers\", \"name\": \"\", \"orientation\": \"v\", \"showlegend\": false, \"type\": \"scatter\", \"x\": [1996, 1999, 2004, 2009, 2014, 2019], \"xaxis\": \"x14\", \"y\": [67.73, 49.4, 42.43, 45.97, 45.39, 59.3], \"yaxis\": \"y14\"}, {\"hovertemplate\": \"COUNTRY_ID=FI<br>YEAR=%{x}<br>RATE=%{y}<extra></extra>\", \"legendgroup\": \"\", \"marker\": {\"color\": \"#636efa\", \"symbol\": \"circle\"}, \"mode\": \"lines+markers\", \"name\": \"\", \"orientation\": \"v\", \"showlegend\": false, \"type\": \"scatter\", \"x\": [1996, 1999, 2004, 2009, 2014, 2019], \"xaxis\": \"x15\", \"y\": [57.6, 30.14, 39.43, 38.6, 39.1, 40.7], \"yaxis\": \"y15\"}, {\"hovertemplate\": \"COUNTRY_ID=CZ<br>YEAR=%{x}<br>RATE=%{y}<extra></extra>\", \"legendgroup\": \"\", \"marker\": {\"color\": \"#636efa\", \"symbol\": \"circle\"}, \"mode\": \"lines+markers\", \"name\": \"\", \"orientation\": \"v\", \"showlegend\": false, \"type\": \"scatter\", \"x\": [2004, 2009, 2014, 2019], \"xaxis\": \"x16\", \"y\": [28.3, 28.22, 18.2, 28.72], \"yaxis\": \"y16\"}, {\"hovertemplate\": \"COUNTRY_ID=EE<br>YEAR=%{x}<br>RATE=%{y}<extra></extra>\", \"legendgroup\": \"\", \"marker\": {\"color\": \"#636efa\", \"symbol\": \"circle\"}, \"mode\": \"lines+markers\", \"name\": \"\", \"orientation\": \"v\", \"showlegend\": false, \"type\": \"scatter\", \"x\": [2004, 2009, 2014, 2019], \"xaxis\": \"x9\", \"y\": [26.83, 43.9, 36.52, 37.6], \"yaxis\": \"y9\"}, {\"hovertemplate\": \"COUNTRY_ID=CY<br>YEAR=%{x}<br>RATE=%{y}<extra></extra>\", \"legendgroup\": \"\", \"marker\": {\"color\": \"#636efa\", \"symbol\": \"circle\"}, \"mode\": \"lines+markers\", \"name\": \"\", \"orientation\": \"v\", \"showlegend\": false, \"type\": \"scatter\", \"x\": [2004, 2009, 2014, 2019], \"xaxis\": \"x10\", \"y\": [72.5, 59.4, 43.97, 44.99], \"yaxis\": \"y10\"}, {\"hovertemplate\": \"COUNTRY_ID=LT<br>YEAR=%{x}<br>RATE=%{y}<extra></extra>\", \"legendgroup\": \"\", \"marker\": {\"color\": \"#636efa\", \"symbol\": \"circle\"}, \"mode\": \"lines+markers\", \"name\": \"\", \"orientation\": \"v\", \"showlegend\": false, \"type\": \"scatter\", \"x\": [2004, 2009, 2014, 2019], \"xaxis\": \"x11\", \"y\": [48.38, 20.98, 47.35, 52.88], \"yaxis\": \"y11\"}, {\"hovertemplate\": \"COUNTRY_ID=LV<br>YEAR=%{x}<br>RATE=%{y}<extra></extra>\", \"legendgroup\": \"\", \"marker\": {\"color\": \"#636efa\", \"symbol\": \"circle\"}, \"mode\": \"lines+markers\", \"name\": \"\", \"orientation\": \"v\", \"showlegend\": false, \"type\": \"scatter\", \"x\": [2004, 2009, 2014, 2019], \"xaxis\": \"x12\", \"y\": [41.34, 53.7, 30.24, 33.6], \"yaxis\": \"y12\"}, {\"hovertemplate\": \"COUNTRY_ID=HU<br>YEAR=%{x}<br>RATE=%{y}<extra></extra>\", \"legendgroup\": \"\", \"marker\": {\"color\": \"#636efa\", \"symbol\": \"circle\"}, \"mode\": \"lines+markers\", \"name\": \"\", \"orientation\": \"v\", \"showlegend\": false, \"type\": \"scatter\", \"x\": [2004, 2009, 2014, 2019], \"xaxis\": \"x5\", \"y\": [38.5, 36.31, 28.97, 43.36], \"yaxis\": \"y5\"}, {\"hovertemplate\": \"COUNTRY_ID=MT<br>YEAR=%{x}<br>RATE=%{y}<extra></extra>\", \"legendgroup\": \"\", \"marker\": {\"color\": \"#636efa\", \"symbol\": \"circle\"}, \"mode\": \"lines+markers\", \"name\": \"\", \"orientation\": \"v\", \"showlegend\": false, \"type\": \"scatter\", \"x\": [2004, 2009, 2014, 2019], \"xaxis\": \"x6\", \"y\": [82.39, 78.79, 74.8, 72.6], \"yaxis\": \"y6\"}, {\"hovertemplate\": \"COUNTRY_ID=PL<br>YEAR=%{x}<br>RATE=%{y}<extra></extra>\", \"legendgroup\": \"\", \"marker\": {\"color\": \"#636efa\", \"symbol\": \"circle\"}, \"mode\": \"lines+markers\", \"name\": \"\", \"orientation\": \"v\", \"showlegend\": false, \"type\": \"scatter\", \"x\": [2004, 2009, 2014, 2019], \"xaxis\": \"x7\", \"y\": [20.87, 24.53, 23.83, 43.0], \"yaxis\": \"y7\"}, {\"hovertemplate\": \"COUNTRY_ID=SI<br>YEAR=%{x}<br>RATE=%{y}<extra></extra>\", \"legendgroup\": \"\", \"marker\": {\"color\": \"#636efa\", \"symbol\": \"circle\"}, \"mode\": \"lines+markers\", \"name\": \"\", \"orientation\": \"v\", \"showlegend\": false, \"type\": \"scatter\", \"x\": [2004, 2009, 2014, 2019], \"xaxis\": \"x8\", \"y\": [28.35, 28.37, 24.55, 28.29], \"yaxis\": \"y8\"}, {\"hovertemplate\": \"COUNTRY_ID=SK<br>YEAR=%{x}<br>RATE=%{y}<extra></extra>\", \"legendgroup\": \"\", \"marker\": {\"color\": \"#636efa\", \"symbol\": \"circle\"}, \"mode\": \"lines+markers\", \"name\": \"\", \"orientation\": \"v\", \"showlegend\": false, \"type\": \"scatter\", \"x\": [2004, 2009, 2014, 2019], \"xaxis\": \"x\", \"y\": [16.97, 19.64, 13.05, 22.74], \"yaxis\": \"y\"}, {\"hovertemplate\": \"COUNTRY_ID=BG<br>YEAR=%{x}<br>RATE=%{y}<extra></extra>\", \"legendgroup\": \"\", \"marker\": {\"color\": \"#636efa\", \"symbol\": \"circle\"}, \"mode\": \"lines+markers\", \"name\": \"\", \"orientation\": \"v\", \"showlegend\": false, \"type\": \"scatter\", \"x\": [2007, 2009, 2014, 2019], \"xaxis\": \"x2\", \"y\": [29.22, 38.99, 35.84, 30.83], \"yaxis\": \"y2\"}, {\"hovertemplate\": \"COUNTRY_ID=RO<br>YEAR=%{x}<br>RATE=%{y}<extra></extra>\", \"legendgroup\": \"\", \"marker\": {\"color\": \"#636efa\", \"symbol\": \"circle\"}, \"mode\": \"lines+markers\", \"name\": \"\", \"orientation\": \"v\", \"showlegend\": false, \"type\": \"scatter\", \"x\": [2007, 2009, 2014, 2019], \"xaxis\": \"x3\", \"y\": [29.47, 27.67, 32.44, 49.02], \"yaxis\": \"y3\"}, {\"hovertemplate\": \"COUNTRY_ID=HR<br>YEAR=%{x}<br>RATE=%{y}<extra></extra>\", \"legendgroup\": \"\", \"marker\": {\"color\": \"#636efa\", \"symbol\": \"circle\"}, \"mode\": \"lines+markers\", \"name\": \"\", \"orientation\": \"v\", \"showlegend\": false, \"type\": \"scatter\", \"x\": [2013, 2014, 2019], \"xaxis\": \"x4\", \"y\": [20.84, 25.24, 29.65], \"yaxis\": \"y4\"}],                        {\"annotations\": [{\"font\": {}, \"showarrow\": false, \"text\": \"SK\", \"x\": 0.11, \"xanchor\": \"center\", \"xref\": \"paper\", \"y\": 0.10857142857142857, \"yanchor\": \"bottom\", \"yref\": \"paper\"}, {\"font\": {}, \"showarrow\": false, \"text\": \"BG\", \"x\": 0.37, \"xanchor\": \"center\", \"xref\": \"paper\", \"y\": 0.10857142857142857, \"yanchor\": \"bottom\", \"yref\": \"paper\"}, {\"font\": {}, \"showarrow\": false, \"text\": \"RO\", \"x\": 0.63, \"xanchor\": \"center\", \"xref\": \"paper\", \"y\": 0.10857142857142857, \"yanchor\": \"bottom\", \"yref\": \"paper\"}, {\"font\": {}, \"showarrow\": false, \"text\": \"HR\", \"x\": 0.89, \"xanchor\": \"center\", \"xref\": \"paper\", \"y\": 0.10857142857142857, \"yanchor\": \"bottom\", \"yref\": \"paper\"}, {\"font\": {}, \"showarrow\": false, \"text\": \"HU\", \"x\": 0.11, \"xanchor\": \"center\", \"xref\": \"paper\", \"y\": 0.2571428571428571, \"yanchor\": \"bottom\", \"yref\": \"paper\"}, {\"font\": {}, \"showarrow\": false, \"text\": \"MT\", \"x\": 0.37, \"xanchor\": \"center\", \"xref\": \"paper\", \"y\": 0.2571428571428571, \"yanchor\": \"bottom\", \"yref\": \"paper\"}, {\"font\": {}, \"showarrow\": false, \"text\": \"PL\", \"x\": 0.63, \"xanchor\": \"center\", \"xref\": \"paper\", \"y\": 0.2571428571428571, \"yanchor\": \"bottom\", \"yref\": \"paper\"}, {\"font\": {}, \"showarrow\": false, \"text\": \"SI\", \"x\": 0.89, \"xanchor\": \"center\", \"xref\": \"paper\", \"y\": 0.2571428571428571, \"yanchor\": \"bottom\", \"yref\": \"paper\"}, {\"font\": {}, \"showarrow\": false, \"text\": \"EE\", \"x\": 0.11, \"xanchor\": \"center\", \"xref\": \"paper\", \"y\": 0.4057142857142857, \"yanchor\": \"bottom\", \"yref\": \"paper\"}, {\"font\": {}, \"showarrow\": false, \"text\": \"CY\", \"x\": 0.37, \"xanchor\": \"center\", \"xref\": \"paper\", \"y\": 0.4057142857142857, \"yanchor\": \"bottom\", \"yref\": \"paper\"}, {\"font\": {}, \"showarrow\": false, \"text\": \"LT\", \"x\": 0.63, \"xanchor\": \"center\", \"xref\": \"paper\", \"y\": 0.4057142857142857, \"yanchor\": \"bottom\", \"yref\": \"paper\"}, {\"font\": {}, \"showarrow\": false, \"text\": \"LV\", \"x\": 0.89, \"xanchor\": \"center\", \"xref\": \"paper\", \"y\": 0.4057142857142857, \"yanchor\": \"bottom\", \"yref\": \"paper\"}, {\"font\": {}, \"showarrow\": false, \"text\": \"SE\", \"x\": 0.11, \"xanchor\": \"center\", \"xref\": \"paper\", \"y\": 0.5542857142857143, \"yanchor\": \"bottom\", \"yref\": \"paper\"}, {\"font\": {}, \"showarrow\": false, \"text\": \"AT\", \"x\": 0.37, \"xanchor\": \"center\", \"xref\": \"paper\", \"y\": 0.5542857142857143, \"yanchor\": \"bottom\", \"yref\": \"paper\"}, {\"font\": {}, \"showarrow\": false, \"text\": \"FI\", \"x\": 0.63, \"xanchor\": \"center\", \"xref\": \"paper\", \"y\": 0.5542857142857143, \"yanchor\": \"bottom\", \"yref\": \"paper\"}, {\"font\": {}, \"showarrow\": false, \"text\": \"CZ\", \"x\": 0.89, \"xanchor\": \"center\", \"xref\": \"paper\", \"y\": 0.5542857142857143, \"yanchor\": \"bottom\", \"yref\": \"paper\"}, {\"font\": {}, \"showarrow\": false, \"text\": \"UK\", \"x\": 0.11, \"xanchor\": \"center\", \"xref\": \"paper\", \"y\": 0.7028571428571428, \"yanchor\": \"bottom\", \"yref\": \"paper\"}, {\"font\": {}, \"showarrow\": false, \"text\": \"EL\", \"x\": 0.37, \"xanchor\": \"center\", \"xref\": \"paper\", \"y\": 0.7028571428571428, \"yanchor\": \"bottom\", \"yref\": \"paper\"}, {\"font\": {}, \"showarrow\": false, \"text\": \"ES\", \"x\": 0.63, \"xanchor\": \"center\", \"xref\": \"paper\", \"y\": 0.7028571428571428, \"yanchor\": \"bottom\", \"yref\": \"paper\"}, {\"font\": {}, \"showarrow\": false, \"text\": \"PT\", \"x\": 0.89, \"xanchor\": \"center\", \"xref\": \"paper\", \"y\": 0.7028571428571428, \"yanchor\": \"bottom\", \"yref\": \"paper\"}, {\"font\": {}, \"showarrow\": false, \"text\": \"FR\", \"x\": 0.11, \"xanchor\": \"center\", \"xref\": \"paper\", \"y\": 0.8514285714285714, \"yanchor\": \"bottom\", \"yref\": \"paper\"}, {\"font\": {}, \"showarrow\": false, \"text\": \"IT\", \"x\": 0.37, \"xanchor\": \"center\", \"xref\": \"paper\", \"y\": 0.8514285714285714, \"yanchor\": \"bottom\", \"yref\": \"paper\"}, {\"font\": {}, \"showarrow\": false, \"text\": \"LU\", \"x\": 0.63, \"xanchor\": \"center\", \"xref\": \"paper\", \"y\": 0.8514285714285714, \"yanchor\": \"bottom\", \"yref\": \"paper\"}, {\"font\": {}, \"showarrow\": false, \"text\": \"NL\", \"x\": 0.89, \"xanchor\": \"center\", \"xref\": \"paper\", \"y\": 0.8514285714285714, \"yanchor\": \"bottom\", \"yref\": \"paper\"}, {\"font\": {}, \"showarrow\": false, \"text\": \"BE\", \"x\": 0.11, \"xanchor\": \"center\", \"xref\": \"paper\", \"y\": 0.9999999999999999, \"yanchor\": \"bottom\", \"yref\": \"paper\"}, {\"font\": {}, \"showarrow\": false, \"text\": \"DK\", \"x\": 0.37, \"xanchor\": \"center\", \"xref\": \"paper\", \"y\": 0.9999999999999999, \"yanchor\": \"bottom\", \"yref\": \"paper\"}, {\"font\": {}, \"showarrow\": false, \"text\": \"DE\", \"x\": 0.63, \"xanchor\": \"center\", \"xref\": \"paper\", \"y\": 0.9999999999999999, \"yanchor\": \"bottom\", \"yref\": \"paper\"}, {\"font\": {}, \"showarrow\": false, \"text\": \"IE\", \"x\": 0.89, \"xanchor\": \"center\", \"xref\": \"paper\", \"y\": 0.9999999999999999, \"yanchor\": \"bottom\", \"yref\": \"paper\"}], \"height\": 1000, \"legend\": {\"tracegroupgap\": 0}, \"template\": {\"data\": {\"bar\": [{\"error_x\": {\"color\": \"#2a3f5f\"}, \"error_y\": {\"color\": \"#2a3f5f\"}, \"marker\": {\"line\": {\"color\": \"#E5ECF6\", \"width\": 0.5}}, \"type\": \"bar\"}], \"barpolar\": [{\"marker\": {\"line\": {\"color\": \"#E5ECF6\", \"width\": 0.5}}, \"type\": \"barpolar\"}], \"carpet\": [{\"aaxis\": {\"endlinecolor\": \"#2a3f5f\", \"gridcolor\": \"white\", \"linecolor\": \"white\", \"minorgridcolor\": \"white\", \"startlinecolor\": \"#2a3f5f\"}, \"baxis\": {\"endlinecolor\": \"#2a3f5f\", \"gridcolor\": \"white\", \"linecolor\": \"white\", \"minorgridcolor\": \"white\", \"startlinecolor\": \"#2a3f5f\"}, \"type\": \"carpet\"}], \"choropleth\": [{\"colorbar\": {\"outlinewidth\": 0, \"ticks\": \"\"}, \"type\": \"choropleth\"}], \"contour\": [{\"colorbar\": {\"outlinewidth\": 0, \"ticks\": \"\"}, \"colorscale\": [[0.0, \"#0d0887\"], [0.1111111111111111, \"#46039f\"], [0.2222222222222222, \"#7201a8\"], [0.3333333333333333, \"#9c179e\"], [0.4444444444444444, \"#bd3786\"], [0.5555555555555556, \"#d8576b\"], [0.6666666666666666, \"#ed7953\"], [0.7777777777777778, \"#fb9f3a\"], [0.8888888888888888, \"#fdca26\"], [1.0, \"#f0f921\"]], \"type\": \"contour\"}], \"contourcarpet\": [{\"colorbar\": {\"outlinewidth\": 0, \"ticks\": \"\"}, \"type\": \"contourcarpet\"}], \"heatmap\": [{\"colorbar\": {\"outlinewidth\": 0, \"ticks\": \"\"}, \"colorscale\": [[0.0, \"#0d0887\"], [0.1111111111111111, \"#46039f\"], [0.2222222222222222, \"#7201a8\"], [0.3333333333333333, \"#9c179e\"], [0.4444444444444444, \"#bd3786\"], [0.5555555555555556, \"#d8576b\"], [0.6666666666666666, \"#ed7953\"], [0.7777777777777778, \"#fb9f3a\"], [0.8888888888888888, \"#fdca26\"], [1.0, \"#f0f921\"]], \"type\": \"heatmap\"}], \"heatmapgl\": [{\"colorbar\": {\"outlinewidth\": 0, \"ticks\": \"\"}, \"colorscale\": [[0.0, \"#0d0887\"], [0.1111111111111111, \"#46039f\"], [0.2222222222222222, \"#7201a8\"], [0.3333333333333333, \"#9c179e\"], [0.4444444444444444, \"#bd3786\"], [0.5555555555555556, \"#d8576b\"], [0.6666666666666666, \"#ed7953\"], [0.7777777777777778, \"#fb9f3a\"], [0.8888888888888888, \"#fdca26\"], [1.0, \"#f0f921\"]], \"type\": \"heatmapgl\"}], \"histogram\": [{\"marker\": {\"colorbar\": {\"outlinewidth\": 0, \"ticks\": \"\"}}, \"type\": \"histogram\"}], \"histogram2d\": [{\"colorbar\": {\"outlinewidth\": 0, \"ticks\": \"\"}, \"colorscale\": [[0.0, \"#0d0887\"], [0.1111111111111111, \"#46039f\"], [0.2222222222222222, \"#7201a8\"], [0.3333333333333333, \"#9c179e\"], [0.4444444444444444, \"#bd3786\"], [0.5555555555555556, \"#d8576b\"], [0.6666666666666666, \"#ed7953\"], [0.7777777777777778, \"#fb9f3a\"], [0.8888888888888888, \"#fdca26\"], [1.0, \"#f0f921\"]], \"type\": \"histogram2d\"}], \"histogram2dcontour\": [{\"colorbar\": {\"outlinewidth\": 0, \"ticks\": \"\"}, \"colorscale\": [[0.0, \"#0d0887\"], [0.1111111111111111, \"#46039f\"], [0.2222222222222222, \"#7201a8\"], [0.3333333333333333, \"#9c179e\"], [0.4444444444444444, \"#bd3786\"], [0.5555555555555556, \"#d8576b\"], [0.6666666666666666, \"#ed7953\"], [0.7777777777777778, \"#fb9f3a\"], [0.8888888888888888, \"#fdca26\"], [1.0, \"#f0f921\"]], \"type\": \"histogram2dcontour\"}], \"mesh3d\": [{\"colorbar\": {\"outlinewidth\": 0, \"ticks\": \"\"}, \"type\": \"mesh3d\"}], \"parcoords\": [{\"line\": {\"colorbar\": {\"outlinewidth\": 0, \"ticks\": \"\"}}, \"type\": \"parcoords\"}], \"pie\": [{\"automargin\": true, \"type\": \"pie\"}], \"scatter\": [{\"marker\": {\"colorbar\": {\"outlinewidth\": 0, \"ticks\": \"\"}}, \"type\": \"scatter\"}], \"scatter3d\": [{\"line\": {\"colorbar\": {\"outlinewidth\": 0, \"ticks\": \"\"}}, \"marker\": {\"colorbar\": {\"outlinewidth\": 0, \"ticks\": \"\"}}, \"type\": \"scatter3d\"}], \"scattercarpet\": [{\"marker\": {\"colorbar\": {\"outlinewidth\": 0, \"ticks\": \"\"}}, \"type\": \"scattercarpet\"}], \"scattergeo\": [{\"marker\": {\"colorbar\": {\"outlinewidth\": 0, \"ticks\": \"\"}}, \"type\": \"scattergeo\"}], \"scattergl\": [{\"marker\": {\"colorbar\": {\"outlinewidth\": 0, \"ticks\": \"\"}}, \"type\": \"scattergl\"}], \"scattermapbox\": [{\"marker\": {\"colorbar\": {\"outlinewidth\": 0, \"ticks\": \"\"}}, \"type\": \"scattermapbox\"}], \"scatterpolar\": [{\"marker\": {\"colorbar\": {\"outlinewidth\": 0, \"ticks\": \"\"}}, \"type\": \"scatterpolar\"}], \"scatterpolargl\": [{\"marker\": {\"colorbar\": {\"outlinewidth\": 0, \"ticks\": \"\"}}, \"type\": \"scatterpolargl\"}], \"scatterternary\": [{\"marker\": {\"colorbar\": {\"outlinewidth\": 0, \"ticks\": \"\"}}, \"type\": \"scatterternary\"}], \"surface\": [{\"colorbar\": {\"outlinewidth\": 0, \"ticks\": \"\"}, \"colorscale\": [[0.0, \"#0d0887\"], [0.1111111111111111, \"#46039f\"], [0.2222222222222222, \"#7201a8\"], [0.3333333333333333, \"#9c179e\"], [0.4444444444444444, \"#bd3786\"], [0.5555555555555556, \"#d8576b\"], [0.6666666666666666, \"#ed7953\"], [0.7777777777777778, \"#fb9f3a\"], [0.8888888888888888, \"#fdca26\"], [1.0, \"#f0f921\"]], \"type\": \"surface\"}], \"table\": [{\"cells\": {\"fill\": {\"color\": \"#EBF0F8\"}, \"line\": {\"color\": \"white\"}}, \"header\": {\"fill\": {\"color\": \"#C8D4E3\"}, \"line\": {\"color\": \"white\"}}, \"type\": \"table\"}]}, \"layout\": {\"annotationdefaults\": {\"arrowcolor\": \"#2a3f5f\", \"arrowhead\": 0, \"arrowwidth\": 1}, \"autotypenumbers\": \"strict\", \"coloraxis\": {\"colorbar\": {\"outlinewidth\": 0, \"ticks\": \"\"}}, \"colorscale\": {\"diverging\": [[0, \"#8e0152\"], [0.1, \"#c51b7d\"], [0.2, \"#de77ae\"], [0.3, \"#f1b6da\"], [0.4, \"#fde0ef\"], [0.5, \"#f7f7f7\"], [0.6, \"#e6f5d0\"], [0.7, \"#b8e186\"], [0.8, \"#7fbc41\"], [0.9, \"#4d9221\"], [1, \"#276419\"]], \"sequential\": [[0.0, \"#0d0887\"], [0.1111111111111111, \"#46039f\"], [0.2222222222222222, \"#7201a8\"], [0.3333333333333333, \"#9c179e\"], [0.4444444444444444, \"#bd3786\"], [0.5555555555555556, \"#d8576b\"], [0.6666666666666666, \"#ed7953\"], [0.7777777777777778, \"#fb9f3a\"], [0.8888888888888888, \"#fdca26\"], [1.0, \"#f0f921\"]], \"sequentialminus\": [[0.0, \"#0d0887\"], [0.1111111111111111, \"#46039f\"], [0.2222222222222222, \"#7201a8\"], [0.3333333333333333, \"#9c179e\"], [0.4444444444444444, \"#bd3786\"], [0.5555555555555556, \"#d8576b\"], [0.6666666666666666, \"#ed7953\"], [0.7777777777777778, \"#fb9f3a\"], [0.8888888888888888, \"#fdca26\"], [1.0, \"#f0f921\"]]}, \"colorway\": [\"#636efa\", \"#EF553B\", \"#00cc96\", \"#ab63fa\", \"#FFA15A\", \"#19d3f3\", \"#FF6692\", \"#B6E880\", \"#FF97FF\", \"#FECB52\"], \"font\": {\"color\": \"#2a3f5f\"}, \"geo\": {\"bgcolor\": \"white\", \"lakecolor\": \"white\", \"landcolor\": \"#E5ECF6\", \"showlakes\": true, \"showland\": true, \"subunitcolor\": \"white\"}, \"hoverlabel\": {\"align\": \"left\"}, \"hovermode\": \"closest\", \"mapbox\": {\"style\": \"light\"}, \"paper_bgcolor\": \"white\", \"plot_bgcolor\": \"#E5ECF6\", \"polar\": {\"angularaxis\": {\"gridcolor\": \"white\", \"linecolor\": \"white\", \"ticks\": \"\"}, \"bgcolor\": \"#E5ECF6\", \"radialaxis\": {\"gridcolor\": \"white\", \"linecolor\": \"white\", \"ticks\": \"\"}}, \"scene\": {\"xaxis\": {\"backgroundcolor\": \"#E5ECF6\", \"gridcolor\": \"white\", \"gridwidth\": 2, \"linecolor\": \"white\", \"showbackground\": true, \"ticks\": \"\", \"zerolinecolor\": \"white\"}, \"yaxis\": {\"backgroundcolor\": \"#E5ECF6\", \"gridcolor\": \"white\", \"gridwidth\": 2, \"linecolor\": \"white\", \"showbackground\": true, \"ticks\": \"\", \"zerolinecolor\": \"white\"}, \"zaxis\": {\"backgroundcolor\": \"#E5ECF6\", \"gridcolor\": \"white\", \"gridwidth\": 2, \"linecolor\": \"white\", \"showbackground\": true, \"ticks\": \"\", \"zerolinecolor\": \"white\"}}, \"shapedefaults\": {\"line\": {\"color\": \"#2a3f5f\"}}, \"ternary\": {\"aaxis\": {\"gridcolor\": \"white\", \"linecolor\": \"white\", \"ticks\": \"\"}, \"baxis\": {\"gridcolor\": \"white\", \"linecolor\": \"white\", \"ticks\": \"\"}, \"bgcolor\": \"#E5ECF6\", \"caxis\": {\"gridcolor\": \"white\", \"linecolor\": \"white\", \"ticks\": \"\"}}, \"title\": {\"x\": 0.05}, \"xaxis\": {\"automargin\": true, \"gridcolor\": \"white\", \"linecolor\": \"white\", \"ticks\": \"\", \"title\": {\"standoff\": 15}, \"zerolinecolor\": \"white\", \"zerolinewidth\": 2}, \"yaxis\": {\"automargin\": true, \"gridcolor\": \"white\", \"linecolor\": \"white\", \"ticks\": \"\", \"title\": {\"standoff\": 15}, \"zerolinecolor\": \"white\", \"zerolinewidth\": 2}}}, \"title\": {\"text\": \"European elections: voter turnout\"}, \"width\": 1000, \"xaxis\": {\"anchor\": \"y\", \"domain\": [0.0, 0.22], \"title\": {\"text\": \"YEAR\"}}, \"xaxis10\": {\"anchor\": \"y10\", \"domain\": [0.26, 0.48], \"matches\": \"x\", \"showticklabels\": false}, \"xaxis11\": {\"anchor\": \"y11\", \"domain\": [0.52, 0.74], \"matches\": \"x\", \"showticklabels\": false}, \"xaxis12\": {\"anchor\": \"y12\", \"domain\": [0.78, 1.0], \"matches\": \"x\", \"showticklabels\": false}, \"xaxis13\": {\"anchor\": \"y13\", \"domain\": [0.0, 0.22], \"matches\": \"x\", \"showticklabels\": false}, \"xaxis14\": {\"anchor\": \"y14\", \"domain\": [0.26, 0.48], \"matches\": \"x\", \"showticklabels\": false}, \"xaxis15\": {\"anchor\": \"y15\", \"domain\": [0.52, 0.74], \"matches\": \"x\", \"showticklabels\": false}, \"xaxis16\": {\"anchor\": \"y16\", \"domain\": [0.78, 1.0], \"matches\": \"x\", \"showticklabels\": false}, \"xaxis17\": {\"anchor\": \"y17\", \"domain\": [0.0, 0.22], \"matches\": \"x\", \"showticklabels\": false}, \"xaxis18\": {\"anchor\": \"y18\", \"domain\": [0.26, 0.48], \"matches\": \"x\", \"showticklabels\": false}, \"xaxis19\": {\"anchor\": \"y19\", \"domain\": [0.52, 0.74], \"matches\": \"x\", \"showticklabels\": false}, \"xaxis2\": {\"anchor\": \"y2\", \"domain\": [0.26, 0.48], \"matches\": \"x\", \"title\": {\"text\": \"YEAR\"}}, \"xaxis20\": {\"anchor\": \"y20\", \"domain\": [0.78, 1.0], \"matches\": \"x\", \"showticklabels\": false}, \"xaxis21\": {\"anchor\": \"y21\", \"domain\": [0.0, 0.22], \"matches\": \"x\", \"showticklabels\": false}, \"xaxis22\": {\"anchor\": \"y22\", \"domain\": [0.26, 0.48], \"matches\": \"x\", \"showticklabels\": false}, \"xaxis23\": {\"anchor\": \"y23\", \"domain\": [0.52, 0.74], \"matches\": \"x\", \"showticklabels\": false}, \"xaxis24\": {\"anchor\": \"y24\", \"domain\": [0.78, 1.0], \"matches\": \"x\", \"showticklabels\": false}, \"xaxis25\": {\"anchor\": \"y25\", \"domain\": [0.0, 0.22], \"matches\": \"x\", \"showticklabels\": false}, \"xaxis26\": {\"anchor\": \"y26\", \"domain\": [0.26, 0.48], \"matches\": \"x\", \"showticklabels\": false}, \"xaxis27\": {\"anchor\": \"y27\", \"domain\": [0.52, 0.74], \"matches\": \"x\", \"showticklabels\": false}, \"xaxis28\": {\"anchor\": \"y28\", \"domain\": [0.78, 1.0], \"matches\": \"x\", \"showticklabels\": false}, \"xaxis3\": {\"anchor\": \"y3\", \"domain\": [0.52, 0.74], \"matches\": \"x\", \"title\": {\"text\": \"YEAR\"}}, \"xaxis4\": {\"anchor\": \"y4\", \"domain\": [0.78, 1.0], \"matches\": \"x\", \"title\": {\"text\": \"YEAR\"}}, \"xaxis5\": {\"anchor\": \"y5\", \"domain\": [0.0, 0.22], \"matches\": \"x\", \"showticklabels\": false}, \"xaxis6\": {\"anchor\": \"y6\", \"domain\": [0.26, 0.48], \"matches\": \"x\", \"showticklabels\": false}, \"xaxis7\": {\"anchor\": \"y7\", \"domain\": [0.52, 0.74], \"matches\": \"x\", \"showticklabels\": false}, \"xaxis8\": {\"anchor\": \"y8\", \"domain\": [0.78, 1.0], \"matches\": \"x\", \"showticklabels\": false}, \"xaxis9\": {\"anchor\": \"y9\", \"domain\": [0.0, 0.22], \"matches\": \"x\", \"showticklabels\": false}, \"yaxis\": {\"anchor\": \"x\", \"domain\": [0.0, 0.10857142857142857], \"title\": {\"text\": \"RATE\"}}, \"yaxis10\": {\"anchor\": \"x10\", \"domain\": [0.29714285714285715, 0.4057142857142857], \"matches\": \"y\", \"showticklabels\": false}, \"yaxis11\": {\"anchor\": \"x11\", \"domain\": [0.29714285714285715, 0.4057142857142857], \"matches\": \"y\", \"showticklabels\": false}, \"yaxis12\": {\"anchor\": \"x12\", \"domain\": [0.29714285714285715, 0.4057142857142857], \"matches\": \"y\", \"showticklabels\": false}, \"yaxis13\": {\"anchor\": \"x13\", \"domain\": [0.44571428571428573, 0.5542857142857143], \"matches\": \"y\", \"title\": {\"text\": \"RATE\"}}, \"yaxis14\": {\"anchor\": \"x14\", \"domain\": [0.44571428571428573, 0.5542857142857143], \"matches\": \"y\", \"showticklabels\": false}, \"yaxis15\": {\"anchor\": \"x15\", \"domain\": [0.44571428571428573, 0.5542857142857143], \"matches\": \"y\", \"showticklabels\": false}, \"yaxis16\": {\"anchor\": \"x16\", \"domain\": [0.44571428571428573, 0.5542857142857143], \"matches\": \"y\", \"showticklabels\": false}, \"yaxis17\": {\"anchor\": \"x17\", \"domain\": [0.5942857142857143, 0.7028571428571428], \"matches\": \"y\", \"title\": {\"text\": \"RATE\"}}, \"yaxis18\": {\"anchor\": \"x18\", \"domain\": [0.5942857142857143, 0.7028571428571428], \"matches\": \"y\", \"showticklabels\": false}, \"yaxis19\": {\"anchor\": \"x19\", \"domain\": [0.5942857142857143, 0.7028571428571428], \"matches\": \"y\", \"showticklabels\": false}, \"yaxis2\": {\"anchor\": \"x2\", \"domain\": [0.0, 0.10857142857142857], \"matches\": \"y\", \"showticklabels\": false}, \"yaxis20\": {\"anchor\": \"x20\", \"domain\": [0.5942857142857143, 0.7028571428571428], \"matches\": \"y\", \"showticklabels\": false}, \"yaxis21\": {\"anchor\": \"x21\", \"domain\": [0.7428571428571429, 0.8514285714285714], \"matches\": \"y\", \"title\": {\"text\": \"RATE\"}}, \"yaxis22\": {\"anchor\": \"x22\", \"domain\": [0.7428571428571429, 0.8514285714285714], \"matches\": \"y\", \"showticklabels\": false}, \"yaxis23\": {\"anchor\": \"x23\", \"domain\": [0.7428571428571429, 0.8514285714285714], \"matches\": \"y\", \"showticklabels\": false}, \"yaxis24\": {\"anchor\": \"x24\", \"domain\": [0.7428571428571429, 0.8514285714285714], \"matches\": \"y\", \"showticklabels\": false}, \"yaxis25\": {\"anchor\": \"x25\", \"domain\": [0.8914285714285713, 0.9999999999999999], \"matches\": \"y\", \"title\": {\"text\": \"RATE\"}}, \"yaxis26\": {\"anchor\": \"x26\", \"domain\": [0.8914285714285713, 0.9999999999999999], \"matches\": \"y\", \"showticklabels\": false}, \"yaxis27\": {\"anchor\": \"x27\", \"domain\": [0.8914285714285713, 0.9999999999999999], \"matches\": \"y\", \"showticklabels\": false}, \"yaxis28\": {\"anchor\": \"x28\", \"domain\": [0.8914285714285713, 0.9999999999999999], \"matches\": \"y\", \"showticklabels\": false}, \"yaxis3\": {\"anchor\": \"x3\", \"domain\": [0.0, 0.10857142857142857], \"matches\": \"y\", \"showticklabels\": false}, \"yaxis4\": {\"anchor\": \"x4\", \"domain\": [0.0, 0.10857142857142857], \"matches\": \"y\", \"showticklabels\": false}, \"yaxis5\": {\"anchor\": \"x5\", \"domain\": [0.14857142857142858, 0.2571428571428571], \"matches\": \"y\", \"title\": {\"text\": \"RATE\"}}, \"yaxis6\": {\"anchor\": \"x6\", \"domain\": [0.14857142857142858, 0.2571428571428571], \"matches\": \"y\", \"showticklabels\": false}, \"yaxis7\": {\"anchor\": \"x7\", \"domain\": [0.14857142857142858, 0.2571428571428571], \"matches\": \"y\", \"showticklabels\": false}, \"yaxis8\": {\"anchor\": \"x8\", \"domain\": [0.14857142857142858, 0.2571428571428571], \"matches\": \"y\", \"showticklabels\": false}, \"yaxis9\": {\"anchor\": \"x9\", \"domain\": [0.29714285714285715, 0.4057142857142857], \"matches\": \"y\", \"title\": {\"text\": \"RATE\"}}},                        {\"responsive\": true}                    ).then(function(){\n",
       "                            \n",
       "var gd = document.getElementById('63a9fb6a-840a-4269-8b1e-239cfee32efb');\n",
       "var x = new MutationObserver(function (mutations, observer) {{\n",
       "        var display = window.getComputedStyle(gd).display;\n",
       "        if (!display || display === 'none') {{\n",
       "            console.log([gd, 'removed!']);\n",
       "            Plotly.purge(gd);\n",
       "            observer.disconnect();\n",
       "        }}\n",
       "}});\n",
       "\n",
       "// Listen for the removal of the full notebook cells\n",
       "var notebookContainer = gd.closest('#notebook-container');\n",
       "if (notebookContainer) {{\n",
       "    x.observe(notebookContainer, {childList: true});\n",
       "}}\n",
       "\n",
       "// Listen for the clearing of the current output cell\n",
       "var outputEl = gd.closest('.output');\n",
       "if (outputEl) {{\n",
       "    x.observe(outputEl, {childList: true});\n",
       "}}\n",
       "\n",
       "                        })                };                });            </script>        </div>"
      ]
     },
     "metadata": {},
     "output_type": "display_data"
    }
   ],
   "source": [
    " fig=px.scatter(turnout, x=\"YEAR\", y=\"RATE\",facet_col='COUNTRY_ID',facet_col_wrap=4,title='European elections: voter turnout',\n",
    "              facet_row_spacing=0.04, # default is 0.07 when facet_col_wrap is used\n",
    "              facet_col_spacing=0.04, # default is 0.03\n",
    "              height=1000, width=1000)\n",
    "fig.update_traces(mode='lines+markers')\n",
    "#fig.update_xaxes(showticklabels=True)\n",
    "#fig.update_yaxes(showticklabels=True)\n",
    "fig.for_each_annotation(lambda a: a.update(text=a.text.split(\"=\")[-1]))      #to remove 'country id'\n",
    "fig.show()"
   ]
  },
  {
   "cell_type": "code",
   "execution_count": 105,
   "metadata": {
    "scrolled": true
   },
   "outputs": [
    {
     "data": {
      "text/html": [
       "<div>\n",
       "<style scoped>\n",
       "    .dataframe tbody tr th:only-of-type {\n",
       "        vertical-align: middle;\n",
       "    }\n",
       "\n",
       "    .dataframe tbody tr th {\n",
       "        vertical-align: top;\n",
       "    }\n",
       "\n",
       "    .dataframe thead th {\n",
       "        text-align: right;\n",
       "    }\n",
       "</style>\n",
       "<table border=\"1\" class=\"dataframe\">\n",
       "  <thead>\n",
       "    <tr style=\"text-align: right;\">\n",
       "      <th></th>\n",
       "      <th>YEAR</th>\n",
       "      <th>COUNTRY_ID</th>\n",
       "      <th>RATE</th>\n",
       "      <th>UPDATE_STATUS</th>\n",
       "      <th>UPDATE_TIME</th>\n",
       "    </tr>\n",
       "  </thead>\n",
       "  <tbody>\n",
       "    <tr>\n",
       "      <th>119</th>\n",
       "      <td>2014</td>\n",
       "      <td>BE</td>\n",
       "      <td>89.64</td>\n",
       "      <td>FINAL</td>\n",
       "      <td>NaN</td>\n",
       "    </tr>\n",
       "    <tr>\n",
       "      <th>120</th>\n",
       "      <td>2014</td>\n",
       "      <td>DK</td>\n",
       "      <td>56.32</td>\n",
       "      <td>FINAL</td>\n",
       "      <td>NaN</td>\n",
       "    </tr>\n",
       "    <tr>\n",
       "      <th>121</th>\n",
       "      <td>2014</td>\n",
       "      <td>DE</td>\n",
       "      <td>48.10</td>\n",
       "      <td>FINAL</td>\n",
       "      <td>NaN</td>\n",
       "    </tr>\n",
       "    <tr>\n",
       "      <th>122</th>\n",
       "      <td>2014</td>\n",
       "      <td>IE</td>\n",
       "      <td>52.44</td>\n",
       "      <td>FINAL</td>\n",
       "      <td>NaN</td>\n",
       "    </tr>\n",
       "    <tr>\n",
       "      <th>123</th>\n",
       "      <td>2014</td>\n",
       "      <td>FR</td>\n",
       "      <td>42.43</td>\n",
       "      <td>FINAL</td>\n",
       "      <td>NaN</td>\n",
       "    </tr>\n",
       "    <tr>\n",
       "      <th>124</th>\n",
       "      <td>2014</td>\n",
       "      <td>IT</td>\n",
       "      <td>57.22</td>\n",
       "      <td>FINAL</td>\n",
       "      <td>NaN</td>\n",
       "    </tr>\n",
       "    <tr>\n",
       "      <th>125</th>\n",
       "      <td>2014</td>\n",
       "      <td>LU</td>\n",
       "      <td>85.55</td>\n",
       "      <td>FINAL</td>\n",
       "      <td>NaN</td>\n",
       "    </tr>\n",
       "    <tr>\n",
       "      <th>126</th>\n",
       "      <td>2014</td>\n",
       "      <td>NL</td>\n",
       "      <td>37.32</td>\n",
       "      <td>FINAL</td>\n",
       "      <td>NaN</td>\n",
       "    </tr>\n",
       "    <tr>\n",
       "      <th>127</th>\n",
       "      <td>2014</td>\n",
       "      <td>UK</td>\n",
       "      <td>35.60</td>\n",
       "      <td>FINAL</td>\n",
       "      <td>NaN</td>\n",
       "    </tr>\n",
       "    <tr>\n",
       "      <th>128</th>\n",
       "      <td>2014</td>\n",
       "      <td>EL</td>\n",
       "      <td>59.97</td>\n",
       "      <td>FINAL</td>\n",
       "      <td>NaN</td>\n",
       "    </tr>\n",
       "    <tr>\n",
       "      <th>129</th>\n",
       "      <td>2014</td>\n",
       "      <td>ES</td>\n",
       "      <td>43.81</td>\n",
       "      <td>FINAL</td>\n",
       "      <td>NaN</td>\n",
       "    </tr>\n",
       "    <tr>\n",
       "      <th>130</th>\n",
       "      <td>2014</td>\n",
       "      <td>PT</td>\n",
       "      <td>33.67</td>\n",
       "      <td>FINAL</td>\n",
       "      <td>NaN</td>\n",
       "    </tr>\n",
       "    <tr>\n",
       "      <th>131</th>\n",
       "      <td>2014</td>\n",
       "      <td>SE</td>\n",
       "      <td>51.07</td>\n",
       "      <td>FINAL</td>\n",
       "      <td>NaN</td>\n",
       "    </tr>\n",
       "    <tr>\n",
       "      <th>132</th>\n",
       "      <td>2014</td>\n",
       "      <td>AT</td>\n",
       "      <td>45.39</td>\n",
       "      <td>FINAL</td>\n",
       "      <td>NaN</td>\n",
       "    </tr>\n",
       "    <tr>\n",
       "      <th>133</th>\n",
       "      <td>2014</td>\n",
       "      <td>FI</td>\n",
       "      <td>39.10</td>\n",
       "      <td>FINAL</td>\n",
       "      <td>NaN</td>\n",
       "    </tr>\n",
       "    <tr>\n",
       "      <th>134</th>\n",
       "      <td>2014</td>\n",
       "      <td>CZ</td>\n",
       "      <td>18.20</td>\n",
       "      <td>FINAL</td>\n",
       "      <td>NaN</td>\n",
       "    </tr>\n",
       "    <tr>\n",
       "      <th>135</th>\n",
       "      <td>2014</td>\n",
       "      <td>EE</td>\n",
       "      <td>36.52</td>\n",
       "      <td>FINAL</td>\n",
       "      <td>NaN</td>\n",
       "    </tr>\n",
       "    <tr>\n",
       "      <th>136</th>\n",
       "      <td>2014</td>\n",
       "      <td>CY</td>\n",
       "      <td>43.97</td>\n",
       "      <td>FINAL</td>\n",
       "      <td>NaN</td>\n",
       "    </tr>\n",
       "    <tr>\n",
       "      <th>137</th>\n",
       "      <td>2014</td>\n",
       "      <td>LT</td>\n",
       "      <td>47.35</td>\n",
       "      <td>FINAL</td>\n",
       "      <td>NaN</td>\n",
       "    </tr>\n",
       "    <tr>\n",
       "      <th>138</th>\n",
       "      <td>2014</td>\n",
       "      <td>LV</td>\n",
       "      <td>30.24</td>\n",
       "      <td>FINAL</td>\n",
       "      <td>NaN</td>\n",
       "    </tr>\n",
       "    <tr>\n",
       "      <th>139</th>\n",
       "      <td>2014</td>\n",
       "      <td>HU</td>\n",
       "      <td>28.97</td>\n",
       "      <td>FINAL</td>\n",
       "      <td>NaN</td>\n",
       "    </tr>\n",
       "    <tr>\n",
       "      <th>140</th>\n",
       "      <td>2014</td>\n",
       "      <td>MT</td>\n",
       "      <td>74.80</td>\n",
       "      <td>FINAL</td>\n",
       "      <td>NaN</td>\n",
       "    </tr>\n",
       "    <tr>\n",
       "      <th>141</th>\n",
       "      <td>2014</td>\n",
       "      <td>PL</td>\n",
       "      <td>23.83</td>\n",
       "      <td>FINAL</td>\n",
       "      <td>NaN</td>\n",
       "    </tr>\n",
       "    <tr>\n",
       "      <th>142</th>\n",
       "      <td>2014</td>\n",
       "      <td>SI</td>\n",
       "      <td>24.55</td>\n",
       "      <td>FINAL</td>\n",
       "      <td>NaN</td>\n",
       "    </tr>\n",
       "    <tr>\n",
       "      <th>143</th>\n",
       "      <td>2014</td>\n",
       "      <td>SK</td>\n",
       "      <td>13.05</td>\n",
       "      <td>FINAL</td>\n",
       "      <td>NaN</td>\n",
       "    </tr>\n",
       "    <tr>\n",
       "      <th>144</th>\n",
       "      <td>2014</td>\n",
       "      <td>BG</td>\n",
       "      <td>35.84</td>\n",
       "      <td>FINAL</td>\n",
       "      <td>NaN</td>\n",
       "    </tr>\n",
       "    <tr>\n",
       "      <th>145</th>\n",
       "      <td>2014</td>\n",
       "      <td>RO</td>\n",
       "      <td>32.44</td>\n",
       "      <td>FINAL</td>\n",
       "      <td>NaN</td>\n",
       "    </tr>\n",
       "    <tr>\n",
       "      <th>146</th>\n",
       "      <td>2014</td>\n",
       "      <td>HR</td>\n",
       "      <td>25.24</td>\n",
       "      <td>FINAL</td>\n",
       "      <td>NaN</td>\n",
       "    </tr>\n",
       "  </tbody>\n",
       "</table>\n",
       "</div>"
      ],
      "text/plain": [
       "     YEAR COUNTRY_ID   RATE UPDATE_STATUS UPDATE_TIME\n",
       "119  2014         BE  89.64         FINAL         NaN\n",
       "120  2014         DK  56.32         FINAL         NaN\n",
       "121  2014         DE  48.10         FINAL         NaN\n",
       "122  2014         IE  52.44         FINAL         NaN\n",
       "123  2014         FR  42.43         FINAL         NaN\n",
       "124  2014         IT  57.22         FINAL         NaN\n",
       "125  2014         LU  85.55         FINAL         NaN\n",
       "126  2014         NL  37.32         FINAL         NaN\n",
       "127  2014         UK  35.60         FINAL         NaN\n",
       "128  2014         EL  59.97         FINAL         NaN\n",
       "129  2014         ES  43.81         FINAL         NaN\n",
       "130  2014         PT  33.67         FINAL         NaN\n",
       "131  2014         SE  51.07         FINAL         NaN\n",
       "132  2014         AT  45.39         FINAL         NaN\n",
       "133  2014         FI  39.10         FINAL         NaN\n",
       "134  2014         CZ  18.20         FINAL         NaN\n",
       "135  2014         EE  36.52         FINAL         NaN\n",
       "136  2014         CY  43.97         FINAL         NaN\n",
       "137  2014         LT  47.35         FINAL         NaN\n",
       "138  2014         LV  30.24         FINAL         NaN\n",
       "139  2014         HU  28.97         FINAL         NaN\n",
       "140  2014         MT  74.80         FINAL         NaN\n",
       "141  2014         PL  23.83         FINAL         NaN\n",
       "142  2014         SI  24.55         FINAL         NaN\n",
       "143  2014         SK  13.05         FINAL         NaN\n",
       "144  2014         BG  35.84         FINAL         NaN\n",
       "145  2014         RO  32.44         FINAL         NaN\n",
       "146  2014         HR  25.24         FINAL         NaN"
      ]
     },
     "execution_count": 105,
     "metadata": {},
     "output_type": "execute_result"
    }
   ],
   "source": [
    "turnout2014=turnout[turnout['YEAR']==2014] \n",
    "turnout2014"
   ]
  },
  {
   "cell_type": "code",
   "execution_count": 108,
   "metadata": {
    "scrolled": false
   },
   "outputs": [
    {
     "data": {
      "text/html": [
       "<div>\n",
       "<style scoped>\n",
       "    .dataframe tbody tr th:only-of-type {\n",
       "        vertical-align: middle;\n",
       "    }\n",
       "\n",
       "    .dataframe tbody tr th {\n",
       "        vertical-align: top;\n",
       "    }\n",
       "\n",
       "    .dataframe thead th {\n",
       "        text-align: right;\n",
       "    }\n",
       "</style>\n",
       "<table border=\"1\" class=\"dataframe\">\n",
       "  <thead>\n",
       "    <tr style=\"text-align: right;\">\n",
       "      <th></th>\n",
       "      <th>YEAR</th>\n",
       "      <th>COUNTRY_ID</th>\n",
       "      <th>RATE</th>\n",
       "      <th>UPDATE_STATUS</th>\n",
       "      <th>UPDATE_TIME</th>\n",
       "    </tr>\n",
       "  </thead>\n",
       "  <tbody>\n",
       "    <tr>\n",
       "      <th>147</th>\n",
       "      <td>2019</td>\n",
       "      <td>BE</td>\n",
       "      <td>89.00</td>\n",
       "      <td>PROVISIONAL</td>\n",
       "      <td>2019-05-27 01:28</td>\n",
       "    </tr>\n",
       "    <tr>\n",
       "      <th>148</th>\n",
       "      <td>2019</td>\n",
       "      <td>BG</td>\n",
       "      <td>30.83</td>\n",
       "      <td>PROVISIONAL</td>\n",
       "      <td>2019-05-27 00:18</td>\n",
       "    </tr>\n",
       "    <tr>\n",
       "      <th>149</th>\n",
       "      <td>2019</td>\n",
       "      <td>CZ</td>\n",
       "      <td>28.72</td>\n",
       "      <td>FINAL</td>\n",
       "      <td>2019-05-27 01:28</td>\n",
       "    </tr>\n",
       "    <tr>\n",
       "      <th>150</th>\n",
       "      <td>2019</td>\n",
       "      <td>DK</td>\n",
       "      <td>66.00</td>\n",
       "      <td>PROVISIONAL</td>\n",
       "      <td>2019-05-27 01:28</td>\n",
       "    </tr>\n",
       "    <tr>\n",
       "      <th>151</th>\n",
       "      <td>2019</td>\n",
       "      <td>DE</td>\n",
       "      <td>61.50</td>\n",
       "      <td>PROVISIONAL</td>\n",
       "      <td>2019-05-26 22:51</td>\n",
       "    </tr>\n",
       "    <tr>\n",
       "      <th>152</th>\n",
       "      <td>2019</td>\n",
       "      <td>EE</td>\n",
       "      <td>37.60</td>\n",
       "      <td>FINAL</td>\n",
       "      <td>2019-05-27 01:28</td>\n",
       "    </tr>\n",
       "    <tr>\n",
       "      <th>153</th>\n",
       "      <td>2019</td>\n",
       "      <td>IE</td>\n",
       "      <td>49.30</td>\n",
       "      <td>PROVISIONAL</td>\n",
       "      <td>2019-05-26 18:07</td>\n",
       "    </tr>\n",
       "    <tr>\n",
       "      <th>154</th>\n",
       "      <td>2019</td>\n",
       "      <td>EL</td>\n",
       "      <td>57.86</td>\n",
       "      <td>PROVISIONAL</td>\n",
       "      <td>2019-05-27 02:01</td>\n",
       "    </tr>\n",
       "    <tr>\n",
       "      <th>155</th>\n",
       "      <td>2019</td>\n",
       "      <td>ES</td>\n",
       "      <td>64.32</td>\n",
       "      <td>PROVISIONAL</td>\n",
       "      <td>2019-05-27 01:28</td>\n",
       "    </tr>\n",
       "    <tr>\n",
       "      <th>156</th>\n",
       "      <td>2019</td>\n",
       "      <td>FR</td>\n",
       "      <td>50.97</td>\n",
       "      <td>PROVISIONAL</td>\n",
       "      <td>2019-05-26 22:51</td>\n",
       "    </tr>\n",
       "    <tr>\n",
       "      <th>157</th>\n",
       "      <td>2019</td>\n",
       "      <td>IT</td>\n",
       "      <td>56.09</td>\n",
       "      <td>PROVISIONAL</td>\n",
       "      <td>2019-05-27 01:28</td>\n",
       "    </tr>\n",
       "    <tr>\n",
       "      <th>158</th>\n",
       "      <td>2019</td>\n",
       "      <td>CY</td>\n",
       "      <td>44.99</td>\n",
       "      <td>FINAL</td>\n",
       "      <td>2019-05-27 01:28</td>\n",
       "    </tr>\n",
       "    <tr>\n",
       "      <th>159</th>\n",
       "      <td>2019</td>\n",
       "      <td>LV</td>\n",
       "      <td>33.60</td>\n",
       "      <td>FINAL</td>\n",
       "      <td>2019-05-27 01:28</td>\n",
       "    </tr>\n",
       "    <tr>\n",
       "      <th>160</th>\n",
       "      <td>2019</td>\n",
       "      <td>LT</td>\n",
       "      <td>52.88</td>\n",
       "      <td>PROVISIONAL</td>\n",
       "      <td>2019-05-27 02:01</td>\n",
       "    </tr>\n",
       "    <tr>\n",
       "      <th>161</th>\n",
       "      <td>2019</td>\n",
       "      <td>LU</td>\n",
       "      <td>84.10</td>\n",
       "      <td>FINAL</td>\n",
       "      <td>2019-05-27 01:28</td>\n",
       "    </tr>\n",
       "    <tr>\n",
       "      <th>162</th>\n",
       "      <td>2019</td>\n",
       "      <td>HU</td>\n",
       "      <td>43.36</td>\n",
       "      <td>PROVISIONAL</td>\n",
       "      <td>2019-05-26 23:51</td>\n",
       "    </tr>\n",
       "    <tr>\n",
       "      <th>163</th>\n",
       "      <td>2019</td>\n",
       "      <td>MT</td>\n",
       "      <td>72.60</td>\n",
       "      <td>FINAL</td>\n",
       "      <td>2019-05-27 01:28</td>\n",
       "    </tr>\n",
       "    <tr>\n",
       "      <th>164</th>\n",
       "      <td>2019</td>\n",
       "      <td>NL</td>\n",
       "      <td>41.80</td>\n",
       "      <td>PROVISIONAL</td>\n",
       "      <td>2019-05-27 01:28</td>\n",
       "    </tr>\n",
       "    <tr>\n",
       "      <th>165</th>\n",
       "      <td>2019</td>\n",
       "      <td>AT</td>\n",
       "      <td>59.30</td>\n",
       "      <td>PROVISIONAL</td>\n",
       "      <td>2019-05-26 23:51</td>\n",
       "    </tr>\n",
       "    <tr>\n",
       "      <th>166</th>\n",
       "      <td>2019</td>\n",
       "      <td>PL</td>\n",
       "      <td>43.00</td>\n",
       "      <td>PROVISIONAL</td>\n",
       "      <td>2019-05-26 21:19</td>\n",
       "    </tr>\n",
       "    <tr>\n",
       "      <th>167</th>\n",
       "      <td>2019</td>\n",
       "      <td>PT</td>\n",
       "      <td>31.01</td>\n",
       "      <td>PROVISIONAL</td>\n",
       "      <td>2019-05-27 01:28</td>\n",
       "    </tr>\n",
       "    <tr>\n",
       "      <th>168</th>\n",
       "      <td>2019</td>\n",
       "      <td>RO</td>\n",
       "      <td>49.02</td>\n",
       "      <td>PROVISIONAL</td>\n",
       "      <td>2019-05-26 22:51</td>\n",
       "    </tr>\n",
       "    <tr>\n",
       "      <th>169</th>\n",
       "      <td>2019</td>\n",
       "      <td>SI</td>\n",
       "      <td>28.29</td>\n",
       "      <td>PROVISIONAL</td>\n",
       "      <td>2019-05-27 01:28</td>\n",
       "    </tr>\n",
       "    <tr>\n",
       "      <th>170</th>\n",
       "      <td>2019</td>\n",
       "      <td>SK</td>\n",
       "      <td>22.74</td>\n",
       "      <td>FINAL</td>\n",
       "      <td>2019-05-27 01:28</td>\n",
       "    </tr>\n",
       "    <tr>\n",
       "      <th>171</th>\n",
       "      <td>2019</td>\n",
       "      <td>FI</td>\n",
       "      <td>40.70</td>\n",
       "      <td>FINAL</td>\n",
       "      <td>2019-05-26 22:51</td>\n",
       "    </tr>\n",
       "    <tr>\n",
       "      <th>172</th>\n",
       "      <td>2019</td>\n",
       "      <td>SE</td>\n",
       "      <td>53.30</td>\n",
       "      <td>PROVISIONAL</td>\n",
       "      <td>2019-05-27 01:28</td>\n",
       "    </tr>\n",
       "    <tr>\n",
       "      <th>173</th>\n",
       "      <td>2019</td>\n",
       "      <td>UK</td>\n",
       "      <td>37.00</td>\n",
       "      <td>PROVISIONAL</td>\n",
       "      <td>2019-05-26 23:51</td>\n",
       "    </tr>\n",
       "    <tr>\n",
       "      <th>174</th>\n",
       "      <td>2019</td>\n",
       "      <td>HR</td>\n",
       "      <td>29.65</td>\n",
       "      <td>PROVISIONAL</td>\n",
       "      <td>2019-05-27 00:18</td>\n",
       "    </tr>\n",
       "  </tbody>\n",
       "</table>\n",
       "</div>"
      ],
      "text/plain": [
       "     YEAR COUNTRY_ID   RATE UPDATE_STATUS       UPDATE_TIME\n",
       "147  2019         BE  89.00   PROVISIONAL  2019-05-27 01:28\n",
       "148  2019         BG  30.83   PROVISIONAL  2019-05-27 00:18\n",
       "149  2019         CZ  28.72         FINAL  2019-05-27 01:28\n",
       "150  2019         DK  66.00   PROVISIONAL  2019-05-27 01:28\n",
       "151  2019         DE  61.50   PROVISIONAL  2019-05-26 22:51\n",
       "152  2019         EE  37.60         FINAL  2019-05-27 01:28\n",
       "153  2019         IE  49.30   PROVISIONAL  2019-05-26 18:07\n",
       "154  2019         EL  57.86   PROVISIONAL  2019-05-27 02:01\n",
       "155  2019         ES  64.32   PROVISIONAL  2019-05-27 01:28\n",
       "156  2019         FR  50.97   PROVISIONAL  2019-05-26 22:51\n",
       "157  2019         IT  56.09   PROVISIONAL  2019-05-27 01:28\n",
       "158  2019         CY  44.99         FINAL  2019-05-27 01:28\n",
       "159  2019         LV  33.60         FINAL  2019-05-27 01:28\n",
       "160  2019         LT  52.88   PROVISIONAL  2019-05-27 02:01\n",
       "161  2019         LU  84.10         FINAL  2019-05-27 01:28\n",
       "162  2019         HU  43.36   PROVISIONAL  2019-05-26 23:51\n",
       "163  2019         MT  72.60         FINAL  2019-05-27 01:28\n",
       "164  2019         NL  41.80   PROVISIONAL  2019-05-27 01:28\n",
       "165  2019         AT  59.30   PROVISIONAL  2019-05-26 23:51\n",
       "166  2019         PL  43.00   PROVISIONAL  2019-05-26 21:19\n",
       "167  2019         PT  31.01   PROVISIONAL  2019-05-27 01:28\n",
       "168  2019         RO  49.02   PROVISIONAL  2019-05-26 22:51\n",
       "169  2019         SI  28.29   PROVISIONAL  2019-05-27 01:28\n",
       "170  2019         SK  22.74         FINAL  2019-05-27 01:28\n",
       "171  2019         FI  40.70         FINAL  2019-05-26 22:51\n",
       "172  2019         SE  53.30   PROVISIONAL  2019-05-27 01:28\n",
       "173  2019         UK  37.00   PROVISIONAL  2019-05-26 23:51\n",
       "174  2019         HR  29.65   PROVISIONAL  2019-05-27 00:18"
      ]
     },
     "execution_count": 108,
     "metadata": {},
     "output_type": "execute_result"
    }
   ],
   "source": [
    "turnout2019=turnout[turnout['YEAR']==2019]\n",
    "turnout2019"
   ]
  },
  {
   "cell_type": "code",
   "execution_count": 110,
   "metadata": {
    "scrolled": true
   },
   "outputs": [
    {
     "data": {
      "text/html": [
       "<div>\n",
       "<style scoped>\n",
       "    .dataframe tbody tr th:only-of-type {\n",
       "        vertical-align: middle;\n",
       "    }\n",
       "\n",
       "    .dataframe tbody tr th {\n",
       "        vertical-align: top;\n",
       "    }\n",
       "\n",
       "    .dataframe thead th {\n",
       "        text-align: right;\n",
       "    }\n",
       "</style>\n",
       "<table border=\"1\" class=\"dataframe\">\n",
       "  <thead>\n",
       "    <tr style=\"text-align: right;\">\n",
       "      <th></th>\n",
       "      <th>YEAR</th>\n",
       "      <th>COUNTRY_ID</th>\n",
       "      <th>RATE</th>\n",
       "      <th>UPDATE_STATUS</th>\n",
       "      <th>UPDATE_TIME</th>\n",
       "    </tr>\n",
       "  </thead>\n",
       "  <tbody>\n",
       "    <tr>\n",
       "      <th>119</th>\n",
       "      <td>2014</td>\n",
       "      <td>BE</td>\n",
       "      <td>89.64</td>\n",
       "      <td>FINAL</td>\n",
       "      <td>NaN</td>\n",
       "    </tr>\n",
       "    <tr>\n",
       "      <th>120</th>\n",
       "      <td>2014</td>\n",
       "      <td>DK</td>\n",
       "      <td>56.32</td>\n",
       "      <td>FINAL</td>\n",
       "      <td>NaN</td>\n",
       "    </tr>\n",
       "    <tr>\n",
       "      <th>121</th>\n",
       "      <td>2014</td>\n",
       "      <td>DE</td>\n",
       "      <td>48.10</td>\n",
       "      <td>FINAL</td>\n",
       "      <td>NaN</td>\n",
       "    </tr>\n",
       "    <tr>\n",
       "      <th>122</th>\n",
       "      <td>2014</td>\n",
       "      <td>IE</td>\n",
       "      <td>52.44</td>\n",
       "      <td>FINAL</td>\n",
       "      <td>NaN</td>\n",
       "    </tr>\n",
       "    <tr>\n",
       "      <th>123</th>\n",
       "      <td>2014</td>\n",
       "      <td>FR</td>\n",
       "      <td>42.43</td>\n",
       "      <td>FINAL</td>\n",
       "      <td>NaN</td>\n",
       "    </tr>\n",
       "    <tr>\n",
       "      <th>124</th>\n",
       "      <td>2014</td>\n",
       "      <td>IT</td>\n",
       "      <td>57.22</td>\n",
       "      <td>FINAL</td>\n",
       "      <td>NaN</td>\n",
       "    </tr>\n",
       "    <tr>\n",
       "      <th>125</th>\n",
       "      <td>2014</td>\n",
       "      <td>LU</td>\n",
       "      <td>85.55</td>\n",
       "      <td>FINAL</td>\n",
       "      <td>NaN</td>\n",
       "    </tr>\n",
       "    <tr>\n",
       "      <th>126</th>\n",
       "      <td>2014</td>\n",
       "      <td>NL</td>\n",
       "      <td>37.32</td>\n",
       "      <td>FINAL</td>\n",
       "      <td>NaN</td>\n",
       "    </tr>\n",
       "    <tr>\n",
       "      <th>127</th>\n",
       "      <td>2014</td>\n",
       "      <td>UK</td>\n",
       "      <td>35.60</td>\n",
       "      <td>FINAL</td>\n",
       "      <td>NaN</td>\n",
       "    </tr>\n",
       "    <tr>\n",
       "      <th>128</th>\n",
       "      <td>2014</td>\n",
       "      <td>EL</td>\n",
       "      <td>59.97</td>\n",
       "      <td>FINAL</td>\n",
       "      <td>NaN</td>\n",
       "    </tr>\n",
       "    <tr>\n",
       "      <th>129</th>\n",
       "      <td>2014</td>\n",
       "      <td>ES</td>\n",
       "      <td>43.81</td>\n",
       "      <td>FINAL</td>\n",
       "      <td>NaN</td>\n",
       "    </tr>\n",
       "    <tr>\n",
       "      <th>130</th>\n",
       "      <td>2014</td>\n",
       "      <td>PT</td>\n",
       "      <td>33.67</td>\n",
       "      <td>FINAL</td>\n",
       "      <td>NaN</td>\n",
       "    </tr>\n",
       "    <tr>\n",
       "      <th>131</th>\n",
       "      <td>2014</td>\n",
       "      <td>SE</td>\n",
       "      <td>51.07</td>\n",
       "      <td>FINAL</td>\n",
       "      <td>NaN</td>\n",
       "    </tr>\n",
       "    <tr>\n",
       "      <th>132</th>\n",
       "      <td>2014</td>\n",
       "      <td>AT</td>\n",
       "      <td>45.39</td>\n",
       "      <td>FINAL</td>\n",
       "      <td>NaN</td>\n",
       "    </tr>\n",
       "    <tr>\n",
       "      <th>133</th>\n",
       "      <td>2014</td>\n",
       "      <td>FI</td>\n",
       "      <td>39.10</td>\n",
       "      <td>FINAL</td>\n",
       "      <td>NaN</td>\n",
       "    </tr>\n",
       "    <tr>\n",
       "      <th>134</th>\n",
       "      <td>2014</td>\n",
       "      <td>CZ</td>\n",
       "      <td>18.20</td>\n",
       "      <td>FINAL</td>\n",
       "      <td>NaN</td>\n",
       "    </tr>\n",
       "    <tr>\n",
       "      <th>135</th>\n",
       "      <td>2014</td>\n",
       "      <td>EE</td>\n",
       "      <td>36.52</td>\n",
       "      <td>FINAL</td>\n",
       "      <td>NaN</td>\n",
       "    </tr>\n",
       "    <tr>\n",
       "      <th>136</th>\n",
       "      <td>2014</td>\n",
       "      <td>CY</td>\n",
       "      <td>43.97</td>\n",
       "      <td>FINAL</td>\n",
       "      <td>NaN</td>\n",
       "    </tr>\n",
       "    <tr>\n",
       "      <th>137</th>\n",
       "      <td>2014</td>\n",
       "      <td>LT</td>\n",
       "      <td>47.35</td>\n",
       "      <td>FINAL</td>\n",
       "      <td>NaN</td>\n",
       "    </tr>\n",
       "    <tr>\n",
       "      <th>138</th>\n",
       "      <td>2014</td>\n",
       "      <td>LV</td>\n",
       "      <td>30.24</td>\n",
       "      <td>FINAL</td>\n",
       "      <td>NaN</td>\n",
       "    </tr>\n",
       "    <tr>\n",
       "      <th>139</th>\n",
       "      <td>2014</td>\n",
       "      <td>HU</td>\n",
       "      <td>28.97</td>\n",
       "      <td>FINAL</td>\n",
       "      <td>NaN</td>\n",
       "    </tr>\n",
       "    <tr>\n",
       "      <th>140</th>\n",
       "      <td>2014</td>\n",
       "      <td>MT</td>\n",
       "      <td>74.80</td>\n",
       "      <td>FINAL</td>\n",
       "      <td>NaN</td>\n",
       "    </tr>\n",
       "    <tr>\n",
       "      <th>141</th>\n",
       "      <td>2014</td>\n",
       "      <td>PL</td>\n",
       "      <td>23.83</td>\n",
       "      <td>FINAL</td>\n",
       "      <td>NaN</td>\n",
       "    </tr>\n",
       "    <tr>\n",
       "      <th>142</th>\n",
       "      <td>2014</td>\n",
       "      <td>SI</td>\n",
       "      <td>24.55</td>\n",
       "      <td>FINAL</td>\n",
       "      <td>NaN</td>\n",
       "    </tr>\n",
       "    <tr>\n",
       "      <th>143</th>\n",
       "      <td>2014</td>\n",
       "      <td>SK</td>\n",
       "      <td>13.05</td>\n",
       "      <td>FINAL</td>\n",
       "      <td>NaN</td>\n",
       "    </tr>\n",
       "    <tr>\n",
       "      <th>144</th>\n",
       "      <td>2014</td>\n",
       "      <td>BG</td>\n",
       "      <td>35.84</td>\n",
       "      <td>FINAL</td>\n",
       "      <td>NaN</td>\n",
       "    </tr>\n",
       "    <tr>\n",
       "      <th>145</th>\n",
       "      <td>2014</td>\n",
       "      <td>RO</td>\n",
       "      <td>32.44</td>\n",
       "      <td>FINAL</td>\n",
       "      <td>NaN</td>\n",
       "    </tr>\n",
       "    <tr>\n",
       "      <th>146</th>\n",
       "      <td>2014</td>\n",
       "      <td>HR</td>\n",
       "      <td>25.24</td>\n",
       "      <td>FINAL</td>\n",
       "      <td>NaN</td>\n",
       "    </tr>\n",
       "    <tr>\n",
       "      <th>147</th>\n",
       "      <td>2019</td>\n",
       "      <td>BE</td>\n",
       "      <td>89.00</td>\n",
       "      <td>PROVISIONAL</td>\n",
       "      <td>2019-05-27 01:28</td>\n",
       "    </tr>\n",
       "    <tr>\n",
       "      <th>148</th>\n",
       "      <td>2019</td>\n",
       "      <td>BG</td>\n",
       "      <td>30.83</td>\n",
       "      <td>PROVISIONAL</td>\n",
       "      <td>2019-05-27 00:18</td>\n",
       "    </tr>\n",
       "    <tr>\n",
       "      <th>149</th>\n",
       "      <td>2019</td>\n",
       "      <td>CZ</td>\n",
       "      <td>28.72</td>\n",
       "      <td>FINAL</td>\n",
       "      <td>2019-05-27 01:28</td>\n",
       "    </tr>\n",
       "    <tr>\n",
       "      <th>150</th>\n",
       "      <td>2019</td>\n",
       "      <td>DK</td>\n",
       "      <td>66.00</td>\n",
       "      <td>PROVISIONAL</td>\n",
       "      <td>2019-05-27 01:28</td>\n",
       "    </tr>\n",
       "    <tr>\n",
       "      <th>151</th>\n",
       "      <td>2019</td>\n",
       "      <td>DE</td>\n",
       "      <td>61.50</td>\n",
       "      <td>PROVISIONAL</td>\n",
       "      <td>2019-05-26 22:51</td>\n",
       "    </tr>\n",
       "    <tr>\n",
       "      <th>152</th>\n",
       "      <td>2019</td>\n",
       "      <td>EE</td>\n",
       "      <td>37.60</td>\n",
       "      <td>FINAL</td>\n",
       "      <td>2019-05-27 01:28</td>\n",
       "    </tr>\n",
       "    <tr>\n",
       "      <th>153</th>\n",
       "      <td>2019</td>\n",
       "      <td>IE</td>\n",
       "      <td>49.30</td>\n",
       "      <td>PROVISIONAL</td>\n",
       "      <td>2019-05-26 18:07</td>\n",
       "    </tr>\n",
       "    <tr>\n",
       "      <th>154</th>\n",
       "      <td>2019</td>\n",
       "      <td>EL</td>\n",
       "      <td>57.86</td>\n",
       "      <td>PROVISIONAL</td>\n",
       "      <td>2019-05-27 02:01</td>\n",
       "    </tr>\n",
       "    <tr>\n",
       "      <th>155</th>\n",
       "      <td>2019</td>\n",
       "      <td>ES</td>\n",
       "      <td>64.32</td>\n",
       "      <td>PROVISIONAL</td>\n",
       "      <td>2019-05-27 01:28</td>\n",
       "    </tr>\n",
       "    <tr>\n",
       "      <th>156</th>\n",
       "      <td>2019</td>\n",
       "      <td>FR</td>\n",
       "      <td>50.97</td>\n",
       "      <td>PROVISIONAL</td>\n",
       "      <td>2019-05-26 22:51</td>\n",
       "    </tr>\n",
       "    <tr>\n",
       "      <th>157</th>\n",
       "      <td>2019</td>\n",
       "      <td>IT</td>\n",
       "      <td>56.09</td>\n",
       "      <td>PROVISIONAL</td>\n",
       "      <td>2019-05-27 01:28</td>\n",
       "    </tr>\n",
       "    <tr>\n",
       "      <th>158</th>\n",
       "      <td>2019</td>\n",
       "      <td>CY</td>\n",
       "      <td>44.99</td>\n",
       "      <td>FINAL</td>\n",
       "      <td>2019-05-27 01:28</td>\n",
       "    </tr>\n",
       "    <tr>\n",
       "      <th>159</th>\n",
       "      <td>2019</td>\n",
       "      <td>LV</td>\n",
       "      <td>33.60</td>\n",
       "      <td>FINAL</td>\n",
       "      <td>2019-05-27 01:28</td>\n",
       "    </tr>\n",
       "    <tr>\n",
       "      <th>160</th>\n",
       "      <td>2019</td>\n",
       "      <td>LT</td>\n",
       "      <td>52.88</td>\n",
       "      <td>PROVISIONAL</td>\n",
       "      <td>2019-05-27 02:01</td>\n",
       "    </tr>\n",
       "    <tr>\n",
       "      <th>161</th>\n",
       "      <td>2019</td>\n",
       "      <td>LU</td>\n",
       "      <td>84.10</td>\n",
       "      <td>FINAL</td>\n",
       "      <td>2019-05-27 01:28</td>\n",
       "    </tr>\n",
       "    <tr>\n",
       "      <th>162</th>\n",
       "      <td>2019</td>\n",
       "      <td>HU</td>\n",
       "      <td>43.36</td>\n",
       "      <td>PROVISIONAL</td>\n",
       "      <td>2019-05-26 23:51</td>\n",
       "    </tr>\n",
       "    <tr>\n",
       "      <th>163</th>\n",
       "      <td>2019</td>\n",
       "      <td>MT</td>\n",
       "      <td>72.60</td>\n",
       "      <td>FINAL</td>\n",
       "      <td>2019-05-27 01:28</td>\n",
       "    </tr>\n",
       "    <tr>\n",
       "      <th>164</th>\n",
       "      <td>2019</td>\n",
       "      <td>NL</td>\n",
       "      <td>41.80</td>\n",
       "      <td>PROVISIONAL</td>\n",
       "      <td>2019-05-27 01:28</td>\n",
       "    </tr>\n",
       "    <tr>\n",
       "      <th>165</th>\n",
       "      <td>2019</td>\n",
       "      <td>AT</td>\n",
       "      <td>59.30</td>\n",
       "      <td>PROVISIONAL</td>\n",
       "      <td>2019-05-26 23:51</td>\n",
       "    </tr>\n",
       "    <tr>\n",
       "      <th>166</th>\n",
       "      <td>2019</td>\n",
       "      <td>PL</td>\n",
       "      <td>43.00</td>\n",
       "      <td>PROVISIONAL</td>\n",
       "      <td>2019-05-26 21:19</td>\n",
       "    </tr>\n",
       "    <tr>\n",
       "      <th>167</th>\n",
       "      <td>2019</td>\n",
       "      <td>PT</td>\n",
       "      <td>31.01</td>\n",
       "      <td>PROVISIONAL</td>\n",
       "      <td>2019-05-27 01:28</td>\n",
       "    </tr>\n",
       "    <tr>\n",
       "      <th>168</th>\n",
       "      <td>2019</td>\n",
       "      <td>RO</td>\n",
       "      <td>49.02</td>\n",
       "      <td>PROVISIONAL</td>\n",
       "      <td>2019-05-26 22:51</td>\n",
       "    </tr>\n",
       "    <tr>\n",
       "      <th>169</th>\n",
       "      <td>2019</td>\n",
       "      <td>SI</td>\n",
       "      <td>28.29</td>\n",
       "      <td>PROVISIONAL</td>\n",
       "      <td>2019-05-27 01:28</td>\n",
       "    </tr>\n",
       "    <tr>\n",
       "      <th>170</th>\n",
       "      <td>2019</td>\n",
       "      <td>SK</td>\n",
       "      <td>22.74</td>\n",
       "      <td>FINAL</td>\n",
       "      <td>2019-05-27 01:28</td>\n",
       "    </tr>\n",
       "    <tr>\n",
       "      <th>171</th>\n",
       "      <td>2019</td>\n",
       "      <td>FI</td>\n",
       "      <td>40.70</td>\n",
       "      <td>FINAL</td>\n",
       "      <td>2019-05-26 22:51</td>\n",
       "    </tr>\n",
       "    <tr>\n",
       "      <th>172</th>\n",
       "      <td>2019</td>\n",
       "      <td>SE</td>\n",
       "      <td>53.30</td>\n",
       "      <td>PROVISIONAL</td>\n",
       "      <td>2019-05-27 01:28</td>\n",
       "    </tr>\n",
       "    <tr>\n",
       "      <th>173</th>\n",
       "      <td>2019</td>\n",
       "      <td>UK</td>\n",
       "      <td>37.00</td>\n",
       "      <td>PROVISIONAL</td>\n",
       "      <td>2019-05-26 23:51</td>\n",
       "    </tr>\n",
       "    <tr>\n",
       "      <th>174</th>\n",
       "      <td>2019</td>\n",
       "      <td>HR</td>\n",
       "      <td>29.65</td>\n",
       "      <td>PROVISIONAL</td>\n",
       "      <td>2019-05-27 00:18</td>\n",
       "    </tr>\n",
       "  </tbody>\n",
       "</table>\n",
       "</div>"
      ],
      "text/plain": [
       "     YEAR COUNTRY_ID   RATE UPDATE_STATUS       UPDATE_TIME\n",
       "119  2014         BE  89.64         FINAL               NaN\n",
       "120  2014         DK  56.32         FINAL               NaN\n",
       "121  2014         DE  48.10         FINAL               NaN\n",
       "122  2014         IE  52.44         FINAL               NaN\n",
       "123  2014         FR  42.43         FINAL               NaN\n",
       "124  2014         IT  57.22         FINAL               NaN\n",
       "125  2014         LU  85.55         FINAL               NaN\n",
       "126  2014         NL  37.32         FINAL               NaN\n",
       "127  2014         UK  35.60         FINAL               NaN\n",
       "128  2014         EL  59.97         FINAL               NaN\n",
       "129  2014         ES  43.81         FINAL               NaN\n",
       "130  2014         PT  33.67         FINAL               NaN\n",
       "131  2014         SE  51.07         FINAL               NaN\n",
       "132  2014         AT  45.39         FINAL               NaN\n",
       "133  2014         FI  39.10         FINAL               NaN\n",
       "134  2014         CZ  18.20         FINAL               NaN\n",
       "135  2014         EE  36.52         FINAL               NaN\n",
       "136  2014         CY  43.97         FINAL               NaN\n",
       "137  2014         LT  47.35         FINAL               NaN\n",
       "138  2014         LV  30.24         FINAL               NaN\n",
       "139  2014         HU  28.97         FINAL               NaN\n",
       "140  2014         MT  74.80         FINAL               NaN\n",
       "141  2014         PL  23.83         FINAL               NaN\n",
       "142  2014         SI  24.55         FINAL               NaN\n",
       "143  2014         SK  13.05         FINAL               NaN\n",
       "144  2014         BG  35.84         FINAL               NaN\n",
       "145  2014         RO  32.44         FINAL               NaN\n",
       "146  2014         HR  25.24         FINAL               NaN\n",
       "147  2019         BE  89.00   PROVISIONAL  2019-05-27 01:28\n",
       "148  2019         BG  30.83   PROVISIONAL  2019-05-27 00:18\n",
       "149  2019         CZ  28.72         FINAL  2019-05-27 01:28\n",
       "150  2019         DK  66.00   PROVISIONAL  2019-05-27 01:28\n",
       "151  2019         DE  61.50   PROVISIONAL  2019-05-26 22:51\n",
       "152  2019         EE  37.60         FINAL  2019-05-27 01:28\n",
       "153  2019         IE  49.30   PROVISIONAL  2019-05-26 18:07\n",
       "154  2019         EL  57.86   PROVISIONAL  2019-05-27 02:01\n",
       "155  2019         ES  64.32   PROVISIONAL  2019-05-27 01:28\n",
       "156  2019         FR  50.97   PROVISIONAL  2019-05-26 22:51\n",
       "157  2019         IT  56.09   PROVISIONAL  2019-05-27 01:28\n",
       "158  2019         CY  44.99         FINAL  2019-05-27 01:28\n",
       "159  2019         LV  33.60         FINAL  2019-05-27 01:28\n",
       "160  2019         LT  52.88   PROVISIONAL  2019-05-27 02:01\n",
       "161  2019         LU  84.10         FINAL  2019-05-27 01:28\n",
       "162  2019         HU  43.36   PROVISIONAL  2019-05-26 23:51\n",
       "163  2019         MT  72.60         FINAL  2019-05-27 01:28\n",
       "164  2019         NL  41.80   PROVISIONAL  2019-05-27 01:28\n",
       "165  2019         AT  59.30   PROVISIONAL  2019-05-26 23:51\n",
       "166  2019         PL  43.00   PROVISIONAL  2019-05-26 21:19\n",
       "167  2019         PT  31.01   PROVISIONAL  2019-05-27 01:28\n",
       "168  2019         RO  49.02   PROVISIONAL  2019-05-26 22:51\n",
       "169  2019         SI  28.29   PROVISIONAL  2019-05-27 01:28\n",
       "170  2019         SK  22.74         FINAL  2019-05-27 01:28\n",
       "171  2019         FI  40.70         FINAL  2019-05-26 22:51\n",
       "172  2019         SE  53.30   PROVISIONAL  2019-05-27 01:28\n",
       "173  2019         UK  37.00   PROVISIONAL  2019-05-26 23:51\n",
       "174  2019         HR  29.65   PROVISIONAL  2019-05-27 00:18"
      ]
     },
     "execution_count": 110,
     "metadata": {},
     "output_type": "execute_result"
    }
   ],
   "source": [
    "turnout1419=turnout[(turnout['YEAR']==2014)|(turnout['YEAR']==2019)]\n",
    "turnout1419"
   ]
  },
  {
   "cell_type": "code",
   "execution_count": 157,
   "metadata": {
    "scrolled": false
   },
   "outputs": [
    {
     "data": {
      "application/vnd.plotly.v1+json": {
       "config": {
        "plotlyServerURL": "https://plot.ly"
       },
       "data": [
        {
         "hovertemplate": "COUNTRY_ID=BE<br>YEAR=%{x}<br>RATE=%{y}<extra></extra>",
         "legendgroup": "",
         "line": {
          "color": "#FF0000"
         },
         "marker": {
          "color": "#FF0000",
          "symbol": "circle"
         },
         "mode": "lines+markers",
         "name": "",
         "orientation": "v",
         "showlegend": false,
         "type": "scatter",
         "x": [
          2014,
          2019
         ],
         "xaxis": "x25",
         "y": [
          89.64,
          89
         ],
         "yaxis": "y25"
        },
        {
         "hovertemplate": "COUNTRY_ID=DK<br>YEAR=%{x}<br>RATE=%{y}<extra></extra>",
         "legendgroup": "",
         "line": {
          "color": "#FF0000"
         },
         "marker": {
          "color": "#FF0000",
          "symbol": "circle"
         },
         "mode": "lines+markers",
         "name": "",
         "orientation": "v",
         "showlegend": false,
         "type": "scatter",
         "x": [
          2014,
          2019
         ],
         "xaxis": "x26",
         "y": [
          56.32,
          66
         ],
         "yaxis": "y26"
        },
        {
         "hovertemplate": "COUNTRY_ID=DE<br>YEAR=%{x}<br>RATE=%{y}<extra></extra>",
         "legendgroup": "",
         "line": {
          "color": "#FF0000"
         },
         "marker": {
          "color": "#FF0000",
          "symbol": "circle"
         },
         "mode": "lines+markers",
         "name": "",
         "orientation": "v",
         "showlegend": false,
         "type": "scatter",
         "x": [
          2014,
          2019
         ],
         "xaxis": "x27",
         "y": [
          48.1,
          61.5
         ],
         "yaxis": "y27"
        },
        {
         "hovertemplate": "COUNTRY_ID=IE<br>YEAR=%{x}<br>RATE=%{y}<extra></extra>",
         "legendgroup": "",
         "line": {
          "color": "#FF0000"
         },
         "marker": {
          "color": "#FF0000",
          "symbol": "circle"
         },
         "mode": "lines+markers",
         "name": "",
         "orientation": "v",
         "showlegend": false,
         "type": "scatter",
         "x": [
          2014,
          2019
         ],
         "xaxis": "x28",
         "y": [
          52.44,
          49.3
         ],
         "yaxis": "y28"
        },
        {
         "hovertemplate": "COUNTRY_ID=FR<br>YEAR=%{x}<br>RATE=%{y}<extra></extra>",
         "legendgroup": "",
         "line": {
          "color": "#FF0000"
         },
         "marker": {
          "color": "#FF0000",
          "symbol": "circle"
         },
         "mode": "lines+markers",
         "name": "",
         "orientation": "v",
         "showlegend": false,
         "type": "scatter",
         "x": [
          2014,
          2019
         ],
         "xaxis": "x21",
         "y": [
          42.43,
          50.97
         ],
         "yaxis": "y21"
        },
        {
         "hovertemplate": "COUNTRY_ID=IT<br>YEAR=%{x}<br>RATE=%{y}<extra></extra>",
         "legendgroup": "",
         "line": {
          "color": "#FF0000"
         },
         "marker": {
          "color": "#FF0000",
          "symbol": "circle"
         },
         "mode": "lines+markers",
         "name": "",
         "orientation": "v",
         "showlegend": false,
         "type": "scatter",
         "x": [
          2014,
          2019
         ],
         "xaxis": "x22",
         "y": [
          57.22,
          56.09
         ],
         "yaxis": "y22"
        },
        {
         "hovertemplate": "COUNTRY_ID=LU<br>YEAR=%{x}<br>RATE=%{y}<extra></extra>",
         "legendgroup": "",
         "line": {
          "color": "#FF0000"
         },
         "marker": {
          "color": "#FF0000",
          "symbol": "circle"
         },
         "mode": "lines+markers",
         "name": "",
         "orientation": "v",
         "showlegend": false,
         "type": "scatter",
         "x": [
          2014,
          2019
         ],
         "xaxis": "x23",
         "y": [
          85.55,
          84.1
         ],
         "yaxis": "y23"
        },
        {
         "hovertemplate": "COUNTRY_ID=NL<br>YEAR=%{x}<br>RATE=%{y}<extra></extra>",
         "legendgroup": "",
         "line": {
          "color": "#FF0000"
         },
         "marker": {
          "color": "#FF0000",
          "symbol": "circle"
         },
         "mode": "lines+markers",
         "name": "",
         "orientation": "v",
         "showlegend": false,
         "type": "scatter",
         "x": [
          2014,
          2019
         ],
         "xaxis": "x24",
         "y": [
          37.32,
          41.8
         ],
         "yaxis": "y24"
        },
        {
         "hovertemplate": "COUNTRY_ID=UK<br>YEAR=%{x}<br>RATE=%{y}<extra></extra>",
         "legendgroup": "",
         "line": {
          "color": "#FF0000"
         },
         "marker": {
          "color": "#FF0000",
          "symbol": "circle"
         },
         "mode": "lines+markers",
         "name": "",
         "orientation": "v",
         "showlegend": false,
         "type": "scatter",
         "x": [
          2014,
          2019
         ],
         "xaxis": "x17",
         "y": [
          35.6,
          37
         ],
         "yaxis": "y17"
        },
        {
         "hovertemplate": "COUNTRY_ID=EL<br>YEAR=%{x}<br>RATE=%{y}<extra></extra>",
         "legendgroup": "",
         "line": {
          "color": "#FF0000"
         },
         "marker": {
          "color": "#FF0000",
          "symbol": "circle"
         },
         "mode": "lines+markers",
         "name": "",
         "orientation": "v",
         "showlegend": false,
         "type": "scatter",
         "x": [
          2014,
          2019
         ],
         "xaxis": "x18",
         "y": [
          59.97,
          57.86
         ],
         "yaxis": "y18"
        },
        {
         "hovertemplate": "COUNTRY_ID=ES<br>YEAR=%{x}<br>RATE=%{y}<extra></extra>",
         "legendgroup": "",
         "line": {
          "color": "#FF0000"
         },
         "marker": {
          "color": "#FF0000",
          "symbol": "circle"
         },
         "mode": "lines+markers",
         "name": "",
         "orientation": "v",
         "showlegend": false,
         "type": "scatter",
         "x": [
          2014,
          2019
         ],
         "xaxis": "x19",
         "y": [
          43.81,
          64.32
         ],
         "yaxis": "y19"
        },
        {
         "hovertemplate": "COUNTRY_ID=PT<br>YEAR=%{x}<br>RATE=%{y}<extra></extra>",
         "legendgroup": "",
         "line": {
          "color": "#FF0000"
         },
         "marker": {
          "color": "#FF0000",
          "symbol": "circle"
         },
         "mode": "lines+markers",
         "name": "",
         "orientation": "v",
         "showlegend": false,
         "type": "scatter",
         "x": [
          2014,
          2019
         ],
         "xaxis": "x20",
         "y": [
          33.67,
          31.01
         ],
         "yaxis": "y20"
        },
        {
         "hovertemplate": "COUNTRY_ID=SE<br>YEAR=%{x}<br>RATE=%{y}<extra></extra>",
         "legendgroup": "",
         "line": {
          "color": "#FF0000"
         },
         "marker": {
          "color": "#FF0000",
          "symbol": "circle"
         },
         "mode": "lines+markers",
         "name": "",
         "orientation": "v",
         "showlegend": false,
         "type": "scatter",
         "x": [
          2014,
          2019
         ],
         "xaxis": "x13",
         "y": [
          51.07,
          53.3
         ],
         "yaxis": "y13"
        },
        {
         "hovertemplate": "COUNTRY_ID=AT<br>YEAR=%{x}<br>RATE=%{y}<extra></extra>",
         "legendgroup": "",
         "line": {
          "color": "#FF0000"
         },
         "marker": {
          "color": "#FF0000",
          "symbol": "circle"
         },
         "mode": "lines+markers",
         "name": "",
         "orientation": "v",
         "showlegend": false,
         "type": "scatter",
         "x": [
          2014,
          2019
         ],
         "xaxis": "x14",
         "y": [
          45.39,
          59.3
         ],
         "yaxis": "y14"
        },
        {
         "hovertemplate": "COUNTRY_ID=FI<br>YEAR=%{x}<br>RATE=%{y}<extra></extra>",
         "legendgroup": "",
         "line": {
          "color": "#FF0000"
         },
         "marker": {
          "color": "#FF0000",
          "symbol": "circle"
         },
         "mode": "lines+markers",
         "name": "",
         "orientation": "v",
         "showlegend": false,
         "type": "scatter",
         "x": [
          2014,
          2019
         ],
         "xaxis": "x15",
         "y": [
          39.1,
          40.7
         ],
         "yaxis": "y15"
        },
        {
         "hovertemplate": "COUNTRY_ID=CZ<br>YEAR=%{x}<br>RATE=%{y}<extra></extra>",
         "legendgroup": "",
         "line": {
          "color": "#FF0000"
         },
         "marker": {
          "color": "#FF0000",
          "symbol": "circle"
         },
         "mode": "lines+markers",
         "name": "",
         "orientation": "v",
         "showlegend": false,
         "type": "scatter",
         "x": [
          2014,
          2019
         ],
         "xaxis": "x16",
         "y": [
          18.2,
          28.72
         ],
         "yaxis": "y16"
        },
        {
         "hovertemplate": "COUNTRY_ID=EE<br>YEAR=%{x}<br>RATE=%{y}<extra></extra>",
         "legendgroup": "",
         "line": {
          "color": "#FF0000"
         },
         "marker": {
          "color": "#FF0000",
          "symbol": "circle"
         },
         "mode": "lines+markers",
         "name": "",
         "orientation": "v",
         "showlegend": false,
         "type": "scatter",
         "x": [
          2014,
          2019
         ],
         "xaxis": "x9",
         "y": [
          36.52,
          37.6
         ],
         "yaxis": "y9"
        },
        {
         "hovertemplate": "COUNTRY_ID=CY<br>YEAR=%{x}<br>RATE=%{y}<extra></extra>",
         "legendgroup": "",
         "line": {
          "color": "#FF0000"
         },
         "marker": {
          "color": "#FF0000",
          "symbol": "circle"
         },
         "mode": "lines+markers",
         "name": "",
         "orientation": "v",
         "showlegend": false,
         "type": "scatter",
         "x": [
          2014,
          2019
         ],
         "xaxis": "x10",
         "y": [
          43.97,
          44.99
         ],
         "yaxis": "y10"
        },
        {
         "hovertemplate": "COUNTRY_ID=LT<br>YEAR=%{x}<br>RATE=%{y}<extra></extra>",
         "legendgroup": "",
         "line": {
          "color": "#FF0000"
         },
         "marker": {
          "color": "#FF0000",
          "symbol": "circle"
         },
         "mode": "lines+markers",
         "name": "",
         "orientation": "v",
         "showlegend": false,
         "type": "scatter",
         "x": [
          2014,
          2019
         ],
         "xaxis": "x11",
         "y": [
          47.35,
          52.88
         ],
         "yaxis": "y11"
        },
        {
         "hovertemplate": "COUNTRY_ID=LV<br>YEAR=%{x}<br>RATE=%{y}<extra></extra>",
         "legendgroup": "",
         "line": {
          "color": "#FF0000"
         },
         "marker": {
          "color": "#FF0000",
          "symbol": "circle"
         },
         "mode": "lines+markers",
         "name": "",
         "orientation": "v",
         "showlegend": false,
         "type": "scatter",
         "x": [
          2014,
          2019
         ],
         "xaxis": "x12",
         "y": [
          30.24,
          33.6
         ],
         "yaxis": "y12"
        },
        {
         "hovertemplate": "COUNTRY_ID=HU<br>YEAR=%{x}<br>RATE=%{y}<extra></extra>",
         "legendgroup": "",
         "line": {
          "color": "#FF0000"
         },
         "marker": {
          "color": "#FF0000",
          "symbol": "circle"
         },
         "mode": "lines+markers",
         "name": "",
         "orientation": "v",
         "showlegend": false,
         "type": "scatter",
         "x": [
          2014,
          2019
         ],
         "xaxis": "x5",
         "y": [
          28.97,
          43.36
         ],
         "yaxis": "y5"
        },
        {
         "hovertemplate": "COUNTRY_ID=MT<br>YEAR=%{x}<br>RATE=%{y}<extra></extra>",
         "legendgroup": "",
         "line": {
          "color": "#FF0000"
         },
         "marker": {
          "color": "#FF0000",
          "symbol": "circle"
         },
         "mode": "lines+markers",
         "name": "",
         "orientation": "v",
         "showlegend": false,
         "type": "scatter",
         "x": [
          2014,
          2019
         ],
         "xaxis": "x6",
         "y": [
          74.8,
          72.6
         ],
         "yaxis": "y6"
        },
        {
         "hovertemplate": "COUNTRY_ID=PL<br>YEAR=%{x}<br>RATE=%{y}<extra></extra>",
         "legendgroup": "",
         "line": {
          "color": "#FF0000"
         },
         "marker": {
          "color": "#FF0000",
          "symbol": "circle"
         },
         "mode": "lines+markers",
         "name": "",
         "orientation": "v",
         "showlegend": false,
         "type": "scatter",
         "x": [
          2014,
          2019
         ],
         "xaxis": "x7",
         "y": [
          23.83,
          43
         ],
         "yaxis": "y7"
        },
        {
         "hovertemplate": "COUNTRY_ID=SI<br>YEAR=%{x}<br>RATE=%{y}<extra></extra>",
         "legendgroup": "",
         "line": {
          "color": "#FF0000"
         },
         "marker": {
          "color": "#FF0000",
          "symbol": "circle"
         },
         "mode": "lines+markers",
         "name": "",
         "orientation": "v",
         "showlegend": false,
         "type": "scatter",
         "x": [
          2014,
          2019
         ],
         "xaxis": "x8",
         "y": [
          24.55,
          28.29
         ],
         "yaxis": "y8"
        },
        {
         "hovertemplate": "COUNTRY_ID=SK<br>YEAR=%{x}<br>RATE=%{y}<extra></extra>",
         "legendgroup": "",
         "line": {
          "color": "#FF0000"
         },
         "marker": {
          "color": "#FF0000",
          "symbol": "circle"
         },
         "mode": "lines+markers",
         "name": "",
         "orientation": "v",
         "showlegend": false,
         "type": "scatter",
         "x": [
          2014,
          2019
         ],
         "xaxis": "x",
         "y": [
          13.05,
          22.74
         ],
         "yaxis": "y"
        },
        {
         "hovertemplate": "COUNTRY_ID=BG<br>YEAR=%{x}<br>RATE=%{y}<extra></extra>",
         "legendgroup": "",
         "line": {
          "color": "#FF0000"
         },
         "marker": {
          "color": "#FF0000",
          "symbol": "circle"
         },
         "mode": "lines+markers",
         "name": "",
         "orientation": "v",
         "showlegend": false,
         "type": "scatter",
         "x": [
          2014,
          2019
         ],
         "xaxis": "x2",
         "y": [
          35.84,
          30.83
         ],
         "yaxis": "y2"
        },
        {
         "hovertemplate": "COUNTRY_ID=RO<br>YEAR=%{x}<br>RATE=%{y}<extra></extra>",
         "legendgroup": "",
         "line": {
          "color": "#FF0000"
         },
         "marker": {
          "color": "#FF0000",
          "symbol": "circle"
         },
         "mode": "lines+markers",
         "name": "",
         "orientation": "v",
         "showlegend": false,
         "type": "scatter",
         "x": [
          2014,
          2019
         ],
         "xaxis": "x3",
         "y": [
          32.44,
          49.02
         ],
         "yaxis": "y3"
        },
        {
         "hovertemplate": "COUNTRY_ID=HR<br>YEAR=%{x}<br>RATE=%{y}<extra></extra>",
         "legendgroup": "",
         "line": {
          "color": "#FF0000"
         },
         "marker": {
          "color": "#FF0000",
          "symbol": "circle"
         },
         "mode": "lines+markers",
         "name": "",
         "orientation": "v",
         "showlegend": false,
         "type": "scatter",
         "x": [
          2014,
          2019
         ],
         "xaxis": "x4",
         "y": [
          25.24,
          29.65
         ],
         "yaxis": "y4"
        }
       ],
       "layout": {
        "annotations": [
         {
          "font": {},
          "showarrow": false,
          "text": "SK",
          "x": 0.11,
          "xanchor": "center",
          "xref": "paper",
          "y": 0.10857142857142857,
          "yanchor": "bottom",
          "yref": "paper"
         },
         {
          "font": {},
          "showarrow": false,
          "text": "BG",
          "x": 0.37,
          "xanchor": "center",
          "xref": "paper",
          "y": 0.10857142857142857,
          "yanchor": "bottom",
          "yref": "paper"
         },
         {
          "font": {},
          "showarrow": false,
          "text": "RO",
          "x": 0.63,
          "xanchor": "center",
          "xref": "paper",
          "y": 0.10857142857142857,
          "yanchor": "bottom",
          "yref": "paper"
         },
         {
          "font": {},
          "showarrow": false,
          "text": "HR",
          "x": 0.89,
          "xanchor": "center",
          "xref": "paper",
          "y": 0.10857142857142857,
          "yanchor": "bottom",
          "yref": "paper"
         },
         {
          "font": {},
          "showarrow": false,
          "text": "HU",
          "x": 0.11,
          "xanchor": "center",
          "xref": "paper",
          "y": 0.2571428571428571,
          "yanchor": "bottom",
          "yref": "paper"
         },
         {
          "font": {},
          "showarrow": false,
          "text": "MT",
          "x": 0.37,
          "xanchor": "center",
          "xref": "paper",
          "y": 0.2571428571428571,
          "yanchor": "bottom",
          "yref": "paper"
         },
         {
          "font": {},
          "showarrow": false,
          "text": "PL",
          "x": 0.63,
          "xanchor": "center",
          "xref": "paper",
          "y": 0.2571428571428571,
          "yanchor": "bottom",
          "yref": "paper"
         },
         {
          "font": {},
          "showarrow": false,
          "text": "SI",
          "x": 0.89,
          "xanchor": "center",
          "xref": "paper",
          "y": 0.2571428571428571,
          "yanchor": "bottom",
          "yref": "paper"
         },
         {
          "font": {},
          "showarrow": false,
          "text": "EE",
          "x": 0.11,
          "xanchor": "center",
          "xref": "paper",
          "y": 0.4057142857142857,
          "yanchor": "bottom",
          "yref": "paper"
         },
         {
          "font": {},
          "showarrow": false,
          "text": "CY",
          "x": 0.37,
          "xanchor": "center",
          "xref": "paper",
          "y": 0.4057142857142857,
          "yanchor": "bottom",
          "yref": "paper"
         },
         {
          "font": {},
          "showarrow": false,
          "text": "LT",
          "x": 0.63,
          "xanchor": "center",
          "xref": "paper",
          "y": 0.4057142857142857,
          "yanchor": "bottom",
          "yref": "paper"
         },
         {
          "font": {},
          "showarrow": false,
          "text": "LV",
          "x": 0.89,
          "xanchor": "center",
          "xref": "paper",
          "y": 0.4057142857142857,
          "yanchor": "bottom",
          "yref": "paper"
         },
         {
          "font": {},
          "showarrow": false,
          "text": "SE",
          "x": 0.11,
          "xanchor": "center",
          "xref": "paper",
          "y": 0.5542857142857143,
          "yanchor": "bottom",
          "yref": "paper"
         },
         {
          "font": {},
          "showarrow": false,
          "text": "AT",
          "x": 0.37,
          "xanchor": "center",
          "xref": "paper",
          "y": 0.5542857142857143,
          "yanchor": "bottom",
          "yref": "paper"
         },
         {
          "font": {},
          "showarrow": false,
          "text": "FI",
          "x": 0.63,
          "xanchor": "center",
          "xref": "paper",
          "y": 0.5542857142857143,
          "yanchor": "bottom",
          "yref": "paper"
         },
         {
          "font": {},
          "showarrow": false,
          "text": "CZ",
          "x": 0.89,
          "xanchor": "center",
          "xref": "paper",
          "y": 0.5542857142857143,
          "yanchor": "bottom",
          "yref": "paper"
         },
         {
          "font": {},
          "showarrow": false,
          "text": "UK",
          "x": 0.11,
          "xanchor": "center",
          "xref": "paper",
          "y": 0.7028571428571428,
          "yanchor": "bottom",
          "yref": "paper"
         },
         {
          "font": {},
          "showarrow": false,
          "text": "EL",
          "x": 0.37,
          "xanchor": "center",
          "xref": "paper",
          "y": 0.7028571428571428,
          "yanchor": "bottom",
          "yref": "paper"
         },
         {
          "font": {},
          "showarrow": false,
          "text": "ES",
          "x": 0.63,
          "xanchor": "center",
          "xref": "paper",
          "y": 0.7028571428571428,
          "yanchor": "bottom",
          "yref": "paper"
         },
         {
          "font": {},
          "showarrow": false,
          "text": "PT",
          "x": 0.89,
          "xanchor": "center",
          "xref": "paper",
          "y": 0.7028571428571428,
          "yanchor": "bottom",
          "yref": "paper"
         },
         {
          "font": {},
          "showarrow": false,
          "text": "FR",
          "x": 0.11,
          "xanchor": "center",
          "xref": "paper",
          "y": 0.8514285714285714,
          "yanchor": "bottom",
          "yref": "paper"
         },
         {
          "font": {},
          "showarrow": false,
          "text": "IT",
          "x": 0.37,
          "xanchor": "center",
          "xref": "paper",
          "y": 0.8514285714285714,
          "yanchor": "bottom",
          "yref": "paper"
         },
         {
          "font": {},
          "showarrow": false,
          "text": "LU",
          "x": 0.63,
          "xanchor": "center",
          "xref": "paper",
          "y": 0.8514285714285714,
          "yanchor": "bottom",
          "yref": "paper"
         },
         {
          "font": {},
          "showarrow": false,
          "text": "NL",
          "x": 0.89,
          "xanchor": "center",
          "xref": "paper",
          "y": 0.8514285714285714,
          "yanchor": "bottom",
          "yref": "paper"
         },
         {
          "font": {},
          "showarrow": false,
          "text": "BE",
          "x": 0.11,
          "xanchor": "center",
          "xref": "paper",
          "y": 0.9999999999999999,
          "yanchor": "bottom",
          "yref": "paper"
         },
         {
          "font": {},
          "showarrow": false,
          "text": "DK",
          "x": 0.37,
          "xanchor": "center",
          "xref": "paper",
          "y": 0.9999999999999999,
          "yanchor": "bottom",
          "yref": "paper"
         },
         {
          "font": {},
          "showarrow": false,
          "text": "DE",
          "x": 0.63,
          "xanchor": "center",
          "xref": "paper",
          "y": 0.9999999999999999,
          "yanchor": "bottom",
          "yref": "paper"
         },
         {
          "font": {},
          "showarrow": false,
          "text": "IE",
          "x": 0.89,
          "xanchor": "center",
          "xref": "paper",
          "y": 0.9999999999999999,
          "yanchor": "bottom",
          "yref": "paper"
         }
        ],
        "height": 1000,
        "legend": {
         "tracegroupgap": 0
        },
        "template": {
         "data": {
          "bar": [
           {
            "error_x": {
             "color": "#2a3f5f"
            },
            "error_y": {
             "color": "#2a3f5f"
            },
            "marker": {
             "line": {
              "color": "#E5ECF6",
              "width": 0.5
             }
            },
            "type": "bar"
           }
          ],
          "barpolar": [
           {
            "marker": {
             "line": {
              "color": "#E5ECF6",
              "width": 0.5
             }
            },
            "type": "barpolar"
           }
          ],
          "carpet": [
           {
            "aaxis": {
             "endlinecolor": "#2a3f5f",
             "gridcolor": "white",
             "linecolor": "white",
             "minorgridcolor": "white",
             "startlinecolor": "#2a3f5f"
            },
            "baxis": {
             "endlinecolor": "#2a3f5f",
             "gridcolor": "white",
             "linecolor": "white",
             "minorgridcolor": "white",
             "startlinecolor": "#2a3f5f"
            },
            "type": "carpet"
           }
          ],
          "choropleth": [
           {
            "colorbar": {
             "outlinewidth": 0,
             "ticks": ""
            },
            "type": "choropleth"
           }
          ],
          "contour": [
           {
            "colorbar": {
             "outlinewidth": 0,
             "ticks": ""
            },
            "colorscale": [
             [
              0,
              "#0d0887"
             ],
             [
              0.1111111111111111,
              "#46039f"
             ],
             [
              0.2222222222222222,
              "#7201a8"
             ],
             [
              0.3333333333333333,
              "#9c179e"
             ],
             [
              0.4444444444444444,
              "#bd3786"
             ],
             [
              0.5555555555555556,
              "#d8576b"
             ],
             [
              0.6666666666666666,
              "#ed7953"
             ],
             [
              0.7777777777777778,
              "#fb9f3a"
             ],
             [
              0.8888888888888888,
              "#fdca26"
             ],
             [
              1,
              "#f0f921"
             ]
            ],
            "type": "contour"
           }
          ],
          "contourcarpet": [
           {
            "colorbar": {
             "outlinewidth": 0,
             "ticks": ""
            },
            "type": "contourcarpet"
           }
          ],
          "heatmap": [
           {
            "colorbar": {
             "outlinewidth": 0,
             "ticks": ""
            },
            "colorscale": [
             [
              0,
              "#0d0887"
             ],
             [
              0.1111111111111111,
              "#46039f"
             ],
             [
              0.2222222222222222,
              "#7201a8"
             ],
             [
              0.3333333333333333,
              "#9c179e"
             ],
             [
              0.4444444444444444,
              "#bd3786"
             ],
             [
              0.5555555555555556,
              "#d8576b"
             ],
             [
              0.6666666666666666,
              "#ed7953"
             ],
             [
              0.7777777777777778,
              "#fb9f3a"
             ],
             [
              0.8888888888888888,
              "#fdca26"
             ],
             [
              1,
              "#f0f921"
             ]
            ],
            "type": "heatmap"
           }
          ],
          "heatmapgl": [
           {
            "colorbar": {
             "outlinewidth": 0,
             "ticks": ""
            },
            "colorscale": [
             [
              0,
              "#0d0887"
             ],
             [
              0.1111111111111111,
              "#46039f"
             ],
             [
              0.2222222222222222,
              "#7201a8"
             ],
             [
              0.3333333333333333,
              "#9c179e"
             ],
             [
              0.4444444444444444,
              "#bd3786"
             ],
             [
              0.5555555555555556,
              "#d8576b"
             ],
             [
              0.6666666666666666,
              "#ed7953"
             ],
             [
              0.7777777777777778,
              "#fb9f3a"
             ],
             [
              0.8888888888888888,
              "#fdca26"
             ],
             [
              1,
              "#f0f921"
             ]
            ],
            "type": "heatmapgl"
           }
          ],
          "histogram": [
           {
            "marker": {
             "colorbar": {
              "outlinewidth": 0,
              "ticks": ""
             }
            },
            "type": "histogram"
           }
          ],
          "histogram2d": [
           {
            "colorbar": {
             "outlinewidth": 0,
             "ticks": ""
            },
            "colorscale": [
             [
              0,
              "#0d0887"
             ],
             [
              0.1111111111111111,
              "#46039f"
             ],
             [
              0.2222222222222222,
              "#7201a8"
             ],
             [
              0.3333333333333333,
              "#9c179e"
             ],
             [
              0.4444444444444444,
              "#bd3786"
             ],
             [
              0.5555555555555556,
              "#d8576b"
             ],
             [
              0.6666666666666666,
              "#ed7953"
             ],
             [
              0.7777777777777778,
              "#fb9f3a"
             ],
             [
              0.8888888888888888,
              "#fdca26"
             ],
             [
              1,
              "#f0f921"
             ]
            ],
            "type": "histogram2d"
           }
          ],
          "histogram2dcontour": [
           {
            "colorbar": {
             "outlinewidth": 0,
             "ticks": ""
            },
            "colorscale": [
             [
              0,
              "#0d0887"
             ],
             [
              0.1111111111111111,
              "#46039f"
             ],
             [
              0.2222222222222222,
              "#7201a8"
             ],
             [
              0.3333333333333333,
              "#9c179e"
             ],
             [
              0.4444444444444444,
              "#bd3786"
             ],
             [
              0.5555555555555556,
              "#d8576b"
             ],
             [
              0.6666666666666666,
              "#ed7953"
             ],
             [
              0.7777777777777778,
              "#fb9f3a"
             ],
             [
              0.8888888888888888,
              "#fdca26"
             ],
             [
              1,
              "#f0f921"
             ]
            ],
            "type": "histogram2dcontour"
           }
          ],
          "mesh3d": [
           {
            "colorbar": {
             "outlinewidth": 0,
             "ticks": ""
            },
            "type": "mesh3d"
           }
          ],
          "parcoords": [
           {
            "line": {
             "colorbar": {
              "outlinewidth": 0,
              "ticks": ""
             }
            },
            "type": "parcoords"
           }
          ],
          "pie": [
           {
            "automargin": true,
            "type": "pie"
           }
          ],
          "scatter": [
           {
            "marker": {
             "colorbar": {
              "outlinewidth": 0,
              "ticks": ""
             }
            },
            "type": "scatter"
           }
          ],
          "scatter3d": [
           {
            "line": {
             "colorbar": {
              "outlinewidth": 0,
              "ticks": ""
             }
            },
            "marker": {
             "colorbar": {
              "outlinewidth": 0,
              "ticks": ""
             }
            },
            "type": "scatter3d"
           }
          ],
          "scattercarpet": [
           {
            "marker": {
             "colorbar": {
              "outlinewidth": 0,
              "ticks": ""
             }
            },
            "type": "scattercarpet"
           }
          ],
          "scattergeo": [
           {
            "marker": {
             "colorbar": {
              "outlinewidth": 0,
              "ticks": ""
             }
            },
            "type": "scattergeo"
           }
          ],
          "scattergl": [
           {
            "marker": {
             "colorbar": {
              "outlinewidth": 0,
              "ticks": ""
             }
            },
            "type": "scattergl"
           }
          ],
          "scattermapbox": [
           {
            "marker": {
             "colorbar": {
              "outlinewidth": 0,
              "ticks": ""
             }
            },
            "type": "scattermapbox"
           }
          ],
          "scatterpolar": [
           {
            "marker": {
             "colorbar": {
              "outlinewidth": 0,
              "ticks": ""
             }
            },
            "type": "scatterpolar"
           }
          ],
          "scatterpolargl": [
           {
            "marker": {
             "colorbar": {
              "outlinewidth": 0,
              "ticks": ""
             }
            },
            "type": "scatterpolargl"
           }
          ],
          "scatterternary": [
           {
            "marker": {
             "colorbar": {
              "outlinewidth": 0,
              "ticks": ""
             }
            },
            "type": "scatterternary"
           }
          ],
          "surface": [
           {
            "colorbar": {
             "outlinewidth": 0,
             "ticks": ""
            },
            "colorscale": [
             [
              0,
              "#0d0887"
             ],
             [
              0.1111111111111111,
              "#46039f"
             ],
             [
              0.2222222222222222,
              "#7201a8"
             ],
             [
              0.3333333333333333,
              "#9c179e"
             ],
             [
              0.4444444444444444,
              "#bd3786"
             ],
             [
              0.5555555555555556,
              "#d8576b"
             ],
             [
              0.6666666666666666,
              "#ed7953"
             ],
             [
              0.7777777777777778,
              "#fb9f3a"
             ],
             [
              0.8888888888888888,
              "#fdca26"
             ],
             [
              1,
              "#f0f921"
             ]
            ],
            "type": "surface"
           }
          ],
          "table": [
           {
            "cells": {
             "fill": {
              "color": "#EBF0F8"
             },
             "line": {
              "color": "white"
             }
            },
            "header": {
             "fill": {
              "color": "#C8D4E3"
             },
             "line": {
              "color": "white"
             }
            },
            "type": "table"
           }
          ]
         },
         "layout": {
          "annotationdefaults": {
           "arrowcolor": "#2a3f5f",
           "arrowhead": 0,
           "arrowwidth": 1
          },
          "autotypenumbers": "strict",
          "coloraxis": {
           "colorbar": {
            "outlinewidth": 0,
            "ticks": ""
           }
          },
          "colorscale": {
           "diverging": [
            [
             0,
             "#8e0152"
            ],
            [
             0.1,
             "#c51b7d"
            ],
            [
             0.2,
             "#de77ae"
            ],
            [
             0.3,
             "#f1b6da"
            ],
            [
             0.4,
             "#fde0ef"
            ],
            [
             0.5,
             "#f7f7f7"
            ],
            [
             0.6,
             "#e6f5d0"
            ],
            [
             0.7,
             "#b8e186"
            ],
            [
             0.8,
             "#7fbc41"
            ],
            [
             0.9,
             "#4d9221"
            ],
            [
             1,
             "#276419"
            ]
           ],
           "sequential": [
            [
             0,
             "#0d0887"
            ],
            [
             0.1111111111111111,
             "#46039f"
            ],
            [
             0.2222222222222222,
             "#7201a8"
            ],
            [
             0.3333333333333333,
             "#9c179e"
            ],
            [
             0.4444444444444444,
             "#bd3786"
            ],
            [
             0.5555555555555556,
             "#d8576b"
            ],
            [
             0.6666666666666666,
             "#ed7953"
            ],
            [
             0.7777777777777778,
             "#fb9f3a"
            ],
            [
             0.8888888888888888,
             "#fdca26"
            ],
            [
             1,
             "#f0f921"
            ]
           ],
           "sequentialminus": [
            [
             0,
             "#0d0887"
            ],
            [
             0.1111111111111111,
             "#46039f"
            ],
            [
             0.2222222222222222,
             "#7201a8"
            ],
            [
             0.3333333333333333,
             "#9c179e"
            ],
            [
             0.4444444444444444,
             "#bd3786"
            ],
            [
             0.5555555555555556,
             "#d8576b"
            ],
            [
             0.6666666666666666,
             "#ed7953"
            ],
            [
             0.7777777777777778,
             "#fb9f3a"
            ],
            [
             0.8888888888888888,
             "#fdca26"
            ],
            [
             1,
             "#f0f921"
            ]
           ]
          },
          "colorway": [
           "#636efa",
           "#EF553B",
           "#00cc96",
           "#ab63fa",
           "#FFA15A",
           "#19d3f3",
           "#FF6692",
           "#B6E880",
           "#FF97FF",
           "#FECB52"
          ],
          "font": {
           "color": "#2a3f5f"
          },
          "geo": {
           "bgcolor": "white",
           "lakecolor": "white",
           "landcolor": "#E5ECF6",
           "showlakes": true,
           "showland": true,
           "subunitcolor": "white"
          },
          "hoverlabel": {
           "align": "left"
          },
          "hovermode": "closest",
          "mapbox": {
           "style": "light"
          },
          "paper_bgcolor": "white",
          "plot_bgcolor": "#E5ECF6",
          "polar": {
           "angularaxis": {
            "gridcolor": "white",
            "linecolor": "white",
            "ticks": ""
           },
           "bgcolor": "#E5ECF6",
           "radialaxis": {
            "gridcolor": "white",
            "linecolor": "white",
            "ticks": ""
           }
          },
          "scene": {
           "xaxis": {
            "backgroundcolor": "#E5ECF6",
            "gridcolor": "white",
            "gridwidth": 2,
            "linecolor": "white",
            "showbackground": true,
            "ticks": "",
            "zerolinecolor": "white"
           },
           "yaxis": {
            "backgroundcolor": "#E5ECF6",
            "gridcolor": "white",
            "gridwidth": 2,
            "linecolor": "white",
            "showbackground": true,
            "ticks": "",
            "zerolinecolor": "white"
           },
           "zaxis": {
            "backgroundcolor": "#E5ECF6",
            "gridcolor": "white",
            "gridwidth": 2,
            "linecolor": "white",
            "showbackground": true,
            "ticks": "",
            "zerolinecolor": "white"
           }
          },
          "shapedefaults": {
           "line": {
            "color": "#2a3f5f"
           }
          },
          "ternary": {
           "aaxis": {
            "gridcolor": "white",
            "linecolor": "white",
            "ticks": ""
           },
           "baxis": {
            "gridcolor": "white",
            "linecolor": "white",
            "ticks": ""
           },
           "bgcolor": "#E5ECF6",
           "caxis": {
            "gridcolor": "white",
            "linecolor": "white",
            "ticks": ""
           }
          },
          "title": {
           "x": 0.05
          },
          "xaxis": {
           "automargin": true,
           "gridcolor": "white",
           "linecolor": "white",
           "ticks": "",
           "title": {
            "standoff": 15
           },
           "zerolinecolor": "white",
           "zerolinewidth": 2
          },
          "yaxis": {
           "automargin": true,
           "gridcolor": "white",
           "linecolor": "white",
           "ticks": "",
           "title": {
            "standoff": 15
           },
           "zerolinecolor": "white",
           "zerolinewidth": 2
          }
         }
        },
        "title": {
         "text": "European elections: voter turnout 2014&2019"
        },
        "width": 1000,
        "xaxis": {
         "anchor": "y",
         "domain": [
          0,
          0.22
         ],
         "title": {
          "text": "YEAR"
         }
        },
        "xaxis10": {
         "anchor": "y10",
         "domain": [
          0.26,
          0.48
         ],
         "matches": "x",
         "showticklabels": false
        },
        "xaxis11": {
         "anchor": "y11",
         "domain": [
          0.52,
          0.74
         ],
         "matches": "x",
         "showticklabels": false
        },
        "xaxis12": {
         "anchor": "y12",
         "domain": [
          0.78,
          1
         ],
         "matches": "x",
         "showticklabels": false
        },
        "xaxis13": {
         "anchor": "y13",
         "domain": [
          0,
          0.22
         ],
         "matches": "x",
         "showticklabels": false
        },
        "xaxis14": {
         "anchor": "y14",
         "domain": [
          0.26,
          0.48
         ],
         "matches": "x",
         "showticklabels": false
        },
        "xaxis15": {
         "anchor": "y15",
         "domain": [
          0.52,
          0.74
         ],
         "matches": "x",
         "showticklabels": false
        },
        "xaxis16": {
         "anchor": "y16",
         "domain": [
          0.78,
          1
         ],
         "matches": "x",
         "showticklabels": false
        },
        "xaxis17": {
         "anchor": "y17",
         "domain": [
          0,
          0.22
         ],
         "matches": "x",
         "showticklabels": false
        },
        "xaxis18": {
         "anchor": "y18",
         "domain": [
          0.26,
          0.48
         ],
         "matches": "x",
         "showticklabels": false
        },
        "xaxis19": {
         "anchor": "y19",
         "domain": [
          0.52,
          0.74
         ],
         "matches": "x",
         "showticklabels": false
        },
        "xaxis2": {
         "anchor": "y2",
         "domain": [
          0.26,
          0.48
         ],
         "matches": "x",
         "title": {
          "text": "YEAR"
         }
        },
        "xaxis20": {
         "anchor": "y20",
         "domain": [
          0.78,
          1
         ],
         "matches": "x",
         "showticklabels": false
        },
        "xaxis21": {
         "anchor": "y21",
         "domain": [
          0,
          0.22
         ],
         "matches": "x",
         "showticklabels": false
        },
        "xaxis22": {
         "anchor": "y22",
         "domain": [
          0.26,
          0.48
         ],
         "matches": "x",
         "showticklabels": false
        },
        "xaxis23": {
         "anchor": "y23",
         "domain": [
          0.52,
          0.74
         ],
         "matches": "x",
         "showticklabels": false
        },
        "xaxis24": {
         "anchor": "y24",
         "domain": [
          0.78,
          1
         ],
         "matches": "x",
         "showticklabels": false
        },
        "xaxis25": {
         "anchor": "y25",
         "domain": [
          0,
          0.22
         ],
         "matches": "x",
         "showticklabels": false
        },
        "xaxis26": {
         "anchor": "y26",
         "domain": [
          0.26,
          0.48
         ],
         "matches": "x",
         "showticklabels": false
        },
        "xaxis27": {
         "anchor": "y27",
         "domain": [
          0.52,
          0.74
         ],
         "matches": "x",
         "showticklabels": false
        },
        "xaxis28": {
         "anchor": "y28",
         "domain": [
          0.78,
          1
         ],
         "matches": "x",
         "showticklabels": false
        },
        "xaxis3": {
         "anchor": "y3",
         "domain": [
          0.52,
          0.74
         ],
         "matches": "x",
         "title": {
          "text": "YEAR"
         }
        },
        "xaxis4": {
         "anchor": "y4",
         "domain": [
          0.78,
          1
         ],
         "matches": "x",
         "title": {
          "text": "YEAR"
         }
        },
        "xaxis5": {
         "anchor": "y5",
         "domain": [
          0,
          0.22
         ],
         "matches": "x",
         "showticklabels": false
        },
        "xaxis6": {
         "anchor": "y6",
         "domain": [
          0.26,
          0.48
         ],
         "matches": "x",
         "showticklabels": false
        },
        "xaxis7": {
         "anchor": "y7",
         "domain": [
          0.52,
          0.74
         ],
         "matches": "x",
         "showticklabels": false
        },
        "xaxis8": {
         "anchor": "y8",
         "domain": [
          0.78,
          1
         ],
         "matches": "x",
         "showticklabels": false
        },
        "xaxis9": {
         "anchor": "y9",
         "domain": [
          0,
          0.22
         ],
         "matches": "x",
         "showticklabels": false
        },
        "yaxis": {
         "anchor": "x",
         "domain": [
          0,
          0.10857142857142857
         ],
         "title": {
          "text": "RATE"
         }
        },
        "yaxis10": {
         "anchor": "x10",
         "domain": [
          0.29714285714285715,
          0.4057142857142857
         ],
         "matches": "y",
         "showticklabels": false
        },
        "yaxis11": {
         "anchor": "x11",
         "domain": [
          0.29714285714285715,
          0.4057142857142857
         ],
         "matches": "y",
         "showticklabels": false
        },
        "yaxis12": {
         "anchor": "x12",
         "domain": [
          0.29714285714285715,
          0.4057142857142857
         ],
         "matches": "y",
         "showticklabels": false
        },
        "yaxis13": {
         "anchor": "x13",
         "domain": [
          0.44571428571428573,
          0.5542857142857143
         ],
         "matches": "y",
         "title": {
          "text": "RATE"
         }
        },
        "yaxis14": {
         "anchor": "x14",
         "domain": [
          0.44571428571428573,
          0.5542857142857143
         ],
         "matches": "y",
         "showticklabels": false
        },
        "yaxis15": {
         "anchor": "x15",
         "domain": [
          0.44571428571428573,
          0.5542857142857143
         ],
         "matches": "y",
         "showticklabels": false
        },
        "yaxis16": {
         "anchor": "x16",
         "domain": [
          0.44571428571428573,
          0.5542857142857143
         ],
         "matches": "y",
         "showticklabels": false
        },
        "yaxis17": {
         "anchor": "x17",
         "domain": [
          0.5942857142857143,
          0.7028571428571428
         ],
         "matches": "y",
         "title": {
          "text": "RATE"
         }
        },
        "yaxis18": {
         "anchor": "x18",
         "domain": [
          0.5942857142857143,
          0.7028571428571428
         ],
         "matches": "y",
         "showticklabels": false
        },
        "yaxis19": {
         "anchor": "x19",
         "domain": [
          0.5942857142857143,
          0.7028571428571428
         ],
         "matches": "y",
         "showticklabels": false
        },
        "yaxis2": {
         "anchor": "x2",
         "domain": [
          0,
          0.10857142857142857
         ],
         "matches": "y",
         "showticklabels": false
        },
        "yaxis20": {
         "anchor": "x20",
         "domain": [
          0.5942857142857143,
          0.7028571428571428
         ],
         "matches": "y",
         "showticklabels": false
        },
        "yaxis21": {
         "anchor": "x21",
         "domain": [
          0.7428571428571429,
          0.8514285714285714
         ],
         "matches": "y",
         "title": {
          "text": "RATE"
         }
        },
        "yaxis22": {
         "anchor": "x22",
         "domain": [
          0.7428571428571429,
          0.8514285714285714
         ],
         "matches": "y",
         "showticklabels": false
        },
        "yaxis23": {
         "anchor": "x23",
         "domain": [
          0.7428571428571429,
          0.8514285714285714
         ],
         "matches": "y",
         "showticklabels": false
        },
        "yaxis24": {
         "anchor": "x24",
         "domain": [
          0.7428571428571429,
          0.8514285714285714
         ],
         "matches": "y",
         "showticklabels": false
        },
        "yaxis25": {
         "anchor": "x25",
         "domain": [
          0.8914285714285713,
          0.9999999999999999
         ],
         "matches": "y",
         "title": {
          "text": "RATE"
         }
        },
        "yaxis26": {
         "anchor": "x26",
         "domain": [
          0.8914285714285713,
          0.9999999999999999
         ],
         "matches": "y",
         "showticklabels": false
        },
        "yaxis27": {
         "anchor": "x27",
         "domain": [
          0.8914285714285713,
          0.9999999999999999
         ],
         "matches": "y",
         "showticklabels": false
        },
        "yaxis28": {
         "anchor": "x28",
         "domain": [
          0.8914285714285713,
          0.9999999999999999
         ],
         "matches": "y",
         "showticklabels": false
        },
        "yaxis3": {
         "anchor": "x3",
         "domain": [
          0,
          0.10857142857142857
         ],
         "matches": "y",
         "showticklabels": false
        },
        "yaxis4": {
         "anchor": "x4",
         "domain": [
          0,
          0.10857142857142857
         ],
         "matches": "y",
         "showticklabels": false
        },
        "yaxis5": {
         "anchor": "x5",
         "domain": [
          0.14857142857142858,
          0.2571428571428571
         ],
         "matches": "y",
         "title": {
          "text": "RATE"
         }
        },
        "yaxis6": {
         "anchor": "x6",
         "domain": [
          0.14857142857142858,
          0.2571428571428571
         ],
         "matches": "y",
         "showticklabels": false
        },
        "yaxis7": {
         "anchor": "x7",
         "domain": [
          0.14857142857142858,
          0.2571428571428571
         ],
         "matches": "y",
         "showticklabels": false
        },
        "yaxis8": {
         "anchor": "x8",
         "domain": [
          0.14857142857142858,
          0.2571428571428571
         ],
         "matches": "y",
         "showticklabels": false
        },
        "yaxis9": {
         "anchor": "x9",
         "domain": [
          0.29714285714285715,
          0.4057142857142857
         ],
         "matches": "y",
         "title": {
          "text": "RATE"
         }
        }
       }
      },
      "text/html": [
       "<div>                            <div id=\"7e234618-1c2b-4492-9b37-a261d0ebcbd2\" class=\"plotly-graph-div\" style=\"height:1000px; width:1000px;\"></div>            <script type=\"text/javascript\">                require([\"plotly\"], function(Plotly) {                    window.PLOTLYENV=window.PLOTLYENV || {};                                    if (document.getElementById(\"7e234618-1c2b-4492-9b37-a261d0ebcbd2\")) {                    Plotly.newPlot(                        \"7e234618-1c2b-4492-9b37-a261d0ebcbd2\",                        [{\"hovertemplate\": \"COUNTRY_ID=BE<br>YEAR=%{x}<br>RATE=%{y}<extra></extra>\", \"legendgroup\": \"\", \"line\": {\"color\": \"#FF0000\"}, \"marker\": {\"color\": \"#FF0000\", \"symbol\": \"circle\"}, \"mode\": \"lines+markers\", \"name\": \"\", \"orientation\": \"v\", \"showlegend\": false, \"type\": \"scatter\", \"x\": [2014, 2019], \"xaxis\": \"x25\", \"y\": [89.64, 89.0], \"yaxis\": \"y25\"}, {\"hovertemplate\": \"COUNTRY_ID=DK<br>YEAR=%{x}<br>RATE=%{y}<extra></extra>\", \"legendgroup\": \"\", \"line\": {\"color\": \"#FF0000\"}, \"marker\": {\"color\": \"#FF0000\", \"symbol\": \"circle\"}, \"mode\": \"lines+markers\", \"name\": \"\", \"orientation\": \"v\", \"showlegend\": false, \"type\": \"scatter\", \"x\": [2014, 2019], \"xaxis\": \"x26\", \"y\": [56.32, 66.0], \"yaxis\": \"y26\"}, {\"hovertemplate\": \"COUNTRY_ID=DE<br>YEAR=%{x}<br>RATE=%{y}<extra></extra>\", \"legendgroup\": \"\", \"line\": {\"color\": \"#FF0000\"}, \"marker\": {\"color\": \"#FF0000\", \"symbol\": \"circle\"}, \"mode\": \"lines+markers\", \"name\": \"\", \"orientation\": \"v\", \"showlegend\": false, \"type\": \"scatter\", \"x\": [2014, 2019], \"xaxis\": \"x27\", \"y\": [48.1, 61.5], \"yaxis\": \"y27\"}, {\"hovertemplate\": \"COUNTRY_ID=IE<br>YEAR=%{x}<br>RATE=%{y}<extra></extra>\", \"legendgroup\": \"\", \"line\": {\"color\": \"#FF0000\"}, \"marker\": {\"color\": \"#FF0000\", \"symbol\": \"circle\"}, \"mode\": \"lines+markers\", \"name\": \"\", \"orientation\": \"v\", \"showlegend\": false, \"type\": \"scatter\", \"x\": [2014, 2019], \"xaxis\": \"x28\", \"y\": [52.44, 49.3], \"yaxis\": \"y28\"}, {\"hovertemplate\": \"COUNTRY_ID=FR<br>YEAR=%{x}<br>RATE=%{y}<extra></extra>\", \"legendgroup\": \"\", \"line\": {\"color\": \"#FF0000\"}, \"marker\": {\"color\": \"#FF0000\", \"symbol\": \"circle\"}, \"mode\": \"lines+markers\", \"name\": \"\", \"orientation\": \"v\", \"showlegend\": false, \"type\": \"scatter\", \"x\": [2014, 2019], \"xaxis\": \"x21\", \"y\": [42.43, 50.97], \"yaxis\": \"y21\"}, {\"hovertemplate\": \"COUNTRY_ID=IT<br>YEAR=%{x}<br>RATE=%{y}<extra></extra>\", \"legendgroup\": \"\", \"line\": {\"color\": \"#FF0000\"}, \"marker\": {\"color\": \"#FF0000\", \"symbol\": \"circle\"}, \"mode\": \"lines+markers\", \"name\": \"\", \"orientation\": \"v\", \"showlegend\": false, \"type\": \"scatter\", \"x\": [2014, 2019], \"xaxis\": \"x22\", \"y\": [57.22, 56.09], \"yaxis\": \"y22\"}, {\"hovertemplate\": \"COUNTRY_ID=LU<br>YEAR=%{x}<br>RATE=%{y}<extra></extra>\", \"legendgroup\": \"\", \"line\": {\"color\": \"#FF0000\"}, \"marker\": {\"color\": \"#FF0000\", \"symbol\": \"circle\"}, \"mode\": \"lines+markers\", \"name\": \"\", \"orientation\": \"v\", \"showlegend\": false, \"type\": \"scatter\", \"x\": [2014, 2019], \"xaxis\": \"x23\", \"y\": [85.55, 84.1], \"yaxis\": \"y23\"}, {\"hovertemplate\": \"COUNTRY_ID=NL<br>YEAR=%{x}<br>RATE=%{y}<extra></extra>\", \"legendgroup\": \"\", \"line\": {\"color\": \"#FF0000\"}, \"marker\": {\"color\": \"#FF0000\", \"symbol\": \"circle\"}, \"mode\": \"lines+markers\", \"name\": \"\", \"orientation\": \"v\", \"showlegend\": false, \"type\": \"scatter\", \"x\": [2014, 2019], \"xaxis\": \"x24\", \"y\": [37.32, 41.8], \"yaxis\": \"y24\"}, {\"hovertemplate\": \"COUNTRY_ID=UK<br>YEAR=%{x}<br>RATE=%{y}<extra></extra>\", \"legendgroup\": \"\", \"line\": {\"color\": \"#FF0000\"}, \"marker\": {\"color\": \"#FF0000\", \"symbol\": \"circle\"}, \"mode\": \"lines+markers\", \"name\": \"\", \"orientation\": \"v\", \"showlegend\": false, \"type\": \"scatter\", \"x\": [2014, 2019], \"xaxis\": \"x17\", \"y\": [35.6, 37.0], \"yaxis\": \"y17\"}, {\"hovertemplate\": \"COUNTRY_ID=EL<br>YEAR=%{x}<br>RATE=%{y}<extra></extra>\", \"legendgroup\": \"\", \"line\": {\"color\": \"#FF0000\"}, \"marker\": {\"color\": \"#FF0000\", \"symbol\": \"circle\"}, \"mode\": \"lines+markers\", \"name\": \"\", \"orientation\": \"v\", \"showlegend\": false, \"type\": \"scatter\", \"x\": [2014, 2019], \"xaxis\": \"x18\", \"y\": [59.97, 57.86], \"yaxis\": \"y18\"}, {\"hovertemplate\": \"COUNTRY_ID=ES<br>YEAR=%{x}<br>RATE=%{y}<extra></extra>\", \"legendgroup\": \"\", \"line\": {\"color\": \"#FF0000\"}, \"marker\": {\"color\": \"#FF0000\", \"symbol\": \"circle\"}, \"mode\": \"lines+markers\", \"name\": \"\", \"orientation\": \"v\", \"showlegend\": false, \"type\": \"scatter\", \"x\": [2014, 2019], \"xaxis\": \"x19\", \"y\": [43.81, 64.32], \"yaxis\": \"y19\"}, {\"hovertemplate\": \"COUNTRY_ID=PT<br>YEAR=%{x}<br>RATE=%{y}<extra></extra>\", \"legendgroup\": \"\", \"line\": {\"color\": \"#FF0000\"}, \"marker\": {\"color\": \"#FF0000\", \"symbol\": \"circle\"}, \"mode\": \"lines+markers\", \"name\": \"\", \"orientation\": \"v\", \"showlegend\": false, \"type\": \"scatter\", \"x\": [2014, 2019], \"xaxis\": \"x20\", \"y\": [33.67, 31.01], \"yaxis\": \"y20\"}, {\"hovertemplate\": \"COUNTRY_ID=SE<br>YEAR=%{x}<br>RATE=%{y}<extra></extra>\", \"legendgroup\": \"\", \"line\": {\"color\": \"#FF0000\"}, \"marker\": {\"color\": \"#FF0000\", \"symbol\": \"circle\"}, \"mode\": \"lines+markers\", \"name\": \"\", \"orientation\": \"v\", \"showlegend\": false, \"type\": \"scatter\", \"x\": [2014, 2019], \"xaxis\": \"x13\", \"y\": [51.07, 53.3], \"yaxis\": \"y13\"}, {\"hovertemplate\": \"COUNTRY_ID=AT<br>YEAR=%{x}<br>RATE=%{y}<extra></extra>\", \"legendgroup\": \"\", \"line\": {\"color\": \"#FF0000\"}, \"marker\": {\"color\": \"#FF0000\", \"symbol\": \"circle\"}, \"mode\": \"lines+markers\", \"name\": \"\", \"orientation\": \"v\", \"showlegend\": false, \"type\": \"scatter\", \"x\": [2014, 2019], \"xaxis\": \"x14\", \"y\": [45.39, 59.3], \"yaxis\": \"y14\"}, {\"hovertemplate\": \"COUNTRY_ID=FI<br>YEAR=%{x}<br>RATE=%{y}<extra></extra>\", \"legendgroup\": \"\", \"line\": {\"color\": \"#FF0000\"}, \"marker\": {\"color\": \"#FF0000\", \"symbol\": \"circle\"}, \"mode\": \"lines+markers\", \"name\": \"\", \"orientation\": \"v\", \"showlegend\": false, \"type\": \"scatter\", \"x\": [2014, 2019], \"xaxis\": \"x15\", \"y\": [39.1, 40.7], \"yaxis\": \"y15\"}, {\"hovertemplate\": \"COUNTRY_ID=CZ<br>YEAR=%{x}<br>RATE=%{y}<extra></extra>\", \"legendgroup\": \"\", \"line\": {\"color\": \"#FF0000\"}, \"marker\": {\"color\": \"#FF0000\", \"symbol\": \"circle\"}, \"mode\": \"lines+markers\", \"name\": \"\", \"orientation\": \"v\", \"showlegend\": false, \"type\": \"scatter\", \"x\": [2014, 2019], \"xaxis\": \"x16\", \"y\": [18.2, 28.72], \"yaxis\": \"y16\"}, {\"hovertemplate\": \"COUNTRY_ID=EE<br>YEAR=%{x}<br>RATE=%{y}<extra></extra>\", \"legendgroup\": \"\", \"line\": {\"color\": \"#FF0000\"}, \"marker\": {\"color\": \"#FF0000\", \"symbol\": \"circle\"}, \"mode\": \"lines+markers\", \"name\": \"\", \"orientation\": \"v\", \"showlegend\": false, \"type\": \"scatter\", \"x\": [2014, 2019], \"xaxis\": \"x9\", \"y\": [36.52, 37.6], \"yaxis\": \"y9\"}, {\"hovertemplate\": \"COUNTRY_ID=CY<br>YEAR=%{x}<br>RATE=%{y}<extra></extra>\", \"legendgroup\": \"\", \"line\": {\"color\": \"#FF0000\"}, \"marker\": {\"color\": \"#FF0000\", \"symbol\": \"circle\"}, \"mode\": \"lines+markers\", \"name\": \"\", \"orientation\": \"v\", \"showlegend\": false, \"type\": \"scatter\", \"x\": [2014, 2019], \"xaxis\": \"x10\", \"y\": [43.97, 44.99], \"yaxis\": \"y10\"}, {\"hovertemplate\": \"COUNTRY_ID=LT<br>YEAR=%{x}<br>RATE=%{y}<extra></extra>\", \"legendgroup\": \"\", \"line\": {\"color\": \"#FF0000\"}, \"marker\": {\"color\": \"#FF0000\", \"symbol\": \"circle\"}, \"mode\": \"lines+markers\", \"name\": \"\", \"orientation\": \"v\", \"showlegend\": false, \"type\": \"scatter\", \"x\": [2014, 2019], \"xaxis\": \"x11\", \"y\": [47.35, 52.88], \"yaxis\": \"y11\"}, {\"hovertemplate\": \"COUNTRY_ID=LV<br>YEAR=%{x}<br>RATE=%{y}<extra></extra>\", \"legendgroup\": \"\", \"line\": {\"color\": \"#FF0000\"}, \"marker\": {\"color\": \"#FF0000\", \"symbol\": \"circle\"}, \"mode\": \"lines+markers\", \"name\": \"\", \"orientation\": \"v\", \"showlegend\": false, \"type\": \"scatter\", \"x\": [2014, 2019], \"xaxis\": \"x12\", \"y\": [30.24, 33.6], \"yaxis\": \"y12\"}, {\"hovertemplate\": \"COUNTRY_ID=HU<br>YEAR=%{x}<br>RATE=%{y}<extra></extra>\", \"legendgroup\": \"\", \"line\": {\"color\": \"#FF0000\"}, \"marker\": {\"color\": \"#FF0000\", \"symbol\": \"circle\"}, \"mode\": \"lines+markers\", \"name\": \"\", \"orientation\": \"v\", \"showlegend\": false, \"type\": \"scatter\", \"x\": [2014, 2019], \"xaxis\": \"x5\", \"y\": [28.97, 43.36], \"yaxis\": \"y5\"}, {\"hovertemplate\": \"COUNTRY_ID=MT<br>YEAR=%{x}<br>RATE=%{y}<extra></extra>\", \"legendgroup\": \"\", \"line\": {\"color\": \"#FF0000\"}, \"marker\": {\"color\": \"#FF0000\", \"symbol\": \"circle\"}, \"mode\": \"lines+markers\", \"name\": \"\", \"orientation\": \"v\", \"showlegend\": false, \"type\": \"scatter\", \"x\": [2014, 2019], \"xaxis\": \"x6\", \"y\": [74.8, 72.6], \"yaxis\": \"y6\"}, {\"hovertemplate\": \"COUNTRY_ID=PL<br>YEAR=%{x}<br>RATE=%{y}<extra></extra>\", \"legendgroup\": \"\", \"line\": {\"color\": \"#FF0000\"}, \"marker\": {\"color\": \"#FF0000\", \"symbol\": \"circle\"}, \"mode\": \"lines+markers\", \"name\": \"\", \"orientation\": \"v\", \"showlegend\": false, \"type\": \"scatter\", \"x\": [2014, 2019], \"xaxis\": \"x7\", \"y\": [23.83, 43.0], \"yaxis\": \"y7\"}, {\"hovertemplate\": \"COUNTRY_ID=SI<br>YEAR=%{x}<br>RATE=%{y}<extra></extra>\", \"legendgroup\": \"\", \"line\": {\"color\": \"#FF0000\"}, \"marker\": {\"color\": \"#FF0000\", \"symbol\": \"circle\"}, \"mode\": \"lines+markers\", \"name\": \"\", \"orientation\": \"v\", \"showlegend\": false, \"type\": \"scatter\", \"x\": [2014, 2019], \"xaxis\": \"x8\", \"y\": [24.55, 28.29], \"yaxis\": \"y8\"}, {\"hovertemplate\": \"COUNTRY_ID=SK<br>YEAR=%{x}<br>RATE=%{y}<extra></extra>\", \"legendgroup\": \"\", \"line\": {\"color\": \"#FF0000\"}, \"marker\": {\"color\": \"#FF0000\", \"symbol\": \"circle\"}, \"mode\": \"lines+markers\", \"name\": \"\", \"orientation\": \"v\", \"showlegend\": false, \"type\": \"scatter\", \"x\": [2014, 2019], \"xaxis\": \"x\", \"y\": [13.05, 22.74], \"yaxis\": \"y\"}, {\"hovertemplate\": \"COUNTRY_ID=BG<br>YEAR=%{x}<br>RATE=%{y}<extra></extra>\", \"legendgroup\": \"\", \"line\": {\"color\": \"#FF0000\"}, \"marker\": {\"color\": \"#FF0000\", \"symbol\": \"circle\"}, \"mode\": \"lines+markers\", \"name\": \"\", \"orientation\": \"v\", \"showlegend\": false, \"type\": \"scatter\", \"x\": [2014, 2019], \"xaxis\": \"x2\", \"y\": [35.84, 30.83], \"yaxis\": \"y2\"}, {\"hovertemplate\": \"COUNTRY_ID=RO<br>YEAR=%{x}<br>RATE=%{y}<extra></extra>\", \"legendgroup\": \"\", \"line\": {\"color\": \"#FF0000\"}, \"marker\": {\"color\": \"#FF0000\", \"symbol\": \"circle\"}, \"mode\": \"lines+markers\", \"name\": \"\", \"orientation\": \"v\", \"showlegend\": false, \"type\": \"scatter\", \"x\": [2014, 2019], \"xaxis\": \"x3\", \"y\": [32.44, 49.02], \"yaxis\": \"y3\"}, {\"hovertemplate\": \"COUNTRY_ID=HR<br>YEAR=%{x}<br>RATE=%{y}<extra></extra>\", \"legendgroup\": \"\", \"line\": {\"color\": \"#FF0000\"}, \"marker\": {\"color\": \"#FF0000\", \"symbol\": \"circle\"}, \"mode\": \"lines+markers\", \"name\": \"\", \"orientation\": \"v\", \"showlegend\": false, \"type\": \"scatter\", \"x\": [2014, 2019], \"xaxis\": \"x4\", \"y\": [25.24, 29.65], \"yaxis\": \"y4\"}],                        {\"annotations\": [{\"font\": {}, \"showarrow\": false, \"text\": \"SK\", \"x\": 0.11, \"xanchor\": \"center\", \"xref\": \"paper\", \"y\": 0.10857142857142857, \"yanchor\": \"bottom\", \"yref\": \"paper\"}, {\"font\": {}, \"showarrow\": false, \"text\": \"BG\", \"x\": 0.37, \"xanchor\": \"center\", \"xref\": \"paper\", \"y\": 0.10857142857142857, \"yanchor\": \"bottom\", \"yref\": \"paper\"}, {\"font\": {}, \"showarrow\": false, \"text\": \"RO\", \"x\": 0.63, \"xanchor\": \"center\", \"xref\": \"paper\", \"y\": 0.10857142857142857, \"yanchor\": \"bottom\", \"yref\": \"paper\"}, {\"font\": {}, \"showarrow\": false, \"text\": \"HR\", \"x\": 0.89, \"xanchor\": \"center\", \"xref\": \"paper\", \"y\": 0.10857142857142857, \"yanchor\": \"bottom\", \"yref\": \"paper\"}, {\"font\": {}, \"showarrow\": false, \"text\": \"HU\", \"x\": 0.11, \"xanchor\": \"center\", \"xref\": \"paper\", \"y\": 0.2571428571428571, \"yanchor\": \"bottom\", \"yref\": \"paper\"}, {\"font\": {}, \"showarrow\": false, \"text\": \"MT\", \"x\": 0.37, \"xanchor\": \"center\", \"xref\": \"paper\", \"y\": 0.2571428571428571, \"yanchor\": \"bottom\", \"yref\": \"paper\"}, {\"font\": {}, \"showarrow\": false, \"text\": \"PL\", \"x\": 0.63, \"xanchor\": \"center\", \"xref\": \"paper\", \"y\": 0.2571428571428571, \"yanchor\": \"bottom\", \"yref\": \"paper\"}, {\"font\": {}, \"showarrow\": false, \"text\": \"SI\", \"x\": 0.89, \"xanchor\": \"center\", \"xref\": \"paper\", \"y\": 0.2571428571428571, \"yanchor\": \"bottom\", \"yref\": \"paper\"}, {\"font\": {}, \"showarrow\": false, \"text\": \"EE\", \"x\": 0.11, \"xanchor\": \"center\", \"xref\": \"paper\", \"y\": 0.4057142857142857, \"yanchor\": \"bottom\", \"yref\": \"paper\"}, {\"font\": {}, \"showarrow\": false, \"text\": \"CY\", \"x\": 0.37, \"xanchor\": \"center\", \"xref\": \"paper\", \"y\": 0.4057142857142857, \"yanchor\": \"bottom\", \"yref\": \"paper\"}, {\"font\": {}, \"showarrow\": false, \"text\": \"LT\", \"x\": 0.63, \"xanchor\": \"center\", \"xref\": \"paper\", \"y\": 0.4057142857142857, \"yanchor\": \"bottom\", \"yref\": \"paper\"}, {\"font\": {}, \"showarrow\": false, \"text\": \"LV\", \"x\": 0.89, \"xanchor\": \"center\", \"xref\": \"paper\", \"y\": 0.4057142857142857, \"yanchor\": \"bottom\", \"yref\": \"paper\"}, {\"font\": {}, \"showarrow\": false, \"text\": \"SE\", \"x\": 0.11, \"xanchor\": \"center\", \"xref\": \"paper\", \"y\": 0.5542857142857143, \"yanchor\": \"bottom\", \"yref\": \"paper\"}, {\"font\": {}, \"showarrow\": false, \"text\": \"AT\", \"x\": 0.37, \"xanchor\": \"center\", \"xref\": \"paper\", \"y\": 0.5542857142857143, \"yanchor\": \"bottom\", \"yref\": \"paper\"}, {\"font\": {}, \"showarrow\": false, \"text\": \"FI\", \"x\": 0.63, \"xanchor\": \"center\", \"xref\": \"paper\", \"y\": 0.5542857142857143, \"yanchor\": \"bottom\", \"yref\": \"paper\"}, {\"font\": {}, \"showarrow\": false, \"text\": \"CZ\", \"x\": 0.89, \"xanchor\": \"center\", \"xref\": \"paper\", \"y\": 0.5542857142857143, \"yanchor\": \"bottom\", \"yref\": \"paper\"}, {\"font\": {}, \"showarrow\": false, \"text\": \"UK\", \"x\": 0.11, \"xanchor\": \"center\", \"xref\": \"paper\", \"y\": 0.7028571428571428, \"yanchor\": \"bottom\", \"yref\": \"paper\"}, {\"font\": {}, \"showarrow\": false, \"text\": \"EL\", \"x\": 0.37, \"xanchor\": \"center\", \"xref\": \"paper\", \"y\": 0.7028571428571428, \"yanchor\": \"bottom\", \"yref\": \"paper\"}, {\"font\": {}, \"showarrow\": false, \"text\": \"ES\", \"x\": 0.63, \"xanchor\": \"center\", \"xref\": \"paper\", \"y\": 0.7028571428571428, \"yanchor\": \"bottom\", \"yref\": \"paper\"}, {\"font\": {}, \"showarrow\": false, \"text\": \"PT\", \"x\": 0.89, \"xanchor\": \"center\", \"xref\": \"paper\", \"y\": 0.7028571428571428, \"yanchor\": \"bottom\", \"yref\": \"paper\"}, {\"font\": {}, \"showarrow\": false, \"text\": \"FR\", \"x\": 0.11, \"xanchor\": \"center\", \"xref\": \"paper\", \"y\": 0.8514285714285714, \"yanchor\": \"bottom\", \"yref\": \"paper\"}, {\"font\": {}, \"showarrow\": false, \"text\": \"IT\", \"x\": 0.37, \"xanchor\": \"center\", \"xref\": \"paper\", \"y\": 0.8514285714285714, \"yanchor\": \"bottom\", \"yref\": \"paper\"}, {\"font\": {}, \"showarrow\": false, \"text\": \"LU\", \"x\": 0.63, \"xanchor\": \"center\", \"xref\": \"paper\", \"y\": 0.8514285714285714, \"yanchor\": \"bottom\", \"yref\": \"paper\"}, {\"font\": {}, \"showarrow\": false, \"text\": \"NL\", \"x\": 0.89, \"xanchor\": \"center\", \"xref\": \"paper\", \"y\": 0.8514285714285714, \"yanchor\": \"bottom\", \"yref\": \"paper\"}, {\"font\": {}, \"showarrow\": false, \"text\": \"BE\", \"x\": 0.11, \"xanchor\": \"center\", \"xref\": \"paper\", \"y\": 0.9999999999999999, \"yanchor\": \"bottom\", \"yref\": \"paper\"}, {\"font\": {}, \"showarrow\": false, \"text\": \"DK\", \"x\": 0.37, \"xanchor\": \"center\", \"xref\": \"paper\", \"y\": 0.9999999999999999, \"yanchor\": \"bottom\", \"yref\": \"paper\"}, {\"font\": {}, \"showarrow\": false, \"text\": \"DE\", \"x\": 0.63, \"xanchor\": \"center\", \"xref\": \"paper\", \"y\": 0.9999999999999999, \"yanchor\": \"bottom\", \"yref\": \"paper\"}, {\"font\": {}, \"showarrow\": false, \"text\": \"IE\", \"x\": 0.89, \"xanchor\": \"center\", \"xref\": \"paper\", \"y\": 0.9999999999999999, \"yanchor\": \"bottom\", \"yref\": \"paper\"}], \"height\": 1000, \"legend\": {\"tracegroupgap\": 0}, \"template\": {\"data\": {\"bar\": [{\"error_x\": {\"color\": \"#2a3f5f\"}, \"error_y\": {\"color\": \"#2a3f5f\"}, \"marker\": {\"line\": {\"color\": \"#E5ECF6\", \"width\": 0.5}}, \"type\": \"bar\"}], \"barpolar\": [{\"marker\": {\"line\": {\"color\": \"#E5ECF6\", \"width\": 0.5}}, \"type\": \"barpolar\"}], \"carpet\": [{\"aaxis\": {\"endlinecolor\": \"#2a3f5f\", \"gridcolor\": \"white\", \"linecolor\": \"white\", \"minorgridcolor\": \"white\", \"startlinecolor\": \"#2a3f5f\"}, \"baxis\": {\"endlinecolor\": \"#2a3f5f\", \"gridcolor\": \"white\", \"linecolor\": \"white\", \"minorgridcolor\": \"white\", \"startlinecolor\": \"#2a3f5f\"}, \"type\": \"carpet\"}], \"choropleth\": [{\"colorbar\": {\"outlinewidth\": 0, \"ticks\": \"\"}, \"type\": \"choropleth\"}], \"contour\": [{\"colorbar\": {\"outlinewidth\": 0, \"ticks\": \"\"}, \"colorscale\": [[0.0, \"#0d0887\"], [0.1111111111111111, \"#46039f\"], [0.2222222222222222, \"#7201a8\"], [0.3333333333333333, \"#9c179e\"], [0.4444444444444444, \"#bd3786\"], [0.5555555555555556, \"#d8576b\"], [0.6666666666666666, \"#ed7953\"], [0.7777777777777778, \"#fb9f3a\"], [0.8888888888888888, \"#fdca26\"], [1.0, \"#f0f921\"]], \"type\": \"contour\"}], \"contourcarpet\": [{\"colorbar\": {\"outlinewidth\": 0, \"ticks\": \"\"}, \"type\": \"contourcarpet\"}], \"heatmap\": [{\"colorbar\": {\"outlinewidth\": 0, \"ticks\": \"\"}, \"colorscale\": [[0.0, \"#0d0887\"], [0.1111111111111111, \"#46039f\"], [0.2222222222222222, \"#7201a8\"], [0.3333333333333333, \"#9c179e\"], [0.4444444444444444, \"#bd3786\"], [0.5555555555555556, \"#d8576b\"], [0.6666666666666666, \"#ed7953\"], [0.7777777777777778, \"#fb9f3a\"], [0.8888888888888888, \"#fdca26\"], [1.0, \"#f0f921\"]], \"type\": \"heatmap\"}], \"heatmapgl\": [{\"colorbar\": {\"outlinewidth\": 0, \"ticks\": \"\"}, \"colorscale\": [[0.0, \"#0d0887\"], [0.1111111111111111, \"#46039f\"], [0.2222222222222222, \"#7201a8\"], [0.3333333333333333, \"#9c179e\"], [0.4444444444444444, \"#bd3786\"], [0.5555555555555556, \"#d8576b\"], [0.6666666666666666, \"#ed7953\"], [0.7777777777777778, \"#fb9f3a\"], [0.8888888888888888, \"#fdca26\"], [1.0, \"#f0f921\"]], \"type\": \"heatmapgl\"}], \"histogram\": [{\"marker\": {\"colorbar\": {\"outlinewidth\": 0, \"ticks\": \"\"}}, \"type\": \"histogram\"}], \"histogram2d\": [{\"colorbar\": {\"outlinewidth\": 0, \"ticks\": \"\"}, \"colorscale\": [[0.0, \"#0d0887\"], [0.1111111111111111, \"#46039f\"], [0.2222222222222222, \"#7201a8\"], [0.3333333333333333, \"#9c179e\"], [0.4444444444444444, \"#bd3786\"], [0.5555555555555556, \"#d8576b\"], [0.6666666666666666, \"#ed7953\"], [0.7777777777777778, \"#fb9f3a\"], [0.8888888888888888, \"#fdca26\"], [1.0, \"#f0f921\"]], \"type\": \"histogram2d\"}], \"histogram2dcontour\": [{\"colorbar\": {\"outlinewidth\": 0, \"ticks\": \"\"}, \"colorscale\": [[0.0, \"#0d0887\"], [0.1111111111111111, \"#46039f\"], [0.2222222222222222, \"#7201a8\"], [0.3333333333333333, \"#9c179e\"], [0.4444444444444444, \"#bd3786\"], [0.5555555555555556, \"#d8576b\"], [0.6666666666666666, \"#ed7953\"], [0.7777777777777778, \"#fb9f3a\"], [0.8888888888888888, \"#fdca26\"], [1.0, \"#f0f921\"]], \"type\": \"histogram2dcontour\"}], \"mesh3d\": [{\"colorbar\": {\"outlinewidth\": 0, \"ticks\": \"\"}, \"type\": \"mesh3d\"}], \"parcoords\": [{\"line\": {\"colorbar\": {\"outlinewidth\": 0, \"ticks\": \"\"}}, \"type\": \"parcoords\"}], \"pie\": [{\"automargin\": true, \"type\": \"pie\"}], \"scatter\": [{\"marker\": {\"colorbar\": {\"outlinewidth\": 0, \"ticks\": \"\"}}, \"type\": \"scatter\"}], \"scatter3d\": [{\"line\": {\"colorbar\": {\"outlinewidth\": 0, \"ticks\": \"\"}}, \"marker\": {\"colorbar\": {\"outlinewidth\": 0, \"ticks\": \"\"}}, \"type\": \"scatter3d\"}], \"scattercarpet\": [{\"marker\": {\"colorbar\": {\"outlinewidth\": 0, \"ticks\": \"\"}}, \"type\": \"scattercarpet\"}], \"scattergeo\": [{\"marker\": {\"colorbar\": {\"outlinewidth\": 0, \"ticks\": \"\"}}, \"type\": \"scattergeo\"}], \"scattergl\": [{\"marker\": {\"colorbar\": {\"outlinewidth\": 0, \"ticks\": \"\"}}, \"type\": \"scattergl\"}], \"scattermapbox\": [{\"marker\": {\"colorbar\": {\"outlinewidth\": 0, \"ticks\": \"\"}}, \"type\": \"scattermapbox\"}], \"scatterpolar\": [{\"marker\": {\"colorbar\": {\"outlinewidth\": 0, \"ticks\": \"\"}}, \"type\": \"scatterpolar\"}], \"scatterpolargl\": [{\"marker\": {\"colorbar\": {\"outlinewidth\": 0, \"ticks\": \"\"}}, \"type\": \"scatterpolargl\"}], \"scatterternary\": [{\"marker\": {\"colorbar\": {\"outlinewidth\": 0, \"ticks\": \"\"}}, \"type\": \"scatterternary\"}], \"surface\": [{\"colorbar\": {\"outlinewidth\": 0, \"ticks\": \"\"}, \"colorscale\": [[0.0, \"#0d0887\"], [0.1111111111111111, \"#46039f\"], [0.2222222222222222, \"#7201a8\"], [0.3333333333333333, \"#9c179e\"], [0.4444444444444444, \"#bd3786\"], [0.5555555555555556, \"#d8576b\"], [0.6666666666666666, \"#ed7953\"], [0.7777777777777778, \"#fb9f3a\"], [0.8888888888888888, \"#fdca26\"], [1.0, \"#f0f921\"]], \"type\": \"surface\"}], \"table\": [{\"cells\": {\"fill\": {\"color\": \"#EBF0F8\"}, \"line\": {\"color\": \"white\"}}, \"header\": {\"fill\": {\"color\": \"#C8D4E3\"}, \"line\": {\"color\": \"white\"}}, \"type\": \"table\"}]}, \"layout\": {\"annotationdefaults\": {\"arrowcolor\": \"#2a3f5f\", \"arrowhead\": 0, \"arrowwidth\": 1}, \"autotypenumbers\": \"strict\", \"coloraxis\": {\"colorbar\": {\"outlinewidth\": 0, \"ticks\": \"\"}}, \"colorscale\": {\"diverging\": [[0, \"#8e0152\"], [0.1, \"#c51b7d\"], [0.2, \"#de77ae\"], [0.3, \"#f1b6da\"], [0.4, \"#fde0ef\"], [0.5, \"#f7f7f7\"], [0.6, \"#e6f5d0\"], [0.7, \"#b8e186\"], [0.8, \"#7fbc41\"], [0.9, \"#4d9221\"], [1, \"#276419\"]], \"sequential\": [[0.0, \"#0d0887\"], [0.1111111111111111, \"#46039f\"], [0.2222222222222222, \"#7201a8\"], [0.3333333333333333, \"#9c179e\"], [0.4444444444444444, \"#bd3786\"], [0.5555555555555556, \"#d8576b\"], [0.6666666666666666, \"#ed7953\"], [0.7777777777777778, \"#fb9f3a\"], [0.8888888888888888, \"#fdca26\"], [1.0, \"#f0f921\"]], \"sequentialminus\": [[0.0, \"#0d0887\"], [0.1111111111111111, \"#46039f\"], [0.2222222222222222, \"#7201a8\"], [0.3333333333333333, \"#9c179e\"], [0.4444444444444444, \"#bd3786\"], [0.5555555555555556, \"#d8576b\"], [0.6666666666666666, \"#ed7953\"], [0.7777777777777778, \"#fb9f3a\"], [0.8888888888888888, \"#fdca26\"], [1.0, \"#f0f921\"]]}, \"colorway\": [\"#636efa\", \"#EF553B\", \"#00cc96\", \"#ab63fa\", \"#FFA15A\", \"#19d3f3\", \"#FF6692\", \"#B6E880\", \"#FF97FF\", \"#FECB52\"], \"font\": {\"color\": \"#2a3f5f\"}, \"geo\": {\"bgcolor\": \"white\", \"lakecolor\": \"white\", \"landcolor\": \"#E5ECF6\", \"showlakes\": true, \"showland\": true, \"subunitcolor\": \"white\"}, \"hoverlabel\": {\"align\": \"left\"}, \"hovermode\": \"closest\", \"mapbox\": {\"style\": \"light\"}, \"paper_bgcolor\": \"white\", \"plot_bgcolor\": \"#E5ECF6\", \"polar\": {\"angularaxis\": {\"gridcolor\": \"white\", \"linecolor\": \"white\", \"ticks\": \"\"}, \"bgcolor\": \"#E5ECF6\", \"radialaxis\": {\"gridcolor\": \"white\", \"linecolor\": \"white\", \"ticks\": \"\"}}, \"scene\": {\"xaxis\": {\"backgroundcolor\": \"#E5ECF6\", \"gridcolor\": \"white\", \"gridwidth\": 2, \"linecolor\": \"white\", \"showbackground\": true, \"ticks\": \"\", \"zerolinecolor\": \"white\"}, \"yaxis\": {\"backgroundcolor\": \"#E5ECF6\", \"gridcolor\": \"white\", \"gridwidth\": 2, \"linecolor\": \"white\", \"showbackground\": true, \"ticks\": \"\", \"zerolinecolor\": \"white\"}, \"zaxis\": {\"backgroundcolor\": \"#E5ECF6\", \"gridcolor\": \"white\", \"gridwidth\": 2, \"linecolor\": \"white\", \"showbackground\": true, \"ticks\": \"\", \"zerolinecolor\": \"white\"}}, \"shapedefaults\": {\"line\": {\"color\": \"#2a3f5f\"}}, \"ternary\": {\"aaxis\": {\"gridcolor\": \"white\", \"linecolor\": \"white\", \"ticks\": \"\"}, \"baxis\": {\"gridcolor\": \"white\", \"linecolor\": \"white\", \"ticks\": \"\"}, \"bgcolor\": \"#E5ECF6\", \"caxis\": {\"gridcolor\": \"white\", \"linecolor\": \"white\", \"ticks\": \"\"}}, \"title\": {\"x\": 0.05}, \"xaxis\": {\"automargin\": true, \"gridcolor\": \"white\", \"linecolor\": \"white\", \"ticks\": \"\", \"title\": {\"standoff\": 15}, \"zerolinecolor\": \"white\", \"zerolinewidth\": 2}, \"yaxis\": {\"automargin\": true, \"gridcolor\": \"white\", \"linecolor\": \"white\", \"ticks\": \"\", \"title\": {\"standoff\": 15}, \"zerolinecolor\": \"white\", \"zerolinewidth\": 2}}}, \"title\": {\"text\": \"European elections: voter turnout 2014&2019\"}, \"width\": 1000, \"xaxis\": {\"anchor\": \"y\", \"domain\": [0.0, 0.22], \"title\": {\"text\": \"YEAR\"}}, \"xaxis10\": {\"anchor\": \"y10\", \"domain\": [0.26, 0.48], \"matches\": \"x\", \"showticklabels\": false}, \"xaxis11\": {\"anchor\": \"y11\", \"domain\": [0.52, 0.74], \"matches\": \"x\", \"showticklabels\": false}, \"xaxis12\": {\"anchor\": \"y12\", \"domain\": [0.78, 1.0], \"matches\": \"x\", \"showticklabels\": false}, \"xaxis13\": {\"anchor\": \"y13\", \"domain\": [0.0, 0.22], \"matches\": \"x\", \"showticklabels\": false}, \"xaxis14\": {\"anchor\": \"y14\", \"domain\": [0.26, 0.48], \"matches\": \"x\", \"showticklabels\": false}, \"xaxis15\": {\"anchor\": \"y15\", \"domain\": [0.52, 0.74], \"matches\": \"x\", \"showticklabels\": false}, \"xaxis16\": {\"anchor\": \"y16\", \"domain\": [0.78, 1.0], \"matches\": \"x\", \"showticklabels\": false}, \"xaxis17\": {\"anchor\": \"y17\", \"domain\": [0.0, 0.22], \"matches\": \"x\", \"showticklabels\": false}, \"xaxis18\": {\"anchor\": \"y18\", \"domain\": [0.26, 0.48], \"matches\": \"x\", \"showticklabels\": false}, \"xaxis19\": {\"anchor\": \"y19\", \"domain\": [0.52, 0.74], \"matches\": \"x\", \"showticklabels\": false}, \"xaxis2\": {\"anchor\": \"y2\", \"domain\": [0.26, 0.48], \"matches\": \"x\", \"title\": {\"text\": \"YEAR\"}}, \"xaxis20\": {\"anchor\": \"y20\", \"domain\": [0.78, 1.0], \"matches\": \"x\", \"showticklabels\": false}, \"xaxis21\": {\"anchor\": \"y21\", \"domain\": [0.0, 0.22], \"matches\": \"x\", \"showticklabels\": false}, \"xaxis22\": {\"anchor\": \"y22\", \"domain\": [0.26, 0.48], \"matches\": \"x\", \"showticklabels\": false}, \"xaxis23\": {\"anchor\": \"y23\", \"domain\": [0.52, 0.74], \"matches\": \"x\", \"showticklabels\": false}, \"xaxis24\": {\"anchor\": \"y24\", \"domain\": [0.78, 1.0], \"matches\": \"x\", \"showticklabels\": false}, \"xaxis25\": {\"anchor\": \"y25\", \"domain\": [0.0, 0.22], \"matches\": \"x\", \"showticklabels\": false}, \"xaxis26\": {\"anchor\": \"y26\", \"domain\": [0.26, 0.48], \"matches\": \"x\", \"showticklabels\": false}, \"xaxis27\": {\"anchor\": \"y27\", \"domain\": [0.52, 0.74], \"matches\": \"x\", \"showticklabels\": false}, \"xaxis28\": {\"anchor\": \"y28\", \"domain\": [0.78, 1.0], \"matches\": \"x\", \"showticklabels\": false}, \"xaxis3\": {\"anchor\": \"y3\", \"domain\": [0.52, 0.74], \"matches\": \"x\", \"title\": {\"text\": \"YEAR\"}}, \"xaxis4\": {\"anchor\": \"y4\", \"domain\": [0.78, 1.0], \"matches\": \"x\", \"title\": {\"text\": \"YEAR\"}}, \"xaxis5\": {\"anchor\": \"y5\", \"domain\": [0.0, 0.22], \"matches\": \"x\", \"showticklabels\": false}, \"xaxis6\": {\"anchor\": \"y6\", \"domain\": [0.26, 0.48], \"matches\": \"x\", \"showticklabels\": false}, \"xaxis7\": {\"anchor\": \"y7\", \"domain\": [0.52, 0.74], \"matches\": \"x\", \"showticklabels\": false}, \"xaxis8\": {\"anchor\": \"y8\", \"domain\": [0.78, 1.0], \"matches\": \"x\", \"showticklabels\": false}, \"xaxis9\": {\"anchor\": \"y9\", \"domain\": [0.0, 0.22], \"matches\": \"x\", \"showticklabels\": false}, \"yaxis\": {\"anchor\": \"x\", \"domain\": [0.0, 0.10857142857142857], \"title\": {\"text\": \"RATE\"}}, \"yaxis10\": {\"anchor\": \"x10\", \"domain\": [0.29714285714285715, 0.4057142857142857], \"matches\": \"y\", \"showticklabels\": false}, \"yaxis11\": {\"anchor\": \"x11\", \"domain\": [0.29714285714285715, 0.4057142857142857], \"matches\": \"y\", \"showticklabels\": false}, \"yaxis12\": {\"anchor\": \"x12\", \"domain\": [0.29714285714285715, 0.4057142857142857], \"matches\": \"y\", \"showticklabels\": false}, \"yaxis13\": {\"anchor\": \"x13\", \"domain\": [0.44571428571428573, 0.5542857142857143], \"matches\": \"y\", \"title\": {\"text\": \"RATE\"}}, \"yaxis14\": {\"anchor\": \"x14\", \"domain\": [0.44571428571428573, 0.5542857142857143], \"matches\": \"y\", \"showticklabels\": false}, \"yaxis15\": {\"anchor\": \"x15\", \"domain\": [0.44571428571428573, 0.5542857142857143], \"matches\": \"y\", \"showticklabels\": false}, \"yaxis16\": {\"anchor\": \"x16\", \"domain\": [0.44571428571428573, 0.5542857142857143], \"matches\": \"y\", \"showticklabels\": false}, \"yaxis17\": {\"anchor\": \"x17\", \"domain\": [0.5942857142857143, 0.7028571428571428], \"matches\": \"y\", \"title\": {\"text\": \"RATE\"}}, \"yaxis18\": {\"anchor\": \"x18\", \"domain\": [0.5942857142857143, 0.7028571428571428], \"matches\": \"y\", \"showticklabels\": false}, \"yaxis19\": {\"anchor\": \"x19\", \"domain\": [0.5942857142857143, 0.7028571428571428], \"matches\": \"y\", \"showticklabels\": false}, \"yaxis2\": {\"anchor\": \"x2\", \"domain\": [0.0, 0.10857142857142857], \"matches\": \"y\", \"showticklabels\": false}, \"yaxis20\": {\"anchor\": \"x20\", \"domain\": [0.5942857142857143, 0.7028571428571428], \"matches\": \"y\", \"showticklabels\": false}, \"yaxis21\": {\"anchor\": \"x21\", \"domain\": [0.7428571428571429, 0.8514285714285714], \"matches\": \"y\", \"title\": {\"text\": \"RATE\"}}, \"yaxis22\": {\"anchor\": \"x22\", \"domain\": [0.7428571428571429, 0.8514285714285714], \"matches\": \"y\", \"showticklabels\": false}, \"yaxis23\": {\"anchor\": \"x23\", \"domain\": [0.7428571428571429, 0.8514285714285714], \"matches\": \"y\", \"showticklabels\": false}, \"yaxis24\": {\"anchor\": \"x24\", \"domain\": [0.7428571428571429, 0.8514285714285714], \"matches\": \"y\", \"showticklabels\": false}, \"yaxis25\": {\"anchor\": \"x25\", \"domain\": [0.8914285714285713, 0.9999999999999999], \"matches\": \"y\", \"title\": {\"text\": \"RATE\"}}, \"yaxis26\": {\"anchor\": \"x26\", \"domain\": [0.8914285714285713, 0.9999999999999999], \"matches\": \"y\", \"showticklabels\": false}, \"yaxis27\": {\"anchor\": \"x27\", \"domain\": [0.8914285714285713, 0.9999999999999999], \"matches\": \"y\", \"showticklabels\": false}, \"yaxis28\": {\"anchor\": \"x28\", \"domain\": [0.8914285714285713, 0.9999999999999999], \"matches\": \"y\", \"showticklabels\": false}, \"yaxis3\": {\"anchor\": \"x3\", \"domain\": [0.0, 0.10857142857142857], \"matches\": \"y\", \"showticklabels\": false}, \"yaxis4\": {\"anchor\": \"x4\", \"domain\": [0.0, 0.10857142857142857], \"matches\": \"y\", \"showticklabels\": false}, \"yaxis5\": {\"anchor\": \"x5\", \"domain\": [0.14857142857142858, 0.2571428571428571], \"matches\": \"y\", \"title\": {\"text\": \"RATE\"}}, \"yaxis6\": {\"anchor\": \"x6\", \"domain\": [0.14857142857142858, 0.2571428571428571], \"matches\": \"y\", \"showticklabels\": false}, \"yaxis7\": {\"anchor\": \"x7\", \"domain\": [0.14857142857142858, 0.2571428571428571], \"matches\": \"y\", \"showticklabels\": false}, \"yaxis8\": {\"anchor\": \"x8\", \"domain\": [0.14857142857142858, 0.2571428571428571], \"matches\": \"y\", \"showticklabels\": false}, \"yaxis9\": {\"anchor\": \"x9\", \"domain\": [0.29714285714285715, 0.4057142857142857], \"matches\": \"y\", \"title\": {\"text\": \"RATE\"}}},                        {\"responsive\": true}                    ).then(function(){\n",
       "                            \n",
       "var gd = document.getElementById('7e234618-1c2b-4492-9b37-a261d0ebcbd2');\n",
       "var x = new MutationObserver(function (mutations, observer) {{\n",
       "        var display = window.getComputedStyle(gd).display;\n",
       "        if (!display || display === 'none') {{\n",
       "            console.log([gd, 'removed!']);\n",
       "            Plotly.purge(gd);\n",
       "            observer.disconnect();\n",
       "        }}\n",
       "}});\n",
       "\n",
       "// Listen for the removal of the full notebook cells\n",
       "var notebookContainer = gd.closest('#notebook-container');\n",
       "if (notebookContainer) {{\n",
       "    x.observe(notebookContainer, {childList: true});\n",
       "}}\n",
       "\n",
       "// Listen for the clearing of the current output cell\n",
       "var outputEl = gd.closest('.output');\n",
       "if (outputEl) {{\n",
       "    x.observe(outputEl, {childList: true});\n",
       "}}\n",
       "\n",
       "                        })                };                });            </script>        </div>"
      ]
     },
     "metadata": {},
     "output_type": "display_data"
    }
   ],
   "source": [
    " fig=px.scatter(turnout1419, x=\"YEAR\", y=\"RATE\",facet_col='COUNTRY_ID',facet_col_wrap=4,title='European elections: voter turnout 2014&2019',\n",
    "              facet_row_spacing=0.04, # default is 0.07 when facet_col_wrap is used\n",
    "              facet_col_spacing=0.04, # default is 0.03\n",
    "              height=1000, width=1000)\n",
    "fig.update_traces(mode='lines+markers',line_color='#FF0000',marker_color='#FF0000')\n",
    "#fig.update_xaxes(showticklabels=True)\n",
    "#fig.update_yaxes(showticklabels=True)\n",
    "fig.for_each_annotation(lambda a: a.update(text=a.text.split(\"=\")[-1]))      #to remove 'country id'\n",
    "fig.show()"
   ]
  }
 ],
 "metadata": {
  "kernelspec": {
   "display_name": "Python 3",
   "language": "python",
   "name": "python3"
  },
  "language_info": {
   "codemirror_mode": {
    "name": "ipython",
    "version": 3
   },
   "file_extension": ".py",
   "mimetype": "text/x-python",
   "name": "python",
   "nbconvert_exporter": "python",
   "pygments_lexer": "ipython3",
   "version": "3.8.5"
  }
 },
 "nbformat": 4,
 "nbformat_minor": 4
}
